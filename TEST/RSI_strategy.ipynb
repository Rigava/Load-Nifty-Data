{
 "cells": [
  {
   "cell_type": "markdown",
   "metadata": {},
   "source": [
    "### Brief Intro of Strategy \n",
    "Market- NSE NIFTY 50;\n",
    "Trend- Nify above the 200 SMA;\n",
    "Entry- 10 period RSI below 30( Buy on the next day opening price);\n",
    "Exit- 10 period RSI above 40 or after 10 trading days(Sell on next day opening price)\n",
    "Source-https://www.youtube.com/watch?v=JvfK4VBX75I&t=0s"
   ]
  },
  {
   "cell_type": "markdown",
   "metadata": {},
   "source": [
    "import yfinance as yf"
   ]
  },
  {
   "cell_type": "code",
   "execution_count": 18,
   "metadata": {},
   "outputs": [],
   "source": [
    "import yfinance as yf  \n",
    "import pandas as pd     "
   ]
  },
  {
   "cell_type": "code",
   "execution_count": 14,
   "metadata": {},
   "outputs": [
    {
     "data": {
      "text/plain": [
       "['ADANIENT', 'ADANIPORTS', 'APOLLOHOSP', 'ASIANPAINT', 'AXISBANK']"
      ]
     },
     "execution_count": 14,
     "metadata": {},
     "output_type": "execute_result"
    }
   ],
   "source": [
    "import pickle\n",
    "import os\n",
    "with open(\"nifty50tickers.pickle\",'rb') as f:\n",
    "    tickers = pickle.load(f)\n",
    "tickers[:5]"
   ]
  },
  {
   "cell_type": "markdown",
   "metadata": {},
   "source": [
    "### Single Ticker Single Dataframe approach"
   ]
  },
  {
   "cell_type": "code",
   "execution_count": 30,
   "metadata": {},
   "outputs": [
    {
     "name": "stdout",
     "output_type": "stream",
     "text": [
      "ADANIENT.NS\n"
     ]
    },
    {
     "name": "stderr",
     "output_type": "stream",
     "text": [
      "[*********************100%***********************]  1 of 1 completed\n"
     ]
    },
    {
     "name": "stdout",
     "output_type": "stream",
     "text": [
      "ADANIPORTS.NS\n"
     ]
    },
    {
     "name": "stderr",
     "output_type": "stream",
     "text": [
      "[*********************100%***********************]  1 of 1 completed\n"
     ]
    },
    {
     "name": "stdout",
     "output_type": "stream",
     "text": [
      "APOLLOHOSP.NS\n"
     ]
    },
    {
     "name": "stderr",
     "output_type": "stream",
     "text": [
      "[*********************100%***********************]  1 of 1 completed\n"
     ]
    },
    {
     "name": "stdout",
     "output_type": "stream",
     "text": [
      "ASIANPAINT.NS\n"
     ]
    },
    {
     "name": "stderr",
     "output_type": "stream",
     "text": [
      "[*********************100%***********************]  1 of 1 completed\n"
     ]
    },
    {
     "name": "stdout",
     "output_type": "stream",
     "text": [
      "AXISBANK.NS\n"
     ]
    },
    {
     "name": "stderr",
     "output_type": "stream",
     "text": [
      "[*********************100%***********************]  1 of 1 completed\n"
     ]
    },
    {
     "name": "stdout",
     "output_type": "stream",
     "text": [
      "BAJAJ-AUTO.NS\n"
     ]
    },
    {
     "name": "stderr",
     "output_type": "stream",
     "text": [
      "[*********************100%***********************]  1 of 1 completed\n"
     ]
    },
    {
     "name": "stdout",
     "output_type": "stream",
     "text": [
      "BAJFINANCE.NS\n"
     ]
    },
    {
     "name": "stderr",
     "output_type": "stream",
     "text": [
      "[*********************100%***********************]  1 of 1 completed\n"
     ]
    },
    {
     "name": "stdout",
     "output_type": "stream",
     "text": [
      "BAJAJFINSV.NS\n"
     ]
    },
    {
     "name": "stderr",
     "output_type": "stream",
     "text": [
      "[*********************100%***********************]  1 of 1 completed\n"
     ]
    },
    {
     "name": "stdout",
     "output_type": "stream",
     "text": [
      "BPCL.NS\n"
     ]
    },
    {
     "name": "stderr",
     "output_type": "stream",
     "text": [
      "[*********************100%***********************]  1 of 1 completed\n"
     ]
    },
    {
     "name": "stdout",
     "output_type": "stream",
     "text": [
      "BHARTIARTL.NS\n"
     ]
    },
    {
     "name": "stderr",
     "output_type": "stream",
     "text": [
      "[*********************100%***********************]  1 of 1 completed\n"
     ]
    },
    {
     "name": "stdout",
     "output_type": "stream",
     "text": [
      "BRITANNIA.NS\n"
     ]
    },
    {
     "name": "stderr",
     "output_type": "stream",
     "text": [
      "[*********************100%***********************]  1 of 1 completed\n"
     ]
    },
    {
     "name": "stdout",
     "output_type": "stream",
     "text": [
      "CIPLA.NS\n"
     ]
    },
    {
     "name": "stderr",
     "output_type": "stream",
     "text": [
      "[*********************100%***********************]  1 of 1 completed\n"
     ]
    },
    {
     "name": "stdout",
     "output_type": "stream",
     "text": [
      "COALINDIA.NS\n"
     ]
    },
    {
     "name": "stderr",
     "output_type": "stream",
     "text": [
      "[*********************100%***********************]  1 of 1 completed\n"
     ]
    },
    {
     "name": "stdout",
     "output_type": "stream",
     "text": [
      "DIVISLAB.NS\n"
     ]
    },
    {
     "name": "stderr",
     "output_type": "stream",
     "text": [
      "[*********************100%***********************]  1 of 1 completed\n"
     ]
    },
    {
     "name": "stdout",
     "output_type": "stream",
     "text": [
      "DRREDDY.NS\n"
     ]
    },
    {
     "name": "stderr",
     "output_type": "stream",
     "text": [
      "[*********************100%***********************]  1 of 1 completed\n"
     ]
    },
    {
     "name": "stdout",
     "output_type": "stream",
     "text": [
      "EICHERMOT.NS\n"
     ]
    },
    {
     "name": "stderr",
     "output_type": "stream",
     "text": [
      "[*********************100%***********************]  1 of 1 completed\n"
     ]
    },
    {
     "name": "stdout",
     "output_type": "stream",
     "text": [
      "GRASIM.NS\n"
     ]
    },
    {
     "name": "stderr",
     "output_type": "stream",
     "text": [
      "[*********************100%***********************]  1 of 1 completed\n"
     ]
    },
    {
     "name": "stdout",
     "output_type": "stream",
     "text": [
      "HCLTECH.NS\n"
     ]
    },
    {
     "name": "stderr",
     "output_type": "stream",
     "text": [
      "[*********************100%***********************]  1 of 1 completed\n"
     ]
    },
    {
     "name": "stdout",
     "output_type": "stream",
     "text": [
      "HDFCBANK.NS\n"
     ]
    },
    {
     "name": "stderr",
     "output_type": "stream",
     "text": [
      "[*********************100%***********************]  1 of 1 completed\n"
     ]
    },
    {
     "name": "stdout",
     "output_type": "stream",
     "text": [
      "HDFCLIFE.NS\n"
     ]
    },
    {
     "name": "stderr",
     "output_type": "stream",
     "text": [
      "[*********************100%***********************]  1 of 1 completed\n"
     ]
    },
    {
     "name": "stdout",
     "output_type": "stream",
     "text": [
      "HEROMOTOCO.NS\n"
     ]
    },
    {
     "name": "stderr",
     "output_type": "stream",
     "text": [
      "[*********************100%***********************]  1 of 1 completed\n",
      "[*********************100%***********************]  1 of 1 completed"
     ]
    },
    {
     "name": "stdout",
     "output_type": "stream",
     "text": [
      "HINDALCO.NS\n"
     ]
    },
    {
     "name": "stderr",
     "output_type": "stream",
     "text": [
      "\n"
     ]
    },
    {
     "name": "stdout",
     "output_type": "stream",
     "text": [
      "HINDUNILVR.NS\n"
     ]
    },
    {
     "name": "stderr",
     "output_type": "stream",
     "text": [
      "[*********************100%***********************]  1 of 1 completed\n"
     ]
    },
    {
     "name": "stdout",
     "output_type": "stream",
     "text": [
      "ICICIBANK.NS\n"
     ]
    },
    {
     "name": "stderr",
     "output_type": "stream",
     "text": [
      "[*********************100%***********************]  1 of 1 completed\n"
     ]
    },
    {
     "name": "stdout",
     "output_type": "stream",
     "text": [
      "INDUSINDBK.NS\n"
     ]
    },
    {
     "name": "stderr",
     "output_type": "stream",
     "text": [
      "[*********************100%***********************]  1 of 1 completed\n"
     ]
    },
    {
     "name": "stdout",
     "output_type": "stream",
     "text": [
      "INFY.NS\n"
     ]
    },
    {
     "name": "stderr",
     "output_type": "stream",
     "text": [
      "[*********************100%***********************]  1 of 1 completed\n"
     ]
    },
    {
     "name": "stdout",
     "output_type": "stream",
     "text": [
      "ITC.NS\n"
     ]
    },
    {
     "name": "stderr",
     "output_type": "stream",
     "text": [
      "[*********************100%***********************]  1 of 1 completed\n"
     ]
    },
    {
     "name": "stdout",
     "output_type": "stream",
     "text": [
      "JSWSTEEL.NS\n"
     ]
    },
    {
     "name": "stderr",
     "output_type": "stream",
     "text": [
      "[*********************100%***********************]  1 of 1 completed\n"
     ]
    },
    {
     "name": "stdout",
     "output_type": "stream",
     "text": [
      "KOTAKBANK.NS\n"
     ]
    },
    {
     "name": "stderr",
     "output_type": "stream",
     "text": [
      "[*********************100%***********************]  1 of 1 completed\n"
     ]
    },
    {
     "name": "stdout",
     "output_type": "stream",
     "text": [
      "LT.NS\n"
     ]
    },
    {
     "name": "stderr",
     "output_type": "stream",
     "text": [
      "[*********************100%***********************]  1 of 1 completed\n"
     ]
    },
    {
     "name": "stdout",
     "output_type": "stream",
     "text": [
      "LTIM.NS\n"
     ]
    },
    {
     "name": "stderr",
     "output_type": "stream",
     "text": [
      "[*********************100%***********************]  1 of 1 completed\n"
     ]
    },
    {
     "name": "stdout",
     "output_type": "stream",
     "text": [
      "M&M.NS\n"
     ]
    },
    {
     "name": "stderr",
     "output_type": "stream",
     "text": [
      "[*********************100%***********************]  1 of 1 completed\n",
      "[*********************100%***********************]  1 of 1 completed"
     ]
    },
    {
     "name": "stdout",
     "output_type": "stream",
     "text": [
      "MARUTI.NS\n"
     ]
    },
    {
     "name": "stderr",
     "output_type": "stream",
     "text": [
      "\n"
     ]
    },
    {
     "name": "stdout",
     "output_type": "stream",
     "text": [
      "NESTLEIND.NS\n"
     ]
    },
    {
     "name": "stderr",
     "output_type": "stream",
     "text": [
      "[*********************100%***********************]  1 of 1 completed\n",
      "[*********************100%***********************]  1 of 1 completed"
     ]
    },
    {
     "name": "stdout",
     "output_type": "stream",
     "text": [
      "NTPC.NS\n"
     ]
    },
    {
     "name": "stderr",
     "output_type": "stream",
     "text": [
      "\n"
     ]
    },
    {
     "name": "stdout",
     "output_type": "stream",
     "text": [
      "ONGC.NS\n"
     ]
    },
    {
     "name": "stderr",
     "output_type": "stream",
     "text": [
      "[*********************100%***********************]  1 of 1 completed\n"
     ]
    },
    {
     "name": "stdout",
     "output_type": "stream",
     "text": [
      "POWERGRID.NS\n"
     ]
    },
    {
     "name": "stderr",
     "output_type": "stream",
     "text": [
      "[*********************100%***********************]  1 of 1 completed\n"
     ]
    },
    {
     "name": "stdout",
     "output_type": "stream",
     "text": [
      "RELIANCE.NS\n"
     ]
    },
    {
     "name": "stderr",
     "output_type": "stream",
     "text": [
      "[*********************100%***********************]  1 of 1 completed\n"
     ]
    },
    {
     "name": "stdout",
     "output_type": "stream",
     "text": [
      "SBILIFE.NS\n"
     ]
    },
    {
     "name": "stderr",
     "output_type": "stream",
     "text": [
      "[*********************100%***********************]  1 of 1 completed\n"
     ]
    },
    {
     "name": "stdout",
     "output_type": "stream",
     "text": [
      "SHRIRAMFIN.NS\n"
     ]
    },
    {
     "name": "stderr",
     "output_type": "stream",
     "text": [
      "[*********************100%***********************]  1 of 1 completed\n"
     ]
    },
    {
     "name": "stdout",
     "output_type": "stream",
     "text": [
      "SBIN.NS\n"
     ]
    },
    {
     "name": "stderr",
     "output_type": "stream",
     "text": [
      "[*********************100%***********************]  1 of 1 completed\n"
     ]
    },
    {
     "name": "stdout",
     "output_type": "stream",
     "text": [
      "SUNPHARMA.NS\n"
     ]
    },
    {
     "name": "stderr",
     "output_type": "stream",
     "text": [
      "[*********************100%***********************]  1 of 1 completed\n"
     ]
    },
    {
     "name": "stdout",
     "output_type": "stream",
     "text": [
      "TATAMOTORS.NS\n"
     ]
    },
    {
     "name": "stderr",
     "output_type": "stream",
     "text": [
      "[*********************100%***********************]  1 of 1 completed\n"
     ]
    },
    {
     "name": "stdout",
     "output_type": "stream",
     "text": [
      "TATASTEEL.NS\n"
     ]
    },
    {
     "name": "stderr",
     "output_type": "stream",
     "text": [
      "[*********************100%***********************]  1 of 1 completed\n"
     ]
    },
    {
     "name": "stdout",
     "output_type": "stream",
     "text": [
      "TCS.NS\n"
     ]
    },
    {
     "name": "stderr",
     "output_type": "stream",
     "text": [
      "[*********************100%***********************]  1 of 1 completed\n"
     ]
    },
    {
     "name": "stdout",
     "output_type": "stream",
     "text": [
      "TATACONSUM.NS\n"
     ]
    },
    {
     "name": "stderr",
     "output_type": "stream",
     "text": [
      "[*********************100%***********************]  1 of 1 completed\n"
     ]
    },
    {
     "name": "stdout",
     "output_type": "stream",
     "text": [
      "TECHM.NS\n"
     ]
    },
    {
     "name": "stderr",
     "output_type": "stream",
     "text": [
      "[*********************100%***********************]  1 of 1 completed\n"
     ]
    },
    {
     "name": "stdout",
     "output_type": "stream",
     "text": [
      "TITAN.NS\n"
     ]
    },
    {
     "name": "stderr",
     "output_type": "stream",
     "text": [
      "[*********************100%***********************]  1 of 1 completed\n"
     ]
    },
    {
     "name": "stdout",
     "output_type": "stream",
     "text": [
      "ULTRACEMCO.NS\n"
     ]
    },
    {
     "name": "stderr",
     "output_type": "stream",
     "text": [
      "[*********************100%***********************]  1 of 1 completed\n"
     ]
    },
    {
     "name": "stdout",
     "output_type": "stream",
     "text": [
      "WIPRO.NS\n"
     ]
    },
    {
     "name": "stderr",
     "output_type": "stream",
     "text": [
      "[*********************100%***********************]  1 of 1 completed\n",
      "\n",
      "1 Failed download:\n",
      "['WIPRO.NS']: YFPricesMissingError('possibly delisted; no price data found  (1d 2020-01-01 -> 2025-03-12)')\n"
     ]
    }
   ],
   "source": [
    "for ticker in tickers:\n",
    "    ticker_yahoo = ticker+'.NS'\n",
    "    print(ticker_yahoo)\n",
    "    if not os.path.exists('stock_dfs_updated/{}.csv'.format(ticker)):\n",
    "      data = yf.download(ticker_yahoo,group_by=\"Ticker\",start=\"2020-01-01\", end=None)\n",
    "      data = data.stack(level=0).rename_axis(['Date', 'Ticker']).reset_index(level=1)\n",
    "      data.to_csv('stock_dfs_updated/{}.csv'.format(ticker))\n",
    "    else:\n",
    "      print('Already have'.format(ticker))"
   ]
  },
  {
   "cell_type": "code",
   "execution_count": 39,
   "metadata": {},
   "outputs": [
    {
     "name": "stdout",
     "output_type": "stream",
     "text": [
      "List of stock coming out of squeeze phase ['COALINDIA.csv']\n"
     ]
    }
   ],
   "source": [
    "files = os.listdir('stock_dfs_updated')\n",
    "squeeze=[]\n",
    "for files in os.listdir('stock_dfs_updated'):\n",
    "    data = pd.read_csv('stock_dfs_updated/{}'.format(files))\n",
    "    #selecting the relevant columns\n",
    "    df=data.copy()\n",
    "\n",
    "\n",
    "    df['20sma'] = df['Close'].rolling(window=20).mean()\n",
    "    df['stddev'] = df['Close'].rolling(window=20).std()\n",
    "    df['lower_band'] = df['20sma'] - (2 * df['stddev'])\n",
    "    df['upper_band'] = df['20sma'] + (2 * df['stddev'])\n",
    "\n",
    "    df['TR'] = abs(df['High'] - df['Low'])\n",
    "    df['ATR'] = df['TR'].rolling(window=20).mean()\n",
    "    df['lower_keltner'] = df['20sma'] - (df['ATR'] * 1.5)\n",
    "    df['upper_keltner'] = df['20sma'] + (df['ATR'] * 1.5)\n",
    "\n",
    "    def in_squeeze(df):\n",
    "        return df['lower_band'] > df['lower_keltner'] and df['upper_band'] < df['upper_keltner']\n",
    "    df['squeeze_on'] = df.apply(in_squeeze, axis=1)\n",
    "\n",
    "    if df.iloc[-3]['squeeze_on'] and not df.iloc[-1]['squeeze_on']:\n",
    "        squeeze.append(files)\n",
    "print(\"List of stock coming out of squeeze phase\",squeeze)"
   ]
  },
  {
   "cell_type": "code",
   "execution_count": 9,
   "metadata": {},
   "outputs": [
    {
     "name": "stderr",
     "output_type": "stream",
     "text": [
      "[*********************100%***********************]  1 of 1 completed\n"
     ]
    },
    {
     "data": {
      "text/html": [
       "<div>\n",
       "<style scoped>\n",
       "    .dataframe tbody tr th:only-of-type {\n",
       "        vertical-align: middle;\n",
       "    }\n",
       "\n",
       "    .dataframe tbody tr th {\n",
       "        vertical-align: top;\n",
       "    }\n",
       "\n",
       "    .dataframe thead tr th {\n",
       "        text-align: left;\n",
       "    }\n",
       "\n",
       "    .dataframe thead tr:last-of-type th {\n",
       "        text-align: right;\n",
       "    }\n",
       "</style>\n",
       "<table border=\"1\" class=\"dataframe\">\n",
       "  <thead>\n",
       "    <tr>\n",
       "      <th>Price</th>\n",
       "      <th>Close</th>\n",
       "      <th>High</th>\n",
       "      <th>Low</th>\n",
       "      <th>Open</th>\n",
       "      <th>Volume</th>\n",
       "    </tr>\n",
       "    <tr>\n",
       "      <th>Ticker</th>\n",
       "      <th>^NSEI</th>\n",
       "      <th>^NSEI</th>\n",
       "      <th>^NSEI</th>\n",
       "      <th>^NSEI</th>\n",
       "      <th>^NSEI</th>\n",
       "    </tr>\n",
       "    <tr>\n",
       "      <th>Date</th>\n",
       "      <th></th>\n",
       "      <th></th>\n",
       "      <th></th>\n",
       "      <th></th>\n",
       "      <th></th>\n",
       "    </tr>\n",
       "  </thead>\n",
       "  <tbody>\n",
       "    <tr>\n",
       "      <th>2007-09-17</th>\n",
       "      <td>4494.649902</td>\n",
       "      <td>4549.049805</td>\n",
       "      <td>4482.850098</td>\n",
       "      <td>4518.450195</td>\n",
       "      <td>0</td>\n",
       "    </tr>\n",
       "    <tr>\n",
       "      <th>2007-09-18</th>\n",
       "      <td>4546.200195</td>\n",
       "      <td>4551.799805</td>\n",
       "      <td>4481.549805</td>\n",
       "      <td>4494.100098</td>\n",
       "      <td>0</td>\n",
       "    </tr>\n",
       "    <tr>\n",
       "      <th>2007-09-19</th>\n",
       "      <td>4732.350098</td>\n",
       "      <td>4739.000000</td>\n",
       "      <td>4550.250000</td>\n",
       "      <td>4550.250000</td>\n",
       "      <td>0</td>\n",
       "    </tr>\n",
       "    <tr>\n",
       "      <th>2007-09-20</th>\n",
       "      <td>4747.549805</td>\n",
       "      <td>4760.850098</td>\n",
       "      <td>4721.149902</td>\n",
       "      <td>4734.850098</td>\n",
       "      <td>0</td>\n",
       "    </tr>\n",
       "    <tr>\n",
       "      <th>2007-09-21</th>\n",
       "      <td>4837.549805</td>\n",
       "      <td>4855.700195</td>\n",
       "      <td>4733.700195</td>\n",
       "      <td>4752.950195</td>\n",
       "      <td>0</td>\n",
       "    </tr>\n",
       "    <tr>\n",
       "      <th>...</th>\n",
       "      <td>...</td>\n",
       "      <td>...</td>\n",
       "      <td>...</td>\n",
       "      <td>...</td>\n",
       "      <td>...</td>\n",
       "    </tr>\n",
       "    <tr>\n",
       "      <th>2025-03-06</th>\n",
       "      <td>22544.699219</td>\n",
       "      <td>22556.449219</td>\n",
       "      <td>22245.849609</td>\n",
       "      <td>22476.349609</td>\n",
       "      <td>372100</td>\n",
       "    </tr>\n",
       "    <tr>\n",
       "      <th>2025-03-07</th>\n",
       "      <td>22552.500000</td>\n",
       "      <td>22633.800781</td>\n",
       "      <td>22464.750000</td>\n",
       "      <td>22508.650391</td>\n",
       "      <td>289800</td>\n",
       "    </tr>\n",
       "    <tr>\n",
       "      <th>2025-03-10</th>\n",
       "      <td>22460.300781</td>\n",
       "      <td>22676.750000</td>\n",
       "      <td>22429.050781</td>\n",
       "      <td>22521.849609</td>\n",
       "      <td>293900</td>\n",
       "    </tr>\n",
       "    <tr>\n",
       "      <th>2025-03-11</th>\n",
       "      <td>22497.900391</td>\n",
       "      <td>22522.099609</td>\n",
       "      <td>22314.699219</td>\n",
       "      <td>22345.949219</td>\n",
       "      <td>347900</td>\n",
       "    </tr>\n",
       "    <tr>\n",
       "      <th>2025-03-12</th>\n",
       "      <td>22470.500000</td>\n",
       "      <td>22577.400391</td>\n",
       "      <td>22329.550781</td>\n",
       "      <td>22536.349609</td>\n",
       "      <td>0</td>\n",
       "    </tr>\n",
       "  </tbody>\n",
       "</table>\n",
       "<p>4288 rows × 5 columns</p>\n",
       "</div>"
      ],
      "text/plain": [
       "Price              Close          High           Low          Open  Volume\n",
       "Ticker             ^NSEI         ^NSEI         ^NSEI         ^NSEI   ^NSEI\n",
       "Date                                                                      \n",
       "2007-09-17   4494.649902   4549.049805   4482.850098   4518.450195       0\n",
       "2007-09-18   4546.200195   4551.799805   4481.549805   4494.100098       0\n",
       "2007-09-19   4732.350098   4739.000000   4550.250000   4550.250000       0\n",
       "2007-09-20   4747.549805   4760.850098   4721.149902   4734.850098       0\n",
       "2007-09-21   4837.549805   4855.700195   4733.700195   4752.950195       0\n",
       "...                  ...           ...           ...           ...     ...\n",
       "2025-03-06  22544.699219  22556.449219  22245.849609  22476.349609  372100\n",
       "2025-03-07  22552.500000  22633.800781  22464.750000  22508.650391  289800\n",
       "2025-03-10  22460.300781  22676.750000  22429.050781  22521.849609  293900\n",
       "2025-03-11  22497.900391  22522.099609  22314.699219  22345.949219  347900\n",
       "2025-03-12  22470.500000  22577.400391  22329.550781  22536.349609       0\n",
       "\n",
       "[4288 rows x 5 columns]"
      ]
     },
     "execution_count": 9,
     "metadata": {},
     "output_type": "execute_result"
    }
   ],
   "source": [
    "yf.download('^NSEI',start=\"2005-01-01\",end = None)"
   ]
  },
  {
   "cell_type": "code",
   "execution_count": 46,
   "metadata": {},
   "outputs": [
    {
     "name": "stderr",
     "output_type": "stream",
     "text": [
      "[*********************100%***********************]  1 of 1 completed\n"
     ]
    }
   ],
   "source": [
    "data=yf.download('^NSEI',group_by='Ticker',start=\"2005-01-01\",end = None)\n",
    "data = data.stack(level=0).rename_axis(['Date', 'Ticker']).reset_index(level=1)"
   ]
  },
  {
   "cell_type": "code",
   "execution_count": 44,
   "metadata": {},
   "outputs": [],
   "source": [
    "# https://yfinance-python.org/"
   ]
  },
  {
   "cell_type": "code",
   "execution_count": 48,
   "metadata": {},
   "outputs": [
    {
     "data": {
      "text/html": [
       "<div>\n",
       "<style scoped>\n",
       "    .dataframe tbody tr th:only-of-type {\n",
       "        vertical-align: middle;\n",
       "    }\n",
       "\n",
       "    .dataframe tbody tr th {\n",
       "        vertical-align: top;\n",
       "    }\n",
       "\n",
       "    .dataframe thead th {\n",
       "        text-align: right;\n",
       "    }\n",
       "</style>\n",
       "<table border=\"1\" class=\"dataframe\">\n",
       "  <thead>\n",
       "    <tr style=\"text-align: right;\">\n",
       "      <th>Price</th>\n",
       "      <th>Ticker</th>\n",
       "      <th>Close</th>\n",
       "      <th>High</th>\n",
       "      <th>Low</th>\n",
       "      <th>Open</th>\n",
       "      <th>Volume</th>\n",
       "      <th>MA200</th>\n",
       "    </tr>\n",
       "    <tr>\n",
       "      <th>Date</th>\n",
       "      <th></th>\n",
       "      <th></th>\n",
       "      <th></th>\n",
       "      <th></th>\n",
       "      <th></th>\n",
       "      <th></th>\n",
       "      <th></th>\n",
       "    </tr>\n",
       "  </thead>\n",
       "  <tbody>\n",
       "    <tr>\n",
       "      <th>2007-09-17</th>\n",
       "      <td>^NSEI</td>\n",
       "      <td>4494.649902</td>\n",
       "      <td>4549.049805</td>\n",
       "      <td>4482.850098</td>\n",
       "      <td>4518.450195</td>\n",
       "      <td>0</td>\n",
       "      <td>NaN</td>\n",
       "    </tr>\n",
       "    <tr>\n",
       "      <th>2007-09-18</th>\n",
       "      <td>^NSEI</td>\n",
       "      <td>4546.200195</td>\n",
       "      <td>4551.799805</td>\n",
       "      <td>4481.549805</td>\n",
       "      <td>4494.100098</td>\n",
       "      <td>0</td>\n",
       "      <td>NaN</td>\n",
       "    </tr>\n",
       "    <tr>\n",
       "      <th>2007-09-19</th>\n",
       "      <td>^NSEI</td>\n",
       "      <td>4732.350098</td>\n",
       "      <td>4739.000000</td>\n",
       "      <td>4550.250000</td>\n",
       "      <td>4550.250000</td>\n",
       "      <td>0</td>\n",
       "      <td>NaN</td>\n",
       "    </tr>\n",
       "    <tr>\n",
       "      <th>2007-09-20</th>\n",
       "      <td>^NSEI</td>\n",
       "      <td>4747.549805</td>\n",
       "      <td>4760.850098</td>\n",
       "      <td>4721.149902</td>\n",
       "      <td>4734.850098</td>\n",
       "      <td>0</td>\n",
       "      <td>NaN</td>\n",
       "    </tr>\n",
       "    <tr>\n",
       "      <th>2007-09-21</th>\n",
       "      <td>^NSEI</td>\n",
       "      <td>4837.549805</td>\n",
       "      <td>4855.700195</td>\n",
       "      <td>4733.700195</td>\n",
       "      <td>4752.950195</td>\n",
       "      <td>0</td>\n",
       "      <td>NaN</td>\n",
       "    </tr>\n",
       "    <tr>\n",
       "      <th>...</th>\n",
       "      <td>...</td>\n",
       "      <td>...</td>\n",
       "      <td>...</td>\n",
       "      <td>...</td>\n",
       "      <td>...</td>\n",
       "      <td>...</td>\n",
       "      <td>...</td>\n",
       "    </tr>\n",
       "    <tr>\n",
       "      <th>2025-03-07</th>\n",
       "      <td>^NSEI</td>\n",
       "      <td>22552.500000</td>\n",
       "      <td>22633.800781</td>\n",
       "      <td>22464.750000</td>\n",
       "      <td>22508.650391</td>\n",
       "      <td>289800</td>\n",
       "      <td>24064.496260</td>\n",
       "    </tr>\n",
       "    <tr>\n",
       "      <th>2025-03-10</th>\n",
       "      <td>^NSEI</td>\n",
       "      <td>22460.300781</td>\n",
       "      <td>22676.750000</td>\n",
       "      <td>22429.050781</td>\n",
       "      <td>22521.849609</td>\n",
       "      <td>293900</td>\n",
       "      <td>24063.808760</td>\n",
       "    </tr>\n",
       "    <tr>\n",
       "      <th>2025-03-11</th>\n",
       "      <td>^NSEI</td>\n",
       "      <td>22497.900391</td>\n",
       "      <td>22522.099609</td>\n",
       "      <td>22314.699219</td>\n",
       "      <td>22345.949219</td>\n",
       "      <td>347900</td>\n",
       "      <td>24061.460010</td>\n",
       "    </tr>\n",
       "    <tr>\n",
       "      <th>2025-03-12</th>\n",
       "      <td>^NSEI</td>\n",
       "      <td>22470.500000</td>\n",
       "      <td>22577.400391</td>\n",
       "      <td>22329.550781</td>\n",
       "      <td>22536.349609</td>\n",
       "      <td>369700</td>\n",
       "      <td>24059.027012</td>\n",
       "    </tr>\n",
       "    <tr>\n",
       "      <th>2025-03-13</th>\n",
       "      <td>^NSEI</td>\n",
       "      <td>22397.199219</td>\n",
       "      <td>22558.050781</td>\n",
       "      <td>22377.349609</td>\n",
       "      <td>22541.500000</td>\n",
       "      <td>287500</td>\n",
       "      <td>24056.350762</td>\n",
       "    </tr>\n",
       "  </tbody>\n",
       "</table>\n",
       "<p>4289 rows × 7 columns</p>\n",
       "</div>"
      ],
      "text/plain": [
       "Price      Ticker         Close          High           Low          Open  \\\n",
       "Date                                                                        \n",
       "2007-09-17  ^NSEI   4494.649902   4549.049805   4482.850098   4518.450195   \n",
       "2007-09-18  ^NSEI   4546.200195   4551.799805   4481.549805   4494.100098   \n",
       "2007-09-19  ^NSEI   4732.350098   4739.000000   4550.250000   4550.250000   \n",
       "2007-09-20  ^NSEI   4747.549805   4760.850098   4721.149902   4734.850098   \n",
       "2007-09-21  ^NSEI   4837.549805   4855.700195   4733.700195   4752.950195   \n",
       "...           ...           ...           ...           ...           ...   \n",
       "2025-03-07  ^NSEI  22552.500000  22633.800781  22464.750000  22508.650391   \n",
       "2025-03-10  ^NSEI  22460.300781  22676.750000  22429.050781  22521.849609   \n",
       "2025-03-11  ^NSEI  22497.900391  22522.099609  22314.699219  22345.949219   \n",
       "2025-03-12  ^NSEI  22470.500000  22577.400391  22329.550781  22536.349609   \n",
       "2025-03-13  ^NSEI  22397.199219  22558.050781  22377.349609  22541.500000   \n",
       "\n",
       "Price       Volume         MA200  \n",
       "Date                              \n",
       "2007-09-17       0           NaN  \n",
       "2007-09-18       0           NaN  \n",
       "2007-09-19       0           NaN  \n",
       "2007-09-20       0           NaN  \n",
       "2007-09-21       0           NaN  \n",
       "...            ...           ...  \n",
       "2025-03-07  289800  24064.496260  \n",
       "2025-03-10  293900  24063.808760  \n",
       "2025-03-11  347900  24061.460010  \n",
       "2025-03-12  369700  24059.027012  \n",
       "2025-03-13  287500  24056.350762  \n",
       "\n",
       "[4289 rows x 7 columns]"
      ]
     },
     "execution_count": 48,
     "metadata": {},
     "output_type": "execute_result"
    }
   ],
   "source": [
    "\n",
    "data['MA200'] = data['Close'].rolling(window=200).mean()\n",
    "data"
   ]
  },
  {
   "cell_type": "code",
   "execution_count": 49,
   "metadata": {},
   "outputs": [
    {
     "data": {
      "text/html": [
       "<div>\n",
       "<style scoped>\n",
       "    .dataframe tbody tr th:only-of-type {\n",
       "        vertical-align: middle;\n",
       "    }\n",
       "\n",
       "    .dataframe tbody tr th {\n",
       "        vertical-align: top;\n",
       "    }\n",
       "\n",
       "    .dataframe thead th {\n",
       "        text-align: right;\n",
       "    }\n",
       "</style>\n",
       "<table border=\"1\" class=\"dataframe\">\n",
       "  <thead>\n",
       "    <tr style=\"text-align: right;\">\n",
       "      <th>Price</th>\n",
       "      <th>Ticker</th>\n",
       "      <th>Close</th>\n",
       "      <th>High</th>\n",
       "      <th>Low</th>\n",
       "      <th>Open</th>\n",
       "      <th>Volume</th>\n",
       "      <th>MA200</th>\n",
       "    </tr>\n",
       "    <tr>\n",
       "      <th>Date</th>\n",
       "      <th></th>\n",
       "      <th></th>\n",
       "      <th></th>\n",
       "      <th></th>\n",
       "      <th></th>\n",
       "      <th></th>\n",
       "      <th></th>\n",
       "    </tr>\n",
       "  </thead>\n",
       "  <tbody>\n",
       "    <tr>\n",
       "      <th>2008-07-07</th>\n",
       "      <td>^NSEI</td>\n",
       "      <td>4030.000000</td>\n",
       "      <td>4114.500000</td>\n",
       "      <td>4002.000000</td>\n",
       "      <td>4002.000000</td>\n",
       "      <td>0</td>\n",
       "      <td>5210.716744</td>\n",
       "    </tr>\n",
       "    <tr>\n",
       "      <th>2008-07-08</th>\n",
       "      <td>^NSEI</td>\n",
       "      <td>3988.550049</td>\n",
       "      <td>4028.699951</td>\n",
       "      <td>3896.050049</td>\n",
       "      <td>4028.699951</td>\n",
       "      <td>0</td>\n",
       "      <td>5208.186245</td>\n",
       "    </tr>\n",
       "    <tr>\n",
       "      <th>2008-07-09</th>\n",
       "      <td>^NSEI</td>\n",
       "      <td>4157.100098</td>\n",
       "      <td>4169.399902</td>\n",
       "      <td>3990.899902</td>\n",
       "      <td>3990.899902</td>\n",
       "      <td>0</td>\n",
       "      <td>5206.240745</td>\n",
       "    </tr>\n",
       "    <tr>\n",
       "      <th>2008-07-10</th>\n",
       "      <td>^NSEI</td>\n",
       "      <td>4162.200195</td>\n",
       "      <td>4187.950195</td>\n",
       "      <td>4110.399902</td>\n",
       "      <td>4155.649902</td>\n",
       "      <td>0</td>\n",
       "      <td>5203.389995</td>\n",
       "    </tr>\n",
       "    <tr>\n",
       "      <th>2008-07-11</th>\n",
       "      <td>^NSEI</td>\n",
       "      <td>4049.000000</td>\n",
       "      <td>4215.500000</td>\n",
       "      <td>4014.449951</td>\n",
       "      <td>4166.000000</td>\n",
       "      <td>0</td>\n",
       "      <td>5199.897246</td>\n",
       "    </tr>\n",
       "    <tr>\n",
       "      <th>...</th>\n",
       "      <td>...</td>\n",
       "      <td>...</td>\n",
       "      <td>...</td>\n",
       "      <td>...</td>\n",
       "      <td>...</td>\n",
       "      <td>...</td>\n",
       "      <td>...</td>\n",
       "    </tr>\n",
       "    <tr>\n",
       "      <th>2025-03-07</th>\n",
       "      <td>^NSEI</td>\n",
       "      <td>22552.500000</td>\n",
       "      <td>22633.800781</td>\n",
       "      <td>22464.750000</td>\n",
       "      <td>22508.650391</td>\n",
       "      <td>289800</td>\n",
       "      <td>24064.496260</td>\n",
       "    </tr>\n",
       "    <tr>\n",
       "      <th>2025-03-10</th>\n",
       "      <td>^NSEI</td>\n",
       "      <td>22460.300781</td>\n",
       "      <td>22676.750000</td>\n",
       "      <td>22429.050781</td>\n",
       "      <td>22521.849609</td>\n",
       "      <td>293900</td>\n",
       "      <td>24063.808760</td>\n",
       "    </tr>\n",
       "    <tr>\n",
       "      <th>2025-03-11</th>\n",
       "      <td>^NSEI</td>\n",
       "      <td>22497.900391</td>\n",
       "      <td>22522.099609</td>\n",
       "      <td>22314.699219</td>\n",
       "      <td>22345.949219</td>\n",
       "      <td>347900</td>\n",
       "      <td>24061.460010</td>\n",
       "    </tr>\n",
       "    <tr>\n",
       "      <th>2025-03-12</th>\n",
       "      <td>^NSEI</td>\n",
       "      <td>22470.500000</td>\n",
       "      <td>22577.400391</td>\n",
       "      <td>22329.550781</td>\n",
       "      <td>22536.349609</td>\n",
       "      <td>369700</td>\n",
       "      <td>24059.027012</td>\n",
       "    </tr>\n",
       "    <tr>\n",
       "      <th>2025-03-13</th>\n",
       "      <td>^NSEI</td>\n",
       "      <td>22397.199219</td>\n",
       "      <td>22558.050781</td>\n",
       "      <td>22377.349609</td>\n",
       "      <td>22541.500000</td>\n",
       "      <td>287500</td>\n",
       "      <td>24056.350762</td>\n",
       "    </tr>\n",
       "  </tbody>\n",
       "</table>\n",
       "<p>4090 rows × 7 columns</p>\n",
       "</div>"
      ],
      "text/plain": [
       "Price      Ticker         Close          High           Low          Open  \\\n",
       "Date                                                                        \n",
       "2008-07-07  ^NSEI   4030.000000   4114.500000   4002.000000   4002.000000   \n",
       "2008-07-08  ^NSEI   3988.550049   4028.699951   3896.050049   4028.699951   \n",
       "2008-07-09  ^NSEI   4157.100098   4169.399902   3990.899902   3990.899902   \n",
       "2008-07-10  ^NSEI   4162.200195   4187.950195   4110.399902   4155.649902   \n",
       "2008-07-11  ^NSEI   4049.000000   4215.500000   4014.449951   4166.000000   \n",
       "...           ...           ...           ...           ...           ...   \n",
       "2025-03-07  ^NSEI  22552.500000  22633.800781  22464.750000  22508.650391   \n",
       "2025-03-10  ^NSEI  22460.300781  22676.750000  22429.050781  22521.849609   \n",
       "2025-03-11  ^NSEI  22497.900391  22522.099609  22314.699219  22345.949219   \n",
       "2025-03-12  ^NSEI  22470.500000  22577.400391  22329.550781  22536.349609   \n",
       "2025-03-13  ^NSEI  22397.199219  22558.050781  22377.349609  22541.500000   \n",
       "\n",
       "Price       Volume         MA200  \n",
       "Date                              \n",
       "2008-07-07       0   5210.716744  \n",
       "2008-07-08       0   5208.186245  \n",
       "2008-07-09       0   5206.240745  \n",
       "2008-07-10       0   5203.389995  \n",
       "2008-07-11       0   5199.897246  \n",
       "...            ...           ...  \n",
       "2025-03-07  289800  24064.496260  \n",
       "2025-03-10  293900  24063.808760  \n",
       "2025-03-11  347900  24061.460010  \n",
       "2025-03-12  369700  24059.027012  \n",
       "2025-03-13  287500  24056.350762  \n",
       "\n",
       "[4090 rows x 7 columns]"
      ]
     },
     "execution_count": 49,
     "metadata": {},
     "output_type": "execute_result"
    }
   ],
   "source": [
    "df= data.dropna()\n",
    "df"
   ]
  },
  {
   "cell_type": "code",
   "execution_count": 51,
   "metadata": {},
   "outputs": [
    {
     "data": {
      "image/png": "[encoded data removed]",
      "text/plain": [
       "<Figure size 640x480 with 1 Axes>"
      ]
     },
     "metadata": {},
     "output_type": "display_data"
    }
   ],
   "source": [
    "import matplotlib.pyplot as plt\n",
    "plt.plot(df['Close'])\n",
    "plt.plot(df['MA200'])\n",
    "plt.show()"
   ]
  },
  {
   "cell_type": "code",
   "execution_count": 52,
   "metadata": {},
   "outputs": [],
   "source": [
    "import pandas as pd\n",
    "pd.options.mode.chained_assignment=None"
   ]
  },
  {
   "cell_type": "code",
   "execution_count": 53,
   "metadata": {},
   "outputs": [
    {
     "data": {
      "text/html": [
       "<div>\n",
       "<style scoped>\n",
       "    .dataframe tbody tr th:only-of-type {\n",
       "        vertical-align: middle;\n",
       "    }\n",
       "\n",
       "    .dataframe tbody tr th {\n",
       "        vertical-align: top;\n",
       "    }\n",
       "\n",
       "    .dataframe thead th {\n",
       "        text-align: right;\n",
       "    }\n",
       "</style>\n",
       "<table border=\"1\" class=\"dataframe\">\n",
       "  <thead>\n",
       "    <tr style=\"text-align: right;\">\n",
       "      <th>Price</th>\n",
       "      <th>Ticker</th>\n",
       "      <th>Close</th>\n",
       "      <th>High</th>\n",
       "      <th>Low</th>\n",
       "      <th>Open</th>\n",
       "      <th>Volume</th>\n",
       "      <th>MA200</th>\n",
       "      <th>priceChange</th>\n",
       "    </tr>\n",
       "    <tr>\n",
       "      <th>Date</th>\n",
       "      <th></th>\n",
       "      <th></th>\n",
       "      <th></th>\n",
       "      <th></th>\n",
       "      <th></th>\n",
       "      <th></th>\n",
       "      <th></th>\n",
       "      <th></th>\n",
       "    </tr>\n",
       "  </thead>\n",
       "  <tbody>\n",
       "    <tr>\n",
       "      <th>2008-07-07</th>\n",
       "      <td>^NSEI</td>\n",
       "      <td>4030.000000</td>\n",
       "      <td>4114.500000</td>\n",
       "      <td>4002.000000</td>\n",
       "      <td>4002.000000</td>\n",
       "      <td>0</td>\n",
       "      <td>5210.716744</td>\n",
       "      <td>NaN</td>\n",
       "    </tr>\n",
       "    <tr>\n",
       "      <th>2008-07-08</th>\n",
       "      <td>^NSEI</td>\n",
       "      <td>3988.550049</td>\n",
       "      <td>4028.699951</td>\n",
       "      <td>3896.050049</td>\n",
       "      <td>4028.699951</td>\n",
       "      <td>0</td>\n",
       "      <td>5208.186245</td>\n",
       "      <td>-0.010285</td>\n",
       "    </tr>\n",
       "    <tr>\n",
       "      <th>2008-07-09</th>\n",
       "      <td>^NSEI</td>\n",
       "      <td>4157.100098</td>\n",
       "      <td>4169.399902</td>\n",
       "      <td>3990.899902</td>\n",
       "      <td>3990.899902</td>\n",
       "      <td>0</td>\n",
       "      <td>5206.240745</td>\n",
       "      <td>0.042258</td>\n",
       "    </tr>\n",
       "    <tr>\n",
       "      <th>2008-07-10</th>\n",
       "      <td>^NSEI</td>\n",
       "      <td>4162.200195</td>\n",
       "      <td>4187.950195</td>\n",
       "      <td>4110.399902</td>\n",
       "      <td>4155.649902</td>\n",
       "      <td>0</td>\n",
       "      <td>5203.389995</td>\n",
       "      <td>0.001227</td>\n",
       "    </tr>\n",
       "    <tr>\n",
       "      <th>2008-07-11</th>\n",
       "      <td>^NSEI</td>\n",
       "      <td>4049.000000</td>\n",
       "      <td>4215.500000</td>\n",
       "      <td>4014.449951</td>\n",
       "      <td>4166.000000</td>\n",
       "      <td>0</td>\n",
       "      <td>5199.897246</td>\n",
       "      <td>-0.027197</td>\n",
       "    </tr>\n",
       "    <tr>\n",
       "      <th>...</th>\n",
       "      <td>...</td>\n",
       "      <td>...</td>\n",
       "      <td>...</td>\n",
       "      <td>...</td>\n",
       "      <td>...</td>\n",
       "      <td>...</td>\n",
       "      <td>...</td>\n",
       "      <td>...</td>\n",
       "    </tr>\n",
       "    <tr>\n",
       "      <th>2025-03-07</th>\n",
       "      <td>^NSEI</td>\n",
       "      <td>22552.500000</td>\n",
       "      <td>22633.800781</td>\n",
       "      <td>22464.750000</td>\n",
       "      <td>22508.650391</td>\n",
       "      <td>289800</td>\n",
       "      <td>24064.496260</td>\n",
       "      <td>0.000346</td>\n",
       "    </tr>\n",
       "    <tr>\n",
       "      <th>2025-03-10</th>\n",
       "      <td>^NSEI</td>\n",
       "      <td>22460.300781</td>\n",
       "      <td>22676.750000</td>\n",
       "      <td>22429.050781</td>\n",
       "      <td>22521.849609</td>\n",
       "      <td>293900</td>\n",
       "      <td>24063.808760</td>\n",
       "      <td>-0.004088</td>\n",
       "    </tr>\n",
       "    <tr>\n",
       "      <th>2025-03-11</th>\n",
       "      <td>^NSEI</td>\n",
       "      <td>22497.900391</td>\n",
       "      <td>22522.099609</td>\n",
       "      <td>22314.699219</td>\n",
       "      <td>22345.949219</td>\n",
       "      <td>347900</td>\n",
       "      <td>24061.460010</td>\n",
       "      <td>0.001674</td>\n",
       "    </tr>\n",
       "    <tr>\n",
       "      <th>2025-03-12</th>\n",
       "      <td>^NSEI</td>\n",
       "      <td>22470.500000</td>\n",
       "      <td>22577.400391</td>\n",
       "      <td>22329.550781</td>\n",
       "      <td>22536.349609</td>\n",
       "      <td>369700</td>\n",
       "      <td>24059.027012</td>\n",
       "      <td>-0.001218</td>\n",
       "    </tr>\n",
       "    <tr>\n",
       "      <th>2025-03-13</th>\n",
       "      <td>^NSEI</td>\n",
       "      <td>22397.199219</td>\n",
       "      <td>22558.050781</td>\n",
       "      <td>22377.349609</td>\n",
       "      <td>22541.500000</td>\n",
       "      <td>287500</td>\n",
       "      <td>24056.350762</td>\n",
       "      <td>-0.003262</td>\n",
       "    </tr>\n",
       "  </tbody>\n",
       "</table>\n",
       "<p>4090 rows × 8 columns</p>\n",
       "</div>"
      ],
      "text/plain": [
       "Price      Ticker         Close          High           Low          Open  \\\n",
       "Date                                                                        \n",
       "2008-07-07  ^NSEI   4030.000000   4114.500000   4002.000000   4002.000000   \n",
       "2008-07-08  ^NSEI   3988.550049   4028.699951   3896.050049   4028.699951   \n",
       "2008-07-09  ^NSEI   4157.100098   4169.399902   3990.899902   3990.899902   \n",
       "2008-07-10  ^NSEI   4162.200195   4187.950195   4110.399902   4155.649902   \n",
       "2008-07-11  ^NSEI   4049.000000   4215.500000   4014.449951   4166.000000   \n",
       "...           ...           ...           ...           ...           ...   \n",
       "2025-03-07  ^NSEI  22552.500000  22633.800781  22464.750000  22508.650391   \n",
       "2025-03-10  ^NSEI  22460.300781  22676.750000  22429.050781  22521.849609   \n",
       "2025-03-11  ^NSEI  22497.900391  22522.099609  22314.699219  22345.949219   \n",
       "2025-03-12  ^NSEI  22470.500000  22577.400391  22329.550781  22536.349609   \n",
       "2025-03-13  ^NSEI  22397.199219  22558.050781  22377.349609  22541.500000   \n",
       "\n",
       "Price       Volume         MA200  priceChange  \n",
       "Date                                           \n",
       "2008-07-07       0   5210.716744          NaN  \n",
       "2008-07-08       0   5208.186245    -0.010285  \n",
       "2008-07-09       0   5206.240745     0.042258  \n",
       "2008-07-10       0   5203.389995     0.001227  \n",
       "2008-07-11       0   5199.897246    -0.027197  \n",
       "...            ...           ...          ...  \n",
       "2025-03-07  289800  24064.496260     0.000346  \n",
       "2025-03-10  293900  24063.808760    -0.004088  \n",
       "2025-03-11  347900  24061.460010     0.001674  \n",
       "2025-03-12  369700  24059.027012    -0.001218  \n",
       "2025-03-13  287500  24056.350762    -0.003262  \n",
       "\n",
       "[4090 rows x 8 columns]"
      ]
     },
     "execution_count": 53,
     "metadata": {},
     "output_type": "execute_result"
    }
   ],
   "source": [
    "df['priceChange']=df['Close'].pct_change()\n",
    "df"
   ]
  },
  {
   "cell_type": "code",
   "execution_count": 54,
   "metadata": {},
   "outputs": [],
   "source": [
    "df=df.dropna()"
   ]
  },
  {
   "cell_type": "code",
   "execution_count": 55,
   "metadata": {},
   "outputs": [
    {
     "data": {
      "text/html": [
       "<div>\n",
       "<style scoped>\n",
       "    .dataframe tbody tr th:only-of-type {\n",
       "        vertical-align: middle;\n",
       "    }\n",
       "\n",
       "    .dataframe tbody tr th {\n",
       "        vertical-align: top;\n",
       "    }\n",
       "\n",
       "    .dataframe thead th {\n",
       "        text-align: right;\n",
       "    }\n",
       "</style>\n",
       "<table border=\"1\" class=\"dataframe\">\n",
       "  <thead>\n",
       "    <tr style=\"text-align: right;\">\n",
       "      <th>Price</th>\n",
       "      <th>Ticker</th>\n",
       "      <th>Close</th>\n",
       "      <th>High</th>\n",
       "      <th>Low</th>\n",
       "      <th>Open</th>\n",
       "      <th>Volume</th>\n",
       "      <th>MA200</th>\n",
       "      <th>priceChange</th>\n",
       "      <th>Upmove</th>\n",
       "      <th>Downmove</th>\n",
       "    </tr>\n",
       "    <tr>\n",
       "      <th>Date</th>\n",
       "      <th></th>\n",
       "      <th></th>\n",
       "      <th></th>\n",
       "      <th></th>\n",
       "      <th></th>\n",
       "      <th></th>\n",
       "      <th></th>\n",
       "      <th></th>\n",
       "      <th></th>\n",
       "      <th></th>\n",
       "    </tr>\n",
       "  </thead>\n",
       "  <tbody>\n",
       "    <tr>\n",
       "      <th>2008-07-08</th>\n",
       "      <td>^NSEI</td>\n",
       "      <td>3988.550049</td>\n",
       "      <td>4028.699951</td>\n",
       "      <td>3896.050049</td>\n",
       "      <td>4028.699951</td>\n",
       "      <td>0</td>\n",
       "      <td>5208.186245</td>\n",
       "      <td>-0.010285</td>\n",
       "      <td>0.000000</td>\n",
       "      <td>0.010285</td>\n",
       "    </tr>\n",
       "    <tr>\n",
       "      <th>2008-07-09</th>\n",
       "      <td>^NSEI</td>\n",
       "      <td>4157.100098</td>\n",
       "      <td>4169.399902</td>\n",
       "      <td>3990.899902</td>\n",
       "      <td>3990.899902</td>\n",
       "      <td>0</td>\n",
       "      <td>5206.240745</td>\n",
       "      <td>0.042258</td>\n",
       "      <td>0.042258</td>\n",
       "      <td>0.000000</td>\n",
       "    </tr>\n",
       "    <tr>\n",
       "      <th>2008-07-10</th>\n",
       "      <td>^NSEI</td>\n",
       "      <td>4162.200195</td>\n",
       "      <td>4187.950195</td>\n",
       "      <td>4110.399902</td>\n",
       "      <td>4155.649902</td>\n",
       "      <td>0</td>\n",
       "      <td>5203.389995</td>\n",
       "      <td>0.001227</td>\n",
       "      <td>0.001227</td>\n",
       "      <td>0.000000</td>\n",
       "    </tr>\n",
       "    <tr>\n",
       "      <th>2008-07-11</th>\n",
       "      <td>^NSEI</td>\n",
       "      <td>4049.000000</td>\n",
       "      <td>4215.500000</td>\n",
       "      <td>4014.449951</td>\n",
       "      <td>4166.000000</td>\n",
       "      <td>0</td>\n",
       "      <td>5199.897246</td>\n",
       "      <td>-0.027197</td>\n",
       "      <td>0.000000</td>\n",
       "      <td>0.027197</td>\n",
       "    </tr>\n",
       "    <tr>\n",
       "      <th>2008-07-14</th>\n",
       "      <td>^NSEI</td>\n",
       "      <td>4039.699951</td>\n",
       "      <td>4118.100098</td>\n",
       "      <td>4004.250000</td>\n",
       "      <td>4047.449951</td>\n",
       "      <td>0</td>\n",
       "      <td>5195.907997</td>\n",
       "      <td>-0.002297</td>\n",
       "      <td>0.000000</td>\n",
       "      <td>0.002297</td>\n",
       "    </tr>\n",
       "    <tr>\n",
       "      <th>...</th>\n",
       "      <td>...</td>\n",
       "      <td>...</td>\n",
       "      <td>...</td>\n",
       "      <td>...</td>\n",
       "      <td>...</td>\n",
       "      <td>...</td>\n",
       "      <td>...</td>\n",
       "      <td>...</td>\n",
       "      <td>...</td>\n",
       "      <td>...</td>\n",
       "    </tr>\n",
       "    <tr>\n",
       "      <th>2025-03-07</th>\n",
       "      <td>^NSEI</td>\n",
       "      <td>22552.500000</td>\n",
       "      <td>22633.800781</td>\n",
       "      <td>22464.750000</td>\n",
       "      <td>22508.650391</td>\n",
       "      <td>289800</td>\n",
       "      <td>24064.496260</td>\n",
       "      <td>0.000346</td>\n",
       "      <td>0.000346</td>\n",
       "      <td>0.000000</td>\n",
       "    </tr>\n",
       "    <tr>\n",
       "      <th>2025-03-10</th>\n",
       "      <td>^NSEI</td>\n",
       "      <td>22460.300781</td>\n",
       "      <td>22676.750000</td>\n",
       "      <td>22429.050781</td>\n",
       "      <td>22521.849609</td>\n",
       "      <td>293900</td>\n",
       "      <td>24063.808760</td>\n",
       "      <td>-0.004088</td>\n",
       "      <td>0.000000</td>\n",
       "      <td>0.004088</td>\n",
       "    </tr>\n",
       "    <tr>\n",
       "      <th>2025-03-11</th>\n",
       "      <td>^NSEI</td>\n",
       "      <td>22497.900391</td>\n",
       "      <td>22522.099609</td>\n",
       "      <td>22314.699219</td>\n",
       "      <td>22345.949219</td>\n",
       "      <td>347900</td>\n",
       "      <td>24061.460010</td>\n",
       "      <td>0.001674</td>\n",
       "      <td>0.001674</td>\n",
       "      <td>0.000000</td>\n",
       "    </tr>\n",
       "    <tr>\n",
       "      <th>2025-03-12</th>\n",
       "      <td>^NSEI</td>\n",
       "      <td>22470.500000</td>\n",
       "      <td>22577.400391</td>\n",
       "      <td>22329.550781</td>\n",
       "      <td>22536.349609</td>\n",
       "      <td>369700</td>\n",
       "      <td>24059.027012</td>\n",
       "      <td>-0.001218</td>\n",
       "      <td>0.000000</td>\n",
       "      <td>0.001218</td>\n",
       "    </tr>\n",
       "    <tr>\n",
       "      <th>2025-03-13</th>\n",
       "      <td>^NSEI</td>\n",
       "      <td>22397.199219</td>\n",
       "      <td>22558.050781</td>\n",
       "      <td>22377.349609</td>\n",
       "      <td>22541.500000</td>\n",
       "      <td>287500</td>\n",
       "      <td>24056.350762</td>\n",
       "      <td>-0.003262</td>\n",
       "      <td>0.000000</td>\n",
       "      <td>0.003262</td>\n",
       "    </tr>\n",
       "  </tbody>\n",
       "</table>\n",
       "<p>4089 rows × 10 columns</p>\n",
       "</div>"
      ],
      "text/plain": [
       "Price      Ticker         Close          High           Low          Open  \\\n",
       "Date                                                                        \n",
       "2008-07-08  ^NSEI   3988.550049   4028.699951   3896.050049   4028.699951   \n",
       "2008-07-09  ^NSEI   4157.100098   4169.399902   3990.899902   3990.899902   \n",
       "2008-07-10  ^NSEI   4162.200195   4187.950195   4110.399902   4155.649902   \n",
       "2008-07-11  ^NSEI   4049.000000   4215.500000   4014.449951   4166.000000   \n",
       "2008-07-14  ^NSEI   4039.699951   4118.100098   4004.250000   4047.449951   \n",
       "...           ...           ...           ...           ...           ...   \n",
       "2025-03-07  ^NSEI  22552.500000  22633.800781  22464.750000  22508.650391   \n",
       "2025-03-10  ^NSEI  22460.300781  22676.750000  22429.050781  22521.849609   \n",
       "2025-03-11  ^NSEI  22497.900391  22522.099609  22314.699219  22345.949219   \n",
       "2025-03-12  ^NSEI  22470.500000  22577.400391  22329.550781  22536.349609   \n",
       "2025-03-13  ^NSEI  22397.199219  22558.050781  22377.349609  22541.500000   \n",
       "\n",
       "Price       Volume         MA200  priceChange    Upmove  Downmove  \n",
       "Date                                                               \n",
       "2008-07-08       0   5208.186245    -0.010285  0.000000  0.010285  \n",
       "2008-07-09       0   5206.240745     0.042258  0.042258  0.000000  \n",
       "2008-07-10       0   5203.389995     0.001227  0.001227  0.000000  \n",
       "2008-07-11       0   5199.897246    -0.027197  0.000000  0.027197  \n",
       "2008-07-14       0   5195.907997    -0.002297  0.000000  0.002297  \n",
       "...            ...           ...          ...       ...       ...  \n",
       "2025-03-07  289800  24064.496260     0.000346  0.000346  0.000000  \n",
       "2025-03-10  293900  24063.808760    -0.004088  0.000000  0.004088  \n",
       "2025-03-11  347900  24061.460010     0.001674  0.001674  0.000000  \n",
       "2025-03-12  369700  24059.027012    -0.001218  0.000000  0.001218  \n",
       "2025-03-13  287500  24056.350762    -0.003262  0.000000  0.003262  \n",
       "\n",
       "[4089 rows x 10 columns]"
      ]
     },
     "execution_count": 55,
     "metadata": {},
     "output_type": "execute_result"
    }
   ],
   "source": [
    "df['Upmove']=df['priceChange'].apply(lambda x: x if x>0 else 0)\n",
    "df['Downmove']=df['priceChange'].apply(lambda x: abs(x) if x<0 else 0)\n",
    "df"
   ]
  },
  {
   "cell_type": "markdown",
   "metadata": {},
   "source": [
    "Exponential Moving Average-\n",
    "Here AvgU and AvgD are calculated from up moves and down moves using an exponential moving average in the same way as you would calculate an EMA of price. The EMA period is the RSI period. The formula is:\n",
    "\n",
    "AvgUt = a * Ut + ( 1 – a ) * AvgUt-1\n",
    "\n",
    "AvgDt = a * Dt + ( 1 – a ) * AvgDt-1\n",
    "\n",
    "a = 2 / ( N + 1 )\n",
    "\n",
    "N = RSI period\n",
    "\n",
    "Wilder's Smoothing Method\n",
    "J. Welles Wilder, the inventor of RSI, calculated the indicator using a smoothing method with the same logic as an exponential moving average, only the smoothing factor is different:\n",
    "\n",
    "a = 1 / N\n",
    "\n",
    "and therefore 1 – a = ( N – 1 ) / N\n",
    "\n",
    "N = RSI period\n",
    "\n",
    "For example, for RSI 14 the formula for average up move is:\n",
    "\n",
    "AvgUt = 1/14 * Ut + 13/14 * AvgUt-1\n",
    "\n",
    "SOURCE - https://www.macroption.com/rsi-calculation/"
   ]
  },
  {
   "cell_type": "markdown",
   "metadata": {},
   "source": [
    "##### for RSI 10 period the calculation of N is important if we are using python exponential formula. The alpha for rsi period 10 based on Wilder is 1/10. So substituting the alpha=2/(N+1) the N will be 19."
   ]
  },
  {
   "cell_type": "code",
   "execution_count": 56,
   "metadata": {},
   "outputs": [
    {
     "data": {
      "text/html": [
       "<div>\n",
       "<style scoped>\n",
       "    .dataframe tbody tr th:only-of-type {\n",
       "        vertical-align: middle;\n",
       "    }\n",
       "\n",
       "    .dataframe tbody tr th {\n",
       "        vertical-align: top;\n",
       "    }\n",
       "\n",
       "    .dataframe thead th {\n",
       "        text-align: right;\n",
       "    }\n",
       "</style>\n",
       "<table border=\"1\" class=\"dataframe\">\n",
       "  <thead>\n",
       "    <tr style=\"text-align: right;\">\n",
       "      <th>Price</th>\n",
       "      <th>Ticker</th>\n",
       "      <th>Close</th>\n",
       "      <th>High</th>\n",
       "      <th>Low</th>\n",
       "      <th>Open</th>\n",
       "      <th>Volume</th>\n",
       "      <th>MA200</th>\n",
       "      <th>priceChange</th>\n",
       "      <th>Upmove</th>\n",
       "      <th>Downmove</th>\n",
       "      <th>avgUp</th>\n",
       "      <th>avgDown</th>\n",
       "    </tr>\n",
       "    <tr>\n",
       "      <th>Date</th>\n",
       "      <th></th>\n",
       "      <th></th>\n",
       "      <th></th>\n",
       "      <th></th>\n",
       "      <th></th>\n",
       "      <th></th>\n",
       "      <th></th>\n",
       "      <th></th>\n",
       "      <th></th>\n",
       "      <th></th>\n",
       "      <th></th>\n",
       "      <th></th>\n",
       "    </tr>\n",
       "  </thead>\n",
       "  <tbody>\n",
       "    <tr>\n",
       "      <th>2008-07-08</th>\n",
       "      <td>^NSEI</td>\n",
       "      <td>3988.550049</td>\n",
       "      <td>4028.699951</td>\n",
       "      <td>3896.050049</td>\n",
       "      <td>4028.699951</td>\n",
       "      <td>0</td>\n",
       "      <td>5208.186245</td>\n",
       "      <td>-0.010285</td>\n",
       "      <td>0.000000</td>\n",
       "      <td>0.010285</td>\n",
       "      <td>0.000000</td>\n",
       "      <td>0.010285</td>\n",
       "    </tr>\n",
       "    <tr>\n",
       "      <th>2008-07-09</th>\n",
       "      <td>^NSEI</td>\n",
       "      <td>4157.100098</td>\n",
       "      <td>4169.399902</td>\n",
       "      <td>3990.899902</td>\n",
       "      <td>3990.899902</td>\n",
       "      <td>0</td>\n",
       "      <td>5206.240745</td>\n",
       "      <td>0.042258</td>\n",
       "      <td>0.042258</td>\n",
       "      <td>0.000000</td>\n",
       "      <td>0.022241</td>\n",
       "      <td>0.004872</td>\n",
       "    </tr>\n",
       "    <tr>\n",
       "      <th>2008-07-10</th>\n",
       "      <td>^NSEI</td>\n",
       "      <td>4162.200195</td>\n",
       "      <td>4187.950195</td>\n",
       "      <td>4110.399902</td>\n",
       "      <td>4155.649902</td>\n",
       "      <td>0</td>\n",
       "      <td>5203.389995</td>\n",
       "      <td>0.001227</td>\n",
       "      <td>0.001227</td>\n",
       "      <td>0.000000</td>\n",
       "      <td>0.014487</td>\n",
       "      <td>0.003074</td>\n",
       "    </tr>\n",
       "    <tr>\n",
       "      <th>2008-07-11</th>\n",
       "      <td>^NSEI</td>\n",
       "      <td>4049.000000</td>\n",
       "      <td>4215.500000</td>\n",
       "      <td>4014.449951</td>\n",
       "      <td>4166.000000</td>\n",
       "      <td>0</td>\n",
       "      <td>5199.897246</td>\n",
       "      <td>-0.027197</td>\n",
       "      <td>0.000000</td>\n",
       "      <td>0.027197</td>\n",
       "      <td>0.010274</td>\n",
       "      <td>0.010089</td>\n",
       "    </tr>\n",
       "    <tr>\n",
       "      <th>2008-07-14</th>\n",
       "      <td>^NSEI</td>\n",
       "      <td>4039.699951</td>\n",
       "      <td>4118.100098</td>\n",
       "      <td>4004.250000</td>\n",
       "      <td>4047.449951</td>\n",
       "      <td>0</td>\n",
       "      <td>5195.907997</td>\n",
       "      <td>-0.002297</td>\n",
       "      <td>0.000000</td>\n",
       "      <td>0.002297</td>\n",
       "      <td>0.007765</td>\n",
       "      <td>0.008186</td>\n",
       "    </tr>\n",
       "    <tr>\n",
       "      <th>...</th>\n",
       "      <td>...</td>\n",
       "      <td>...</td>\n",
       "      <td>...</td>\n",
       "      <td>...</td>\n",
       "      <td>...</td>\n",
       "      <td>...</td>\n",
       "      <td>...</td>\n",
       "      <td>...</td>\n",
       "      <td>...</td>\n",
       "      <td>...</td>\n",
       "      <td>...</td>\n",
       "      <td>...</td>\n",
       "    </tr>\n",
       "    <tr>\n",
       "      <th>2025-03-07</th>\n",
       "      <td>^NSEI</td>\n",
       "      <td>22552.500000</td>\n",
       "      <td>22633.800781</td>\n",
       "      <td>22464.750000</td>\n",
       "      <td>22508.650391</td>\n",
       "      <td>289800</td>\n",
       "      <td>24064.496260</td>\n",
       "      <td>0.000346</td>\n",
       "      <td>0.000346</td>\n",
       "      <td>0.000000</td>\n",
       "      <td>0.002312</td>\n",
       "      <td>0.002831</td>\n",
       "    </tr>\n",
       "    <tr>\n",
       "      <th>2025-03-10</th>\n",
       "      <td>^NSEI</td>\n",
       "      <td>22460.300781</td>\n",
       "      <td>22676.750000</td>\n",
       "      <td>22429.050781</td>\n",
       "      <td>22521.849609</td>\n",
       "      <td>293900</td>\n",
       "      <td>24063.808760</td>\n",
       "      <td>-0.004088</td>\n",
       "      <td>0.000000</td>\n",
       "      <td>0.004088</td>\n",
       "      <td>0.002081</td>\n",
       "      <td>0.002957</td>\n",
       "    </tr>\n",
       "    <tr>\n",
       "      <th>2025-03-11</th>\n",
       "      <td>^NSEI</td>\n",
       "      <td>22497.900391</td>\n",
       "      <td>22522.099609</td>\n",
       "      <td>22314.699219</td>\n",
       "      <td>22345.949219</td>\n",
       "      <td>347900</td>\n",
       "      <td>24061.460010</td>\n",
       "      <td>0.001674</td>\n",
       "      <td>0.001674</td>\n",
       "      <td>0.000000</td>\n",
       "      <td>0.002040</td>\n",
       "      <td>0.002661</td>\n",
       "    </tr>\n",
       "    <tr>\n",
       "      <th>2025-03-12</th>\n",
       "      <td>^NSEI</td>\n",
       "      <td>22470.500000</td>\n",
       "      <td>22577.400391</td>\n",
       "      <td>22329.550781</td>\n",
       "      <td>22536.349609</td>\n",
       "      <td>369700</td>\n",
       "      <td>24059.027012</td>\n",
       "      <td>-0.001218</td>\n",
       "      <td>0.000000</td>\n",
       "      <td>0.001218</td>\n",
       "      <td>0.001836</td>\n",
       "      <td>0.002517</td>\n",
       "    </tr>\n",
       "    <tr>\n",
       "      <th>2025-03-13</th>\n",
       "      <td>^NSEI</td>\n",
       "      <td>22397.199219</td>\n",
       "      <td>22558.050781</td>\n",
       "      <td>22377.349609</td>\n",
       "      <td>22541.500000</td>\n",
       "      <td>287500</td>\n",
       "      <td>24056.350762</td>\n",
       "      <td>-0.003262</td>\n",
       "      <td>0.000000</td>\n",
       "      <td>0.003262</td>\n",
       "      <td>0.001653</td>\n",
       "      <td>0.002592</td>\n",
       "    </tr>\n",
       "  </tbody>\n",
       "</table>\n",
       "<p>4089 rows × 12 columns</p>\n",
       "</div>"
      ],
      "text/plain": [
       "Price      Ticker         Close          High           Low          Open  \\\n",
       "Date                                                                        \n",
       "2008-07-08  ^NSEI   3988.550049   4028.699951   3896.050049   4028.699951   \n",
       "2008-07-09  ^NSEI   4157.100098   4169.399902   3990.899902   3990.899902   \n",
       "2008-07-10  ^NSEI   4162.200195   4187.950195   4110.399902   4155.649902   \n",
       "2008-07-11  ^NSEI   4049.000000   4215.500000   4014.449951   4166.000000   \n",
       "2008-07-14  ^NSEI   4039.699951   4118.100098   4004.250000   4047.449951   \n",
       "...           ...           ...           ...           ...           ...   \n",
       "2025-03-07  ^NSEI  22552.500000  22633.800781  22464.750000  22508.650391   \n",
       "2025-03-10  ^NSEI  22460.300781  22676.750000  22429.050781  22521.849609   \n",
       "2025-03-11  ^NSEI  22497.900391  22522.099609  22314.699219  22345.949219   \n",
       "2025-03-12  ^NSEI  22470.500000  22577.400391  22329.550781  22536.349609   \n",
       "2025-03-13  ^NSEI  22397.199219  22558.050781  22377.349609  22541.500000   \n",
       "\n",
       "Price       Volume         MA200  priceChange    Upmove  Downmove     avgUp  \\\n",
       "Date                                                                          \n",
       "2008-07-08       0   5208.186245    -0.010285  0.000000  0.010285  0.000000   \n",
       "2008-07-09       0   5206.240745     0.042258  0.042258  0.000000  0.022241   \n",
       "2008-07-10       0   5203.389995     0.001227  0.001227  0.000000  0.014487   \n",
       "2008-07-11       0   5199.897246    -0.027197  0.000000  0.027197  0.010274   \n",
       "2008-07-14       0   5195.907997    -0.002297  0.000000  0.002297  0.007765   \n",
       "...            ...           ...          ...       ...       ...       ...   \n",
       "2025-03-07  289800  24064.496260     0.000346  0.000346  0.000000  0.002312   \n",
       "2025-03-10  293900  24063.808760    -0.004088  0.000000  0.004088  0.002081   \n",
       "2025-03-11  347900  24061.460010     0.001674  0.001674  0.000000  0.002040   \n",
       "2025-03-12  369700  24059.027012    -0.001218  0.000000  0.001218  0.001836   \n",
       "2025-03-13  287500  24056.350762    -0.003262  0.000000  0.003262  0.001653   \n",
       "\n",
       "Price        avgDown  \n",
       "Date                  \n",
       "2008-07-08  0.010285  \n",
       "2008-07-09  0.004872  \n",
       "2008-07-10  0.003074  \n",
       "2008-07-11  0.010089  \n",
       "2008-07-14  0.008186  \n",
       "...              ...  \n",
       "2025-03-07  0.002831  \n",
       "2025-03-10  0.002957  \n",
       "2025-03-11  0.002661  \n",
       "2025-03-12  0.002517  \n",
       "2025-03-13  0.002592  \n",
       "\n",
       "[4089 rows x 12 columns]"
      ]
     },
     "execution_count": 56,
     "metadata": {},
     "output_type": "execute_result"
    }
   ],
   "source": [
    "df['avgUp']=df['Upmove'].ewm(span=19).mean()\n",
    "df['avgDown']=df['Downmove'].ewm(span=19).mean()\n",
    "df"
   ]
  },
  {
   "cell_type": "code",
   "execution_count": 57,
   "metadata": {},
   "outputs": [
    {
     "data": {
      "text/html": [
       "<div>\n",
       "<style scoped>\n",
       "    .dataframe tbody tr th:only-of-type {\n",
       "        vertical-align: middle;\n",
       "    }\n",
       "\n",
       "    .dataframe tbody tr th {\n",
       "        vertical-align: top;\n",
       "    }\n",
       "\n",
       "    .dataframe thead th {\n",
       "        text-align: right;\n",
       "    }\n",
       "</style>\n",
       "<table border=\"1\" class=\"dataframe\">\n",
       "  <thead>\n",
       "    <tr style=\"text-align: right;\">\n",
       "      <th>Price</th>\n",
       "      <th>Ticker</th>\n",
       "      <th>Close</th>\n",
       "      <th>High</th>\n",
       "      <th>Low</th>\n",
       "      <th>Open</th>\n",
       "      <th>Volume</th>\n",
       "      <th>MA200</th>\n",
       "      <th>priceChange</th>\n",
       "      <th>Upmove</th>\n",
       "      <th>Downmove</th>\n",
       "      <th>avgUp</th>\n",
       "      <th>avgDown</th>\n",
       "      <th>RS</th>\n",
       "      <th>RSI</th>\n",
       "    </tr>\n",
       "    <tr>\n",
       "      <th>Date</th>\n",
       "      <th></th>\n",
       "      <th></th>\n",
       "      <th></th>\n",
       "      <th></th>\n",
       "      <th></th>\n",
       "      <th></th>\n",
       "      <th></th>\n",
       "      <th></th>\n",
       "      <th></th>\n",
       "      <th></th>\n",
       "      <th></th>\n",
       "      <th></th>\n",
       "      <th></th>\n",
       "      <th></th>\n",
       "    </tr>\n",
       "  </thead>\n",
       "  <tbody>\n",
       "    <tr>\n",
       "      <th>2008-07-08</th>\n",
       "      <td>^NSEI</td>\n",
       "      <td>3988.550049</td>\n",
       "      <td>4028.699951</td>\n",
       "      <td>3896.050049</td>\n",
       "      <td>4028.699951</td>\n",
       "      <td>0</td>\n",
       "      <td>5208.186245</td>\n",
       "      <td>-0.010285</td>\n",
       "      <td>0.000000</td>\n",
       "      <td>0.010285</td>\n",
       "      <td>0.000000</td>\n",
       "      <td>0.010285</td>\n",
       "      <td>0.000000</td>\n",
       "      <td>0.000000</td>\n",
       "    </tr>\n",
       "    <tr>\n",
       "      <th>2008-07-09</th>\n",
       "      <td>^NSEI</td>\n",
       "      <td>4157.100098</td>\n",
       "      <td>4169.399902</td>\n",
       "      <td>3990.899902</td>\n",
       "      <td>3990.899902</td>\n",
       "      <td>0</td>\n",
       "      <td>5206.240745</td>\n",
       "      <td>0.042258</td>\n",
       "      <td>0.042258</td>\n",
       "      <td>0.000000</td>\n",
       "      <td>0.022241</td>\n",
       "      <td>0.004872</td>\n",
       "      <td>4.565122</td>\n",
       "      <td>82.030941</td>\n",
       "    </tr>\n",
       "    <tr>\n",
       "      <th>2008-07-10</th>\n",
       "      <td>^NSEI</td>\n",
       "      <td>4162.200195</td>\n",
       "      <td>4187.950195</td>\n",
       "      <td>4110.399902</td>\n",
       "      <td>4155.649902</td>\n",
       "      <td>0</td>\n",
       "      <td>5203.389995</td>\n",
       "      <td>0.001227</td>\n",
       "      <td>0.001227</td>\n",
       "      <td>0.000000</td>\n",
       "      <td>0.014487</td>\n",
       "      <td>0.003074</td>\n",
       "      <td>4.712381</td>\n",
       "      <td>82.494166</td>\n",
       "    </tr>\n",
       "    <tr>\n",
       "      <th>2008-07-11</th>\n",
       "      <td>^NSEI</td>\n",
       "      <td>4049.000000</td>\n",
       "      <td>4215.500000</td>\n",
       "      <td>4014.449951</td>\n",
       "      <td>4166.000000</td>\n",
       "      <td>0</td>\n",
       "      <td>5199.897246</td>\n",
       "      <td>-0.027197</td>\n",
       "      <td>0.000000</td>\n",
       "      <td>0.027197</td>\n",
       "      <td>0.010274</td>\n",
       "      <td>0.010089</td>\n",
       "      <td>1.018397</td>\n",
       "      <td>50.455743</td>\n",
       "    </tr>\n",
       "    <tr>\n",
       "      <th>2008-07-14</th>\n",
       "      <td>^NSEI</td>\n",
       "      <td>4039.699951</td>\n",
       "      <td>4118.100098</td>\n",
       "      <td>4004.250000</td>\n",
       "      <td>4047.449951</td>\n",
       "      <td>0</td>\n",
       "      <td>5195.907997</td>\n",
       "      <td>-0.002297</td>\n",
       "      <td>0.000000</td>\n",
       "      <td>0.002297</td>\n",
       "      <td>0.007765</td>\n",
       "      <td>0.008186</td>\n",
       "      <td>0.948620</td>\n",
       "      <td>48.681621</td>\n",
       "    </tr>\n",
       "    <tr>\n",
       "      <th>...</th>\n",
       "      <td>...</td>\n",
       "      <td>...</td>\n",
       "      <td>...</td>\n",
       "      <td>...</td>\n",
       "      <td>...</td>\n",
       "      <td>...</td>\n",
       "      <td>...</td>\n",
       "      <td>...</td>\n",
       "      <td>...</td>\n",
       "      <td>...</td>\n",
       "      <td>...</td>\n",
       "      <td>...</td>\n",
       "      <td>...</td>\n",
       "      <td>...</td>\n",
       "    </tr>\n",
       "    <tr>\n",
       "      <th>2025-03-07</th>\n",
       "      <td>^NSEI</td>\n",
       "      <td>22552.500000</td>\n",
       "      <td>22633.800781</td>\n",
       "      <td>22464.750000</td>\n",
       "      <td>22508.650391</td>\n",
       "      <td>289800</td>\n",
       "      <td>24064.496260</td>\n",
       "      <td>0.000346</td>\n",
       "      <td>0.000346</td>\n",
       "      <td>0.000000</td>\n",
       "      <td>0.002312</td>\n",
       "      <td>0.002831</td>\n",
       "      <td>0.816729</td>\n",
       "      <td>44.956017</td>\n",
       "    </tr>\n",
       "    <tr>\n",
       "      <th>2025-03-10</th>\n",
       "      <td>^NSEI</td>\n",
       "      <td>22460.300781</td>\n",
       "      <td>22676.750000</td>\n",
       "      <td>22429.050781</td>\n",
       "      <td>22521.849609</td>\n",
       "      <td>293900</td>\n",
       "      <td>24063.808760</td>\n",
       "      <td>-0.004088</td>\n",
       "      <td>0.000000</td>\n",
       "      <td>0.004088</td>\n",
       "      <td>0.002081</td>\n",
       "      <td>0.002957</td>\n",
       "      <td>0.703814</td>\n",
       "      <td>41.308149</td>\n",
       "    </tr>\n",
       "    <tr>\n",
       "      <th>2025-03-11</th>\n",
       "      <td>^NSEI</td>\n",
       "      <td>22497.900391</td>\n",
       "      <td>22522.099609</td>\n",
       "      <td>22314.699219</td>\n",
       "      <td>22345.949219</td>\n",
       "      <td>347900</td>\n",
       "      <td>24061.460010</td>\n",
       "      <td>0.001674</td>\n",
       "      <td>0.001674</td>\n",
       "      <td>0.000000</td>\n",
       "      <td>0.002040</td>\n",
       "      <td>0.002661</td>\n",
       "      <td>0.766716</td>\n",
       "      <td>43.397817</td>\n",
       "    </tr>\n",
       "    <tr>\n",
       "      <th>2025-03-12</th>\n",
       "      <td>^NSEI</td>\n",
       "      <td>22470.500000</td>\n",
       "      <td>22577.400391</td>\n",
       "      <td>22329.550781</td>\n",
       "      <td>22536.349609</td>\n",
       "      <td>369700</td>\n",
       "      <td>24059.027012</td>\n",
       "      <td>-0.001218</td>\n",
       "      <td>0.000000</td>\n",
       "      <td>0.001218</td>\n",
       "      <td>0.001836</td>\n",
       "      <td>0.002517</td>\n",
       "      <td>0.729617</td>\n",
       "      <td>42.183732</td>\n",
       "    </tr>\n",
       "    <tr>\n",
       "      <th>2025-03-13</th>\n",
       "      <td>^NSEI</td>\n",
       "      <td>22397.199219</td>\n",
       "      <td>22558.050781</td>\n",
       "      <td>22377.349609</td>\n",
       "      <td>22541.500000</td>\n",
       "      <td>287500</td>\n",
       "      <td>24056.350762</td>\n",
       "      <td>-0.003262</td>\n",
       "      <td>0.000000</td>\n",
       "      <td>0.003262</td>\n",
       "      <td>0.001653</td>\n",
       "      <td>0.002592</td>\n",
       "      <td>0.637776</td>\n",
       "      <td>38.941582</td>\n",
       "    </tr>\n",
       "  </tbody>\n",
       "</table>\n",
       "<p>4089 rows × 14 columns</p>\n",
       "</div>"
      ],
      "text/plain": [
       "Price      Ticker         Close          High           Low          Open  \\\n",
       "Date                                                                        \n",
       "2008-07-08  ^NSEI   3988.550049   4028.699951   3896.050049   4028.699951   \n",
       "2008-07-09  ^NSEI   4157.100098   4169.399902   3990.899902   3990.899902   \n",
       "2008-07-10  ^NSEI   4162.200195   4187.950195   4110.399902   4155.649902   \n",
       "2008-07-11  ^NSEI   4049.000000   4215.500000   4014.449951   4166.000000   \n",
       "2008-07-14  ^NSEI   4039.699951   4118.100098   4004.250000   4047.449951   \n",
       "...           ...           ...           ...           ...           ...   \n",
       "2025-03-07  ^NSEI  22552.500000  22633.800781  22464.750000  22508.650391   \n",
       "2025-03-10  ^NSEI  22460.300781  22676.750000  22429.050781  22521.849609   \n",
       "2025-03-11  ^NSEI  22497.900391  22522.099609  22314.699219  22345.949219   \n",
       "2025-03-12  ^NSEI  22470.500000  22577.400391  22329.550781  22536.349609   \n",
       "2025-03-13  ^NSEI  22397.199219  22558.050781  22377.349609  22541.500000   \n",
       "\n",
       "Price       Volume         MA200  priceChange    Upmove  Downmove     avgUp  \\\n",
       "Date                                                                          \n",
       "2008-07-08       0   5208.186245    -0.010285  0.000000  0.010285  0.000000   \n",
       "2008-07-09       0   5206.240745     0.042258  0.042258  0.000000  0.022241   \n",
       "2008-07-10       0   5203.389995     0.001227  0.001227  0.000000  0.014487   \n",
       "2008-07-11       0   5199.897246    -0.027197  0.000000  0.027197  0.010274   \n",
       "2008-07-14       0   5195.907997    -0.002297  0.000000  0.002297  0.007765   \n",
       "...            ...           ...          ...       ...       ...       ...   \n",
       "2025-03-07  289800  24064.496260     0.000346  0.000346  0.000000  0.002312   \n",
       "2025-03-10  293900  24063.808760    -0.004088  0.000000  0.004088  0.002081   \n",
       "2025-03-11  347900  24061.460010     0.001674  0.001674  0.000000  0.002040   \n",
       "2025-03-12  369700  24059.027012    -0.001218  0.000000  0.001218  0.001836   \n",
       "2025-03-13  287500  24056.350762    -0.003262  0.000000  0.003262  0.001653   \n",
       "\n",
       "Price        avgDown        RS        RSI  \n",
       "Date                                       \n",
       "2008-07-08  0.010285  0.000000   0.000000  \n",
       "2008-07-09  0.004872  4.565122  82.030941  \n",
       "2008-07-10  0.003074  4.712381  82.494166  \n",
       "2008-07-11  0.010089  1.018397  50.455743  \n",
       "2008-07-14  0.008186  0.948620  48.681621  \n",
       "...              ...       ...        ...  \n",
       "2025-03-07  0.002831  0.816729  44.956017  \n",
       "2025-03-10  0.002957  0.703814  41.308149  \n",
       "2025-03-11  0.002661  0.766716  43.397817  \n",
       "2025-03-12  0.002517  0.729617  42.183732  \n",
       "2025-03-13  0.002592  0.637776  38.941582  \n",
       "\n",
       "[4089 rows x 14 columns]"
      ]
     },
     "execution_count": 57,
     "metadata": {},
     "output_type": "execute_result"
    }
   ],
   "source": [
    "df['RS']= df['avgUp']/df['avgDown']\n",
    "df['RSI']= df['RS'].apply(lambda x: 100-(100/(x+1)))\n",
    "df\n"
   ]
  },
  {
   "cell_type": "markdown",
   "metadata": {},
   "source": [
    "### Define the location in our DF definined by the strategy buy and sell condition. RECAP:\n",
    "\n",
    "Entry (buy on next day open):\n",
    "1. Price above 200 SMA\n",
    "2. 10 period RSI below 30\n",
    "\n",
    "Exit(sell on next day open):\n",
    "1. 10 period RSI above 40 or after 10 trading days"
   ]
  },
  {
   "cell_type": "code",
   "execution_count": 61,
   "metadata": {},
   "outputs": [
    {
     "data": {
      "text/html": [
       "<div>\n",
       "<style scoped>\n",
       "    .dataframe tbody tr th:only-of-type {\n",
       "        vertical-align: middle;\n",
       "    }\n",
       "\n",
       "    .dataframe tbody tr th {\n",
       "        vertical-align: top;\n",
       "    }\n",
       "\n",
       "    .dataframe thead th {\n",
       "        text-align: right;\n",
       "    }\n",
       "</style>\n",
       "<table border=\"1\" class=\"dataframe\">\n",
       "  <thead>\n",
       "    <tr style=\"text-align: right;\">\n",
       "      <th>Price</th>\n",
       "      <th>Close</th>\n",
       "      <th>MA200</th>\n",
       "      <th>RSI</th>\n",
       "      <th>Buy</th>\n",
       "      <th>Signal</th>\n",
       "    </tr>\n",
       "    <tr>\n",
       "      <th>Date</th>\n",
       "      <th></th>\n",
       "      <th></th>\n",
       "      <th></th>\n",
       "      <th></th>\n",
       "      <th></th>\n",
       "    </tr>\n",
       "  </thead>\n",
       "  <tbody>\n",
       "    <tr>\n",
       "      <th>2025-03-07</th>\n",
       "      <td>22552.500000</td>\n",
       "      <td>24064.496260</td>\n",
       "      <td>44.956017</td>\n",
       "      <td>No</td>\n",
       "      <td>0</td>\n",
       "    </tr>\n",
       "    <tr>\n",
       "      <th>2025-03-10</th>\n",
       "      <td>22460.300781</td>\n",
       "      <td>24063.808760</td>\n",
       "      <td>41.308149</td>\n",
       "      <td>No</td>\n",
       "      <td>0</td>\n",
       "    </tr>\n",
       "    <tr>\n",
       "      <th>2025-03-11</th>\n",
       "      <td>22497.900391</td>\n",
       "      <td>24061.460010</td>\n",
       "      <td>43.397817</td>\n",
       "      <td>No</td>\n",
       "      <td>0</td>\n",
       "    </tr>\n",
       "    <tr>\n",
       "      <th>2025-03-12</th>\n",
       "      <td>22470.500000</td>\n",
       "      <td>24059.027012</td>\n",
       "      <td>42.183732</td>\n",
       "      <td>No</td>\n",
       "      <td>0</td>\n",
       "    </tr>\n",
       "    <tr>\n",
       "      <th>2025-03-13</th>\n",
       "      <td>22397.199219</td>\n",
       "      <td>24056.350762</td>\n",
       "      <td>38.941582</td>\n",
       "      <td>No</td>\n",
       "      <td>0</td>\n",
       "    </tr>\n",
       "  </tbody>\n",
       "</table>\n",
       "</div>"
      ],
      "text/plain": [
       "Price              Close         MA200        RSI Buy  Signal\n",
       "Date                                                         \n",
       "2025-03-07  22552.500000  24064.496260  44.956017  No       0\n",
       "2025-03-10  22460.300781  24063.808760  41.308149  No       0\n",
       "2025-03-11  22497.900391  24061.460010  43.397817  No       0\n",
       "2025-03-12  22470.500000  24059.027012  42.183732  No       0\n",
       "2025-03-13  22397.199219  24056.350762  38.941582  No       0"
      ]
     },
     "execution_count": 61,
     "metadata": {},
     "output_type": "execute_result"
    }
   ],
   "source": [
    "# signal for buy using iloc\n",
    "df.loc[(df['Close']>df['MA200']) & (df['RSI']<30),'Buy']='Yes'\n",
    "df.loc[(df['Close']<df['MA200']) | (df['RSI']>30), 'Buy']='No'\n",
    "# signal for buy using np.where\n",
    "import numpy as np\n",
    "df['Signal']=np.where((df['Close']>df['MA200'])&(df['RSI']<30),1,0)\n",
    "df[['Close','MA200','RSI','Buy','Signal']].tail(5)"
   ]
  },
  {
   "cell_type": "code",
   "execution_count": 63,
   "metadata": {},
   "outputs": [
    {
     "data": {
      "text/html": [
       "<div>\n",
       "<style scoped>\n",
       "    .dataframe tbody tr th:only-of-type {\n",
       "        vertical-align: middle;\n",
       "    }\n",
       "\n",
       "    .dataframe tbody tr th {\n",
       "        vertical-align: top;\n",
       "    }\n",
       "\n",
       "    .dataframe thead th {\n",
       "        text-align: right;\n",
       "    }\n",
       "</style>\n",
       "<table border=\"1\" class=\"dataframe\">\n",
       "  <thead>\n",
       "    <tr style=\"text-align: right;\">\n",
       "      <th>Price</th>\n",
       "      <th>Close</th>\n",
       "      <th>MA200</th>\n",
       "      <th>RSI</th>\n",
       "      <th>Buy</th>\n",
       "      <th>Signal</th>\n",
       "    </tr>\n",
       "    <tr>\n",
       "      <th>Date</th>\n",
       "      <th></th>\n",
       "      <th></th>\n",
       "      <th></th>\n",
       "      <th></th>\n",
       "      <th></th>\n",
       "    </tr>\n",
       "  </thead>\n",
       "  <tbody>\n",
       "    <tr>\n",
       "      <th>2019-07-26</th>\n",
       "      <td>11284.299805</td>\n",
       "      <td>11131.633018</td>\n",
       "      <td>29.478796</td>\n",
       "      <td>Yes</td>\n",
       "      <td>1</td>\n",
       "    </tr>\n",
       "    <tr>\n",
       "      <th>2019-07-29</th>\n",
       "      <td>11189.200195</td>\n",
       "      <td>11132.537520</td>\n",
       "      <td>25.028911</td>\n",
       "      <td>Yes</td>\n",
       "      <td>1</td>\n",
       "    </tr>\n",
       "    <tr>\n",
       "      <th>2020-02-03</th>\n",
       "      <td>11707.900391</td>\n",
       "      <td>11655.346758</td>\n",
       "      <td>25.806208</td>\n",
       "      <td>Yes</td>\n",
       "      <td>1</td>\n",
       "    </tr>\n",
       "    <tr>\n",
       "      <th>2020-09-24</th>\n",
       "      <td>10805.549805</td>\n",
       "      <td>10762.755010</td>\n",
       "      <td>23.307455</td>\n",
       "      <td>Yes</td>\n",
       "      <td>1</td>\n",
       "    </tr>\n",
       "    <tr>\n",
       "      <th>2021-01-29</th>\n",
       "      <td>13634.599609</td>\n",
       "      <td>11539.206753</td>\n",
       "      <td>29.781901</td>\n",
       "      <td>Yes</td>\n",
       "      <td>1</td>\n",
       "    </tr>\n",
       "    <tr>\n",
       "      <th>2021-11-22</th>\n",
       "      <td>17416.550781</td>\n",
       "      <td>16020.263730</td>\n",
       "      <td>29.802888</td>\n",
       "      <td>Yes</td>\n",
       "      <td>1</td>\n",
       "    </tr>\n",
       "    <tr>\n",
       "      <th>2021-11-26</th>\n",
       "      <td>17026.449219</td>\n",
       "      <td>16080.901230</td>\n",
       "      <td>26.629126</td>\n",
       "      <td>Yes</td>\n",
       "      <td>1</td>\n",
       "    </tr>\n",
       "    <tr>\n",
       "      <th>2021-11-29</th>\n",
       "      <td>17053.949219</td>\n",
       "      <td>16091.692725</td>\n",
       "      <td>28.025969</td>\n",
       "      <td>Yes</td>\n",
       "      <td>1</td>\n",
       "    </tr>\n",
       "    <tr>\n",
       "      <th>2021-11-30</th>\n",
       "      <td>16983.199219</td>\n",
       "      <td>16101.987471</td>\n",
       "      <td>26.581672</td>\n",
       "      <td>Yes</td>\n",
       "      <td>1</td>\n",
       "    </tr>\n",
       "    <tr>\n",
       "      <th>2021-12-20</th>\n",
       "      <td>16614.199219</td>\n",
       "      <td>16252.215718</td>\n",
       "      <td>28.314023</td>\n",
       "      <td>Yes</td>\n",
       "      <td>1</td>\n",
       "    </tr>\n",
       "    <tr>\n",
       "      <th>2022-12-23</th>\n",
       "      <td>17806.800781</td>\n",
       "      <td>17185.102275</td>\n",
       "      <td>25.640147</td>\n",
       "      <td>Yes</td>\n",
       "      <td>1</td>\n",
       "    </tr>\n",
       "    <tr>\n",
       "      <th>2023-02-27</th>\n",
       "      <td>17392.699219</td>\n",
       "      <td>17376.380234</td>\n",
       "      <td>27.974053</td>\n",
       "      <td>Yes</td>\n",
       "      <td>1</td>\n",
       "    </tr>\n",
       "    <tr>\n",
       "      <th>2023-10-25</th>\n",
       "      <td>19122.150391</td>\n",
       "      <td>18604.728066</td>\n",
       "      <td>26.367703</td>\n",
       "      <td>Yes</td>\n",
       "      <td>1</td>\n",
       "    </tr>\n",
       "    <tr>\n",
       "      <th>2023-10-26</th>\n",
       "      <td>18857.250000</td>\n",
       "      <td>18607.851562</td>\n",
       "      <td>20.663603</td>\n",
       "      <td>Yes</td>\n",
       "      <td>1</td>\n",
       "    </tr>\n",
       "    <tr>\n",
       "      <th>2024-10-22</th>\n",
       "      <td>24472.099609</td>\n",
       "      <td>23332.811699</td>\n",
       "      <td>28.604951</td>\n",
       "      <td>Yes</td>\n",
       "      <td>1</td>\n",
       "    </tr>\n",
       "    <tr>\n",
       "      <th>2024-10-23</th>\n",
       "      <td>24435.500000</td>\n",
       "      <td>23346.332197</td>\n",
       "      <td>27.819635</td>\n",
       "      <td>Yes</td>\n",
       "      <td>1</td>\n",
       "    </tr>\n",
       "    <tr>\n",
       "      <th>2024-10-24</th>\n",
       "      <td>24399.400391</td>\n",
       "      <td>23359.619697</td>\n",
       "      <td>27.005879</td>\n",
       "      <td>Yes</td>\n",
       "      <td>1</td>\n",
       "    </tr>\n",
       "    <tr>\n",
       "      <th>2024-10-25</th>\n",
       "      <td>24180.800781</td>\n",
       "      <td>23372.194697</td>\n",
       "      <td>22.559392</td>\n",
       "      <td>Yes</td>\n",
       "      <td>1</td>\n",
       "    </tr>\n",
       "    <tr>\n",
       "      <th>2024-11-04</th>\n",
       "      <td>23995.349609</td>\n",
       "      <td>23452.637695</td>\n",
       "      <td>28.765461</td>\n",
       "      <td>Yes</td>\n",
       "      <td>1</td>\n",
       "    </tr>\n",
       "    <tr>\n",
       "      <th>2024-11-13</th>\n",
       "      <td>23559.050781</td>\n",
       "      <td>23534.140703</td>\n",
       "      <td>27.077650</td>\n",
       "      <td>Yes</td>\n",
       "      <td>1</td>\n",
       "    </tr>\n",
       "  </tbody>\n",
       "</table>\n",
       "</div>"
      ],
      "text/plain": [
       "Price              Close         MA200        RSI  Buy  Signal\n",
       "Date                                                          \n",
       "2019-07-26  11284.299805  11131.633018  29.478796  Yes       1\n",
       "2019-07-29  11189.200195  11132.537520  25.028911  Yes       1\n",
       "2020-02-03  11707.900391  11655.346758  25.806208  Yes       1\n",
       "2020-09-24  10805.549805  10762.755010  23.307455  Yes       1\n",
       "2021-01-29  13634.599609  11539.206753  29.781901  Yes       1\n",
       "2021-11-22  17416.550781  16020.263730  29.802888  Yes       1\n",
       "2021-11-26  17026.449219  16080.901230  26.629126  Yes       1\n",
       "2021-11-29  17053.949219  16091.692725  28.025969  Yes       1\n",
       "2021-11-30  16983.199219  16101.987471  26.581672  Yes       1\n",
       "2021-12-20  16614.199219  16252.215718  28.314023  Yes       1\n",
       "2022-12-23  17806.800781  17185.102275  25.640147  Yes       1\n",
       "2023-02-27  17392.699219  17376.380234  27.974053  Yes       1\n",
       "2023-10-25  19122.150391  18604.728066  26.367703  Yes       1\n",
       "2023-10-26  18857.250000  18607.851562  20.663603  Yes       1\n",
       "2024-10-22  24472.099609  23332.811699  28.604951  Yes       1\n",
       "2024-10-23  24435.500000  23346.332197  27.819635  Yes       1\n",
       "2024-10-24  24399.400391  23359.619697  27.005879  Yes       1\n",
       "2024-10-25  24180.800781  23372.194697  22.559392  Yes       1\n",
       "2024-11-04  23995.349609  23452.637695  28.765461  Yes       1\n",
       "2024-11-13  23559.050781  23534.140703  27.077650  Yes       1"
      ]
     },
     "execution_count": 63,
     "metadata": {},
     "output_type": "execute_result"
    }
   ],
   "source": [
    "# Check the buy trades\n",
    "filterBuy=df['Buy']==\"Yes\"\n",
    "df[filterBuy][['Close','MA200','RSI','Buy','Signal']].tail(20)"
   ]
  },
  {
   "cell_type": "markdown",
   "metadata": {},
   "source": [
    "### Calculate the Dates for our buys and sells"
   ]
  },
  {
   "cell_type": "code",
   "execution_count": 64,
   "metadata": {},
   "outputs": [
    {
     "data": {
      "text/html": [
       "<div>\n",
       "<style scoped>\n",
       "    .dataframe tbody tr th:only-of-type {\n",
       "        vertical-align: middle;\n",
       "    }\n",
       "\n",
       "    .dataframe tbody tr th {\n",
       "        vertical-align: top;\n",
       "    }\n",
       "\n",
       "    .dataframe thead th {\n",
       "        text-align: right;\n",
       "    }\n",
       "</style>\n",
       "<table border=\"1\" class=\"dataframe\">\n",
       "  <thead>\n",
       "    <tr style=\"text-align: right;\">\n",
       "      <th></th>\n",
       "      <th>Buying_Dates</th>\n",
       "      <th>Selling_Dates</th>\n",
       "    </tr>\n",
       "  </thead>\n",
       "  <tbody>\n",
       "    <tr>\n",
       "      <th>0</th>\n",
       "      <td>2009-10-30</td>\n",
       "      <td>2009-11-06</td>\n",
       "    </tr>\n",
       "    <tr>\n",
       "      <th>1</th>\n",
       "      <td>2009-11-03</td>\n",
       "      <td>2009-11-06</td>\n",
       "    </tr>\n",
       "    <tr>\n",
       "      <th>2</th>\n",
       "      <td>2009-11-04</td>\n",
       "      <td>2009-11-06</td>\n",
       "    </tr>\n",
       "    <tr>\n",
       "      <th>3</th>\n",
       "      <td>2010-01-25</td>\n",
       "      <td>2010-02-09</td>\n",
       "    </tr>\n",
       "    <tr>\n",
       "      <th>4</th>\n",
       "      <td>2010-01-27</td>\n",
       "      <td>2010-02-10</td>\n",
       "    </tr>\n",
       "    <tr>\n",
       "      <th>...</th>\n",
       "      <td>...</td>\n",
       "      <td>...</td>\n",
       "    </tr>\n",
       "    <tr>\n",
       "      <th>62</th>\n",
       "      <td>2024-10-24</td>\n",
       "      <td>2024-11-07</td>\n",
       "    </tr>\n",
       "    <tr>\n",
       "      <th>63</th>\n",
       "      <td>2024-10-25</td>\n",
       "      <td>2024-11-07</td>\n",
       "    </tr>\n",
       "    <tr>\n",
       "      <th>64</th>\n",
       "      <td>2024-10-28</td>\n",
       "      <td>2024-11-07</td>\n",
       "    </tr>\n",
       "    <tr>\n",
       "      <th>65</th>\n",
       "      <td>2024-11-05</td>\n",
       "      <td>2024-11-07</td>\n",
       "    </tr>\n",
       "    <tr>\n",
       "      <th>66</th>\n",
       "      <td>2024-11-14</td>\n",
       "      <td>2024-11-25</td>\n",
       "    </tr>\n",
       "  </tbody>\n",
       "</table>\n",
       "<p>67 rows × 2 columns</p>\n",
       "</div>"
      ],
      "text/plain": [
       "   Buying_Dates Selling_Dates\n",
       "0    2009-10-30    2009-11-06\n",
       "1    2009-11-03    2009-11-06\n",
       "2    2009-11-04    2009-11-06\n",
       "3    2010-01-25    2010-02-09\n",
       "4    2010-01-27    2010-02-10\n",
       "..          ...           ...\n",
       "62   2024-10-24    2024-11-07\n",
       "63   2024-10-25    2024-11-07\n",
       "64   2024-10-28    2024-11-07\n",
       "65   2024-11-05    2024-11-07\n",
       "66   2024-11-14    2024-11-25\n",
       "\n",
       "[67 rows x 2 columns]"
      ]
     },
     "execution_count": 64,
     "metadata": {},
     "output_type": "execute_result"
    }
   ],
   "source": [
    "Buy_dates=[]\n",
    "Sell_dates=[]\n",
    "# Looping over the entire rows of df\n",
    "for i in range(len(df)):\n",
    "    # if the signal=1\n",
    "    if df.Signal.iloc[i]: \n",
    "        # buy on the next date of signal=1\n",
    "        Buy_dates.append(df.iloc[i+1].name) \n",
    "        # Start looping in the subsequent 10 rows to check if the rsi is above 40, else we sell above 10 days\n",
    "        for j in range(1,11):\n",
    "            # if rsi is above 40 anytime in next 10 days\n",
    "            if df['RSI'].iloc[i+j]>40:\n",
    "                #sell on the very next date of the signal\n",
    "                Sell_dates.append(df.iloc[i+j+1].name)\n",
    "                #if the rsi is greater than 40 we break from this loop\n",
    "                break\n",
    "            # else if rsi was never above 40 then we sell above 10 days\n",
    "            elif j == 10:\n",
    "                Sell_dates.append(df.iloc[i+j+1].name)\n",
    "\n",
    "frame = pd.DataFrame({'Buying_Dates':Buy_dates,'Selling_Dates':Sell_dates})\n",
    "frame"
   ]
  },
  {
   "cell_type": "markdown",
   "metadata": {},
   "source": [
    "#### OVERLAPPING-Solving for the multiple trades for the same signal ---by shifting the sell dates to the next row we can fix it--1 flaw is that the very first trade will get removed due to nan sell date so we need to add it manually\n",
    "https://www.youtube.com/watch?v=rYfe9Bg2GcY"
   ]
  },
  {
   "cell_type": "code",
   "execution_count": 65,
   "metadata": {},
   "outputs": [
    {
     "name": "stdout",
     "output_type": "stream",
     "text": [
      "the shape before(31, 2) and the shape now (32, 2)\n"
     ]
    },
    {
     "name": "stderr",
     "output_type": "stream",
     "text": [
      "C:\\Users\\arunj\\AppData\\Local\\Temp\\ipykernel_98336\\1859641044.py:4: FutureWarning: The frame.append method is deprecated and will be removed from pandas in a future version. Use pandas.concat instead.\n",
      "  actualTrades = frame[:1].append(actualTrades)\n"
     ]
    }
   ],
   "source": [
    "actualTrades=frame[frame.Buying_Dates>frame.Selling_Dates.shift(1)]\n",
    "earlier =actualTrades.shape\n",
    "#Taking the first datapoint from the frame and appending to actual Trades\n",
    "actualTrades = frame[:1].append(actualTrades)\n",
    "after = actualTrades.shape\n",
    "print(f\"the shape before{earlier} and the shape now {after}\")"
   ]
  },
  {
   "cell_type": "code",
   "execution_count": 66,
   "metadata": {},
   "outputs": [
    {
     "data": {
      "text/html": [
       "<div>\n",
       "<style scoped>\n",
       "    .dataframe tbody tr th:only-of-type {\n",
       "        vertical-align: middle;\n",
       "    }\n",
       "\n",
       "    .dataframe tbody tr th {\n",
       "        vertical-align: top;\n",
       "    }\n",
       "\n",
       "    .dataframe thead th {\n",
       "        text-align: right;\n",
       "    }\n",
       "</style>\n",
       "<table border=\"1\" class=\"dataframe\">\n",
       "  <thead>\n",
       "    <tr style=\"text-align: right;\">\n",
       "      <th></th>\n",
       "      <th>Buying_Dates</th>\n",
       "      <th>Selling_Dates</th>\n",
       "    </tr>\n",
       "  </thead>\n",
       "  <tbody>\n",
       "    <tr>\n",
       "      <th>0</th>\n",
       "      <td>2009-10-30</td>\n",
       "      <td>2009-11-06</td>\n",
       "    </tr>\n",
       "    <tr>\n",
       "      <th>3</th>\n",
       "      <td>2010-01-25</td>\n",
       "      <td>2010-02-09</td>\n",
       "    </tr>\n",
       "    <tr>\n",
       "      <th>11</th>\n",
       "      <td>2010-05-10</td>\n",
       "      <td>2010-05-11</td>\n",
       "    </tr>\n",
       "    <tr>\n",
       "      <th>12</th>\n",
       "      <td>2010-11-29</td>\n",
       "      <td>2010-12-01</td>\n",
       "    </tr>\n",
       "    <tr>\n",
       "      <th>13</th>\n",
       "      <td>2011-01-11</td>\n",
       "      <td>2011-01-13</td>\n",
       "    </tr>\n",
       "    <tr>\n",
       "      <th>15</th>\n",
       "      <td>2011-01-17</td>\n",
       "      <td>2011-01-25</td>\n",
       "    </tr>\n",
       "    <tr>\n",
       "      <th>17</th>\n",
       "      <td>2013-02-12</td>\n",
       "      <td>2013-02-14</td>\n",
       "    </tr>\n",
       "    <tr>\n",
       "      <th>18</th>\n",
       "      <td>2013-02-27</td>\n",
       "      <td>2013-03-06</td>\n",
       "    </tr>\n",
       "    <tr>\n",
       "      <th>22</th>\n",
       "      <td>2013-03-26</td>\n",
       "      <td>2013-04-02</td>\n",
       "    </tr>\n",
       "    <tr>\n",
       "      <th>23</th>\n",
       "      <td>2013-06-12</td>\n",
       "      <td>2013-06-18</td>\n",
       "    </tr>\n",
       "    <tr>\n",
       "      <th>24</th>\n",
       "      <td>2014-02-04</td>\n",
       "      <td>2014-02-13</td>\n",
       "    </tr>\n",
       "    <tr>\n",
       "      <th>26</th>\n",
       "      <td>2014-12-17</td>\n",
       "      <td>2014-12-22</td>\n",
       "    </tr>\n",
       "    <tr>\n",
       "      <th>28</th>\n",
       "      <td>2015-03-27</td>\n",
       "      <td>2015-03-31</td>\n",
       "    </tr>\n",
       "    <tr>\n",
       "      <th>30</th>\n",
       "      <td>2016-11-07</td>\n",
       "      <td>2016-11-09</td>\n",
       "    </tr>\n",
       "    <tr>\n",
       "      <th>31</th>\n",
       "      <td>2017-08-14</td>\n",
       "      <td>2017-08-17</td>\n",
       "    </tr>\n",
       "    <tr>\n",
       "      <th>32</th>\n",
       "      <td>2017-09-28</td>\n",
       "      <td>2017-10-04</td>\n",
       "    </tr>\n",
       "    <tr>\n",
       "      <th>33</th>\n",
       "      <td>2017-12-07</td>\n",
       "      <td>2017-12-08</td>\n",
       "    </tr>\n",
       "    <tr>\n",
       "      <th>34</th>\n",
       "      <td>2018-02-07</td>\n",
       "      <td>2018-02-16</td>\n",
       "    </tr>\n",
       "    <tr>\n",
       "      <th>36</th>\n",
       "      <td>2018-03-08</td>\n",
       "      <td>2018-03-13</td>\n",
       "    </tr>\n",
       "    <tr>\n",
       "      <th>37</th>\n",
       "      <td>2018-09-25</td>\n",
       "      <td>2018-10-10</td>\n",
       "    </tr>\n",
       "    <tr>\n",
       "      <th>40</th>\n",
       "      <td>2019-05-13</td>\n",
       "      <td>2019-05-20</td>\n",
       "    </tr>\n",
       "    <tr>\n",
       "      <th>43</th>\n",
       "      <td>2019-07-23</td>\n",
       "      <td>2019-08-06</td>\n",
       "    </tr>\n",
       "    <tr>\n",
       "      <th>49</th>\n",
       "      <td>2020-02-04</td>\n",
       "      <td>2020-02-05</td>\n",
       "    </tr>\n",
       "    <tr>\n",
       "      <th>50</th>\n",
       "      <td>2020-09-25</td>\n",
       "      <td>2020-09-29</td>\n",
       "    </tr>\n",
       "    <tr>\n",
       "      <th>51</th>\n",
       "      <td>2021-02-01</td>\n",
       "      <td>2021-02-02</td>\n",
       "    </tr>\n",
       "    <tr>\n",
       "      <th>52</th>\n",
       "      <td>2021-11-23</td>\n",
       "      <td>2021-12-03</td>\n",
       "    </tr>\n",
       "    <tr>\n",
       "      <th>56</th>\n",
       "      <td>2021-12-21</td>\n",
       "      <td>2021-12-23</td>\n",
       "    </tr>\n",
       "    <tr>\n",
       "      <th>57</th>\n",
       "      <td>2022-12-26</td>\n",
       "      <td>2022-12-28</td>\n",
       "    </tr>\n",
       "    <tr>\n",
       "      <th>58</th>\n",
       "      <td>2023-02-28</td>\n",
       "      <td>2023-03-06</td>\n",
       "    </tr>\n",
       "    <tr>\n",
       "      <th>59</th>\n",
       "      <td>2023-10-26</td>\n",
       "      <td>2023-11-03</td>\n",
       "    </tr>\n",
       "    <tr>\n",
       "      <th>61</th>\n",
       "      <td>2024-10-23</td>\n",
       "      <td>2024-11-06</td>\n",
       "    </tr>\n",
       "    <tr>\n",
       "      <th>66</th>\n",
       "      <td>2024-11-14</td>\n",
       "      <td>2024-11-25</td>\n",
       "    </tr>\n",
       "  </tbody>\n",
       "</table>\n",
       "</div>"
      ],
      "text/plain": [
       "   Buying_Dates Selling_Dates\n",
       "0    2009-10-30    2009-11-06\n",
       "3    2010-01-25    2010-02-09\n",
       "11   2010-05-10    2010-05-11\n",
       "12   2010-11-29    2010-12-01\n",
       "13   2011-01-11    2011-01-13\n",
       "15   2011-01-17    2011-01-25\n",
       "17   2013-02-12    2013-02-14\n",
       "18   2013-02-27    2013-03-06\n",
       "22   2013-03-26    2013-04-02\n",
       "23   2013-06-12    2013-06-18\n",
       "24   2014-02-04    2014-02-13\n",
       "26   2014-12-17    2014-12-22\n",
       "28   2015-03-27    2015-03-31\n",
       "30   2016-11-07    2016-11-09\n",
       "31   2017-08-14    2017-08-17\n",
       "32   2017-09-28    2017-10-04\n",
       "33   2017-12-07    2017-12-08\n",
       "34   2018-02-07    2018-02-16\n",
       "36   2018-03-08    2018-03-13\n",
       "37   2018-09-25    2018-10-10\n",
       "40   2019-05-13    2019-05-20\n",
       "43   2019-07-23    2019-08-06\n",
       "49   2020-02-04    2020-02-05\n",
       "50   2020-09-25    2020-09-29\n",
       "51   2021-02-01    2021-02-02\n",
       "52   2021-11-23    2021-12-03\n",
       "56   2021-12-21    2021-12-23\n",
       "57   2022-12-26    2022-12-28\n",
       "58   2023-02-28    2023-03-06\n",
       "59   2023-10-26    2023-11-03\n",
       "61   2024-10-23    2024-11-06\n",
       "66   2024-11-14    2024-11-25"
      ]
     },
     "execution_count": 66,
     "metadata": {},
     "output_type": "execute_result"
    }
   ],
   "source": [
    "actualTrades"
   ]
  },
  {
   "cell_type": "markdown",
   "metadata": {},
   "source": [
    "### Calculate the PnL"
   ]
  },
  {
   "cell_type": "code",
   "execution_count": 67,
   "metadata": {},
   "outputs": [
    {
     "data": {
      "text/plain": [
       "array([  16.39990234, -274.        ,  163.14990234,   81.04980469,\n",
       "         82.79980469,  114.5       ,   38.85009766,   31.5       ,\n",
       "         87.95019531,   70.14990234,  139.94970703,  213.79980469,\n",
       "        131.59960938, -468.25      ,  189.79980469,  147.94921875,\n",
       "        135.        ,  -11.        ,  173.25      , -638.10058594,\n",
       "        393.20019531, -556.84960938,  219.59960938,  378.19921875,\n",
       "        722.5       ,  143.15039062,  293.65039062,  254.34960938,\n",
       "        297.09960938,  213.75      ,  -69.40039062,  711.40039062])"
      ]
     },
     "execution_count": 67,
     "metadata": {},
     "output_type": "execute_result"
    }
   ],
   "source": [
    "# Using the actual trades dates loc values and screening it over our orginal df \n",
    "profits = df.loc[actualTrades.Selling_Dates].Open.values - df.loc[actualTrades.Buying_Dates].Open.values\n",
    "profits"
   ]
  },
  {
   "cell_type": "code",
   "execution_count": 68,
   "metadata": {},
   "outputs": [
    {
     "data": {
      "text/plain": [
       "0.8125"
      ]
     },
     "execution_count": 68,
     "metadata": {},
     "output_type": "execute_result"
    }
   ],
   "source": [
    "## winning rates\n",
    "wins = len([i for i in profits if i>0])\n",
    "trades=len(profits)\n",
    "winRatio= wins/trades\n",
    "winRatio"
   ]
  },
  {
   "cell_type": "code",
   "execution_count": 69,
   "metadata": {},
   "outputs": [
    {
     "data": {
      "text/plain": [
       "array([ 0.00345181, -0.05442393,  0.03245731,  0.01399836,  0.01435515,\n",
       "        0.02026979,  0.00659107,  0.00544521,  0.01566692,  0.01215401,\n",
       "        0.02353045,  0.02658805,  0.01567408, -0.05485751,  0.01945517,\n",
       "        0.01519547,  0.01341488, -0.00103703,  0.01695828, -0.05816805,\n",
       "        0.03492412, -0.04896565,  0.01863185,  0.0346641 ,  0.05251261,\n",
       "        0.00828333,  0.01750717,  0.01426494,  0.01709114,  0.01123389,\n",
       "       -0.00284683,  0.03021816])"
      ]
     },
     "execution_count": 69,
     "metadata": {},
     "output_type": "execute_result"
    }
   ],
   "source": [
    "## Relative profits\n",
    "relProfits = (df.loc[actualTrades.Selling_Dates].Open.values - df.loc[actualTrades.Buying_Dates].Open.values)/df.loc[actualTrades.Buying_Dates].Open.values\n",
    "relProfits"
   ]
  },
  {
   "cell_type": "code",
   "execution_count": 50,
   "metadata": {},
   "outputs": [
    {
     "data": {
      "text/plain": [
       "0.008228900154934006"
      ]
     },
     "execution_count": 50,
     "metadata": {},
     "output_type": "execute_result"
    }
   ],
   "source": [
    "relProfits.mean()"
   ]
  },
  {
   "cell_type": "code",
   "execution_count": 70,
   "metadata": {},
   "outputs": [
    {
     "data": {
      "text/plain": [
       "array([1.00345181, 0.94884002, 0.97963681, 0.99335012, 1.00760981,\n",
       "       1.02803385, 1.0348097 , 1.04044446, 1.05674502, 1.06958871,\n",
       "       1.09475661, 1.12386405, 1.14147959, 1.07886086, 1.09985029,\n",
       "       1.11656303, 1.1315416 , 1.13036815, 1.14953725, 1.08267091,\n",
       "       1.12048224, 1.0656171 , 1.08547151, 1.12309841, 1.18207524,\n",
       "       1.19186675, 1.21273297, 1.23003253, 1.25105519, 1.26510941,\n",
       "       1.26150786, 1.2996283 ])"
      ]
     },
     "execution_count": 70,
     "metadata": {},
     "output_type": "execute_result"
    }
   ],
   "source": [
    "## Cummulative Returns\n",
    "(relProfits+1).cumprod()"
   ]
  },
  {
   "cell_type": "code",
   "execution_count": 71,
   "metadata": {},
   "outputs": [
    {
     "data": {
      "text/plain": [
       "array([100345.18115819,  94884.00176698,  97963.6809381 ,  99335.01176801,\n",
       "       100760.9810109 , 102803.3851896 , 103480.9699085 , 104044.44561372,\n",
       "       105674.50204889, 106958.8709143 , 109475.66128404, 112386.40525659,\n",
       "       114147.95921453, 107886.08627985, 109985.02876038, 111656.30340259,\n",
       "       113154.15957188, 113036.81515182, 114953.72480312, 108267.09105852,\n",
       "       112048.22392569, 106561.70984763, 108547.15134572, 112309.84073994,\n",
       "       118207.52380642, 119186.67540899, 121273.29676372, 123003.25318554,\n",
       "       125105.51935978, 126510.94078237, 126150.78594831, 129962.83017164])"
      ]
     },
     "execution_count": 71,
     "metadata": {},
     "output_type": "execute_result"
    }
   ],
   "source": [
    "## Cummulative Returns in absolute term\n",
    "cash = 100000\n",
    "cash*(relProfits+1).cumprod()"
   ]
  },
  {
   "cell_type": "markdown",
   "metadata": {},
   "source": [
    "### FINAL ALGO TO FIND THE STOCKS GIVING MAX RETURN FROM THIS STRATEGY"
   ]
  },
  {
   "cell_type": "code",
   "execution_count": 52,
   "metadata": {},
   "outputs": [],
   "source": [
    "import pandas_ta as ta\n",
    "def getactualTrades(df):\n",
    "    Buy_dates=[]\n",
    "    Sell_dates=[]\n",
    "    for i in range(len(df) - 11):\n",
    "        # if the signal=1\n",
    "        if df.Signal.iloc[i]: \n",
    "            # buy on the next date of signal=1\n",
    "            Buy_dates.append(df.iloc[i+1].name) \n",
    "            # Start looping in the subsequent 10 rows to check if the rsi is above 40, else we sell above 10 days\n",
    "            for j in range(1,11):\n",
    "                # if rsi is above 40 anytime in next 10 days\n",
    "                if df['RSI'].iloc[i+j]>40:\n",
    "                    #sell on the very next date of the signal\n",
    "                    Sell_dates.append(df.iloc[i+j+1].name)\n",
    "                    #if the rsi is greater than 40 we break from this loop\n",
    "                    break\n",
    "                # else if rsi was never above 40 then we sell above 10 days\n",
    "                elif j == 10:\n",
    "                    Sell_dates.append(df.iloc[i+j+1].name)\n",
    "    frame = pd.DataFrame({'Buying_Dates':Buy_dates,'Selling_Dates':Sell_dates})\n",
    "    actualTrades=frame[frame.Buying_Dates>frame.Selling_Dates.shift(1)]\n",
    "    #Taking the first datapoint from the frame and appending to actual Trades\n",
    "    actualTrades = frame[:1].append(actualTrades)\n",
    "    return actualTrades\n",
    "def taCalc(df):\n",
    "    df['RSI'] = ta.rsi(df['Close'],length=14)\n",
    "    df['SMA200'] = ta.sma(df['Close'], length=200)\n",
    "    df['Signal'] = np.where((df['Close']>df.SMA200) & (df['RSI']<30),1,0)"
   ]
  },
  {
   "cell_type": "code",
   "execution_count": null,
   "metadata": {},
   "outputs": [
    {
     "name": "stdout",
     "output_type": "stream",
     "text": [
      "['ADANIENT.NS', 'ADANIPORTS.NS', 'APOLLOHOSP.NS', 'ASIANPAINT.NS', 'AXISBANK.NS', 'BAJAJ-AUTO.NS', 'BAJFINANCE.NS', 'BAJAJFINSV.NS', 'BPCL.NS', 'BHARTIARTL.NS', 'BRITANNIA.NS', 'CIPLA.NS', 'COALINDIA.NS', 'DIVISLAB.NS', 'DRREDDY.NS', 'EICHERMOT.NS', 'GRASIM.NS', 'HCLTECH.NS', 'HDFCBANK.NS', 'HDFCLIFE.NS', 'HEROMOTOCO.NS', 'HINDALCO.NS', 'HINDUNILVR.NS', 'ICICIBANK.NS', 'INDUSINDBK.NS', 'INFY.NS', 'ITC.NS', 'JSWSTEEL.NS', 'KOTAKBANK.NS', 'LT.NS', 'LTIM.NS', 'M&M.NS', 'MARUTI.NS', 'NESTLEIND.NS', 'NTPC.NS', 'ONGC.NS', 'POWERGRID.NS', 'RELIANCE.NS', 'SBILIFE.NS', 'SHRIRAMFIN.NS', 'SBIN.NS', 'SUNPHARMA.NS', 'TATAMOTORS.NS', 'TATASTEEL.NS', 'TCS.NS', 'TATACONSUM.NS', 'TECHM.NS', 'TITAN.NS', 'ULTRACEMCO.NS', 'WIPRO.NS']\n",
      "ADANIENT.NS\n"
     ]
    },
    {
     "name": "stderr",
     "output_type": "stream",
     "text": [
      "[*********************100%%**********************]  1 of 1 completed\n"
     ]
    },
    {
     "name": "stdout",
     "output_type": "stream",
     "text": [
      "                   Open         High          Low        Close    Adj Close  \\\n",
      "Date                                                                          \n",
      "2007-11-27   154.000000   207.000000   154.000000   191.800003   175.274445   \n",
      "2007-11-28   194.000000   197.800003   174.929993   177.000000   161.749634   \n",
      "2007-11-29   181.000000   182.800003   168.460007   177.399994   162.115128   \n",
      "2007-11-30   178.000000   191.399994   178.000000   185.800003   169.791397   \n",
      "2007-12-03   187.949997   198.860001   184.399994   196.000000   179.112579   \n",
      "...                 ...          ...          ...          ...          ...   \n",
      "2024-04-05  1367.000000  1381.900024  1357.349976  1375.550049  1375.550049   \n",
      "2024-04-08  1381.949951  1381.949951  1337.000000  1348.650024  1348.650024   \n",
      "2024-04-09  1356.150024  1364.900024  1346.099976  1356.500000  1356.500000   \n",
      "2024-04-10  1359.000000  1359.900024  1348.199951  1352.300049  1352.300049   \n",
      "2024-04-12  1350.000000  1358.400024  1341.000000  1344.199951  1344.199951   \n",
      "\n",
      "              Volume  \n",
      "Date                  \n",
      "2007-11-27  27262365  \n",
      "2007-11-28  21958915  \n",
      "2007-11-29  25616715  \n",
      "2007-11-30  23047035  \n",
      "2007-12-03  14578850  \n",
      "...              ...  \n",
      "2024-04-05   1853120  \n",
      "2024-04-08  14038860  \n",
      "2024-04-09   1935801  \n",
      "2024-04-10   3984001  \n",
      "2024-04-12   2183230  \n",
      "\n",
      "[4035 rows x 6 columns]\n",
      "ADANIPORTS.NS\n"
     ]
    },
    {
     "name": "stderr",
     "output_type": "stream",
     "text": [
      "[*********************100%%**********************]  1 of 1 completed\n"
     ]
    },
    {
     "name": "stdout",
     "output_type": "stream",
     "text": [
      "                   Open         High          Low        Close    Adj Close  \\\n",
      "Date                                                                          \n",
      "2007-11-27   154.000000   207.000000   154.000000   191.800003   175.274445   \n",
      "2007-11-28   194.000000   197.800003   174.929993   177.000000   161.749634   \n",
      "2007-11-29   181.000000   182.800003   168.460007   177.399994   162.115128   \n",
      "2007-11-30   178.000000   191.399994   178.000000   185.800003   169.791397   \n",
      "2007-12-03   187.949997   198.860001   184.399994   196.000000   179.112579   \n",
      "...                 ...          ...          ...          ...          ...   \n",
      "2024-04-05  1367.000000  1381.900024  1357.349976  1375.550049  1375.550049   \n",
      "2024-04-08  1381.949951  1381.949951  1337.000000  1348.650024  1348.650024   \n",
      "2024-04-09  1356.150024  1364.900024  1346.099976  1356.500000  1356.500000   \n",
      "2024-04-10  1359.000000  1359.900024  1348.199951  1352.300049  1352.300049   \n",
      "2024-04-12  1350.000000  1358.400024  1341.000000  1344.199951  1344.199951   \n",
      "\n",
      "              Volume  \n",
      "Date                  \n",
      "2007-11-27  27262365  \n",
      "2007-11-28  21958915  \n",
      "2007-11-29  25616715  \n",
      "2007-11-30  23047035  \n",
      "2007-12-03  14578850  \n",
      "...              ...  \n",
      "2024-04-05   1853120  \n",
      "2024-04-08  14038860  \n",
      "2024-04-09   1935801  \n",
      "2024-04-10   3984001  \n",
      "2024-04-12   2183230  \n",
      "\n",
      "[4035 rows x 6 columns]\n",
      "APOLLOHOSP.NS\n"
     ]
    },
    {
     "name": "stderr",
     "output_type": "stream",
     "text": [
      "[*********************100%%**********************]  1 of 1 completed\n"
     ]
    },
    {
     "name": "stdout",
     "output_type": "stream",
     "text": [
      "                   Open         High          Low        Close    Adj Close  \\\n",
      "Date                                                                          \n",
      "2007-11-27   154.000000   207.000000   154.000000   191.800003   175.274445   \n",
      "2007-11-28   194.000000   197.800003   174.929993   177.000000   161.749634   \n",
      "2007-11-29   181.000000   182.800003   168.460007   177.399994   162.115128   \n",
      "2007-11-30   178.000000   191.399994   178.000000   185.800003   169.791397   \n",
      "2007-12-03   187.949997   198.860001   184.399994   196.000000   179.112579   \n",
      "...                 ...          ...          ...          ...          ...   \n",
      "2024-04-05  1367.000000  1381.900024  1357.349976  1375.550049  1375.550049   \n",
      "2024-04-08  1381.949951  1381.949951  1337.000000  1348.650024  1348.650024   \n",
      "2024-04-09  1356.150024  1364.900024  1346.099976  1356.500000  1356.500000   \n",
      "2024-04-10  1359.000000  1359.900024  1348.199951  1352.300049  1352.300049   \n",
      "2024-04-12  1350.000000  1358.400024  1341.000000  1344.199951  1344.199951   \n",
      "\n",
      "              Volume  \n",
      "Date                  \n",
      "2007-11-27  27262365  \n",
      "2007-11-28  21958915  \n",
      "2007-11-29  25616715  \n",
      "2007-11-30  23047035  \n",
      "2007-12-03  14578850  \n",
      "...              ...  \n",
      "2024-04-05   1853120  \n",
      "2024-04-08  14038860  \n",
      "2024-04-09   1935801  \n",
      "2024-04-10   3984001  \n",
      "2024-04-12   2183230  \n",
      "\n",
      "[4035 rows x 6 columns]\n",
      "ASIANPAINT.NS\n"
     ]
    },
    {
     "name": "stderr",
     "output_type": "stream",
     "text": [
      "[*********************100%%**********************]  1 of 1 completed\n"
     ]
    },
    {
     "name": "stdout",
     "output_type": "stream",
     "text": [
      "                   Open         High          Low        Close    Adj Close  \\\n",
      "Date                                                                          \n",
      "2007-11-27   154.000000   207.000000   154.000000   191.800003   175.274445   \n",
      "2007-11-28   194.000000   197.800003   174.929993   177.000000   161.749634   \n",
      "2007-11-29   181.000000   182.800003   168.460007   177.399994   162.115128   \n",
      "2007-11-30   178.000000   191.399994   178.000000   185.800003   169.791397   \n",
      "2007-12-03   187.949997   198.860001   184.399994   196.000000   179.112579   \n",
      "...                 ...          ...          ...          ...          ...   \n",
      "2024-04-05  1367.000000  1381.900024  1357.349976  1375.550049  1375.550049   \n",
      "2024-04-08  1381.949951  1381.949951  1337.000000  1348.650024  1348.650024   \n",
      "2024-04-09  1356.150024  1364.900024  1346.099976  1356.500000  1356.500000   \n",
      "2024-04-10  1359.000000  1359.900024  1348.199951  1352.300049  1352.300049   \n",
      "2024-04-12  1350.000000  1358.400024  1341.000000  1344.199951  1344.199951   \n",
      "\n",
      "              Volume  \n",
      "Date                  \n",
      "2007-11-27  27262365  \n",
      "2007-11-28  21958915  \n",
      "2007-11-29  25616715  \n",
      "2007-11-30  23047035  \n",
      "2007-12-03  14578850  \n",
      "...              ...  \n",
      "2024-04-05   1853120  \n",
      "2024-04-08  14038860  \n",
      "2024-04-09   1935801  \n",
      "2024-04-10   3984001  \n",
      "2024-04-12   2183230  \n",
      "\n",
      "[4035 rows x 6 columns]\n",
      "AXISBANK.NS\n"
     ]
    },
    {
     "name": "stderr",
     "output_type": "stream",
     "text": [
      "[*********************100%%**********************]  1 of 1 completed\n"
     ]
    },
    {
     "name": "stdout",
     "output_type": "stream",
     "text": [
      "                   Open         High          Low        Close    Adj Close  \\\n",
      "Date                                                                          \n",
      "2007-11-27   154.000000   207.000000   154.000000   191.800003   175.274445   \n",
      "2007-11-28   194.000000   197.800003   174.929993   177.000000   161.749634   \n",
      "2007-11-29   181.000000   182.800003   168.460007   177.399994   162.115128   \n",
      "2007-11-30   178.000000   191.399994   178.000000   185.800003   169.791397   \n",
      "2007-12-03   187.949997   198.860001   184.399994   196.000000   179.112579   \n",
      "...                 ...          ...          ...          ...          ...   \n",
      "2024-04-05  1367.000000  1381.900024  1357.349976  1375.550049  1375.550049   \n",
      "2024-04-08  1381.949951  1381.949951  1337.000000  1348.650024  1348.650024   \n",
      "2024-04-09  1356.150024  1364.900024  1346.099976  1356.500000  1356.500000   \n",
      "2024-04-10  1359.000000  1359.900024  1348.199951  1352.300049  1352.300049   \n",
      "2024-04-12  1350.000000  1358.400024  1341.000000  1344.199951  1344.199951   \n",
      "\n",
      "              Volume  \n",
      "Date                  \n",
      "2007-11-27  27262365  \n",
      "2007-11-28  21958915  \n",
      "2007-11-29  25616715  \n",
      "2007-11-30  23047035  \n",
      "2007-12-03  14578850  \n",
      "...              ...  \n",
      "2024-04-05   1853120  \n",
      "2024-04-08  14038860  \n",
      "2024-04-09   1935801  \n",
      "2024-04-10   3984001  \n",
      "2024-04-12   2183230  \n",
      "\n",
      "[4035 rows x 6 columns]\n",
      "BAJAJ-AUTO.NS\n"
     ]
    },
    {
     "name": "stderr",
     "output_type": "stream",
     "text": [
      "[*********************100%%**********************]  1 of 1 completed\n"
     ]
    },
    {
     "name": "stdout",
     "output_type": "stream",
     "text": [
      "                   Open         High          Low        Close    Adj Close  \\\n",
      "Date                                                                          \n",
      "2007-11-27   154.000000   207.000000   154.000000   191.800003   175.274445   \n",
      "2007-11-28   194.000000   197.800003   174.929993   177.000000   161.749634   \n",
      "2007-11-29   181.000000   182.800003   168.460007   177.399994   162.115128   \n",
      "2007-11-30   178.000000   191.399994   178.000000   185.800003   169.791397   \n",
      "2007-12-03   187.949997   198.860001   184.399994   196.000000   179.112579   \n",
      "...                 ...          ...          ...          ...          ...   \n",
      "2024-04-05  1367.000000  1381.900024  1357.349976  1375.550049  1375.550049   \n",
      "2024-04-08  1381.949951  1381.949951  1337.000000  1348.650024  1348.650024   \n",
      "2024-04-09  1356.150024  1364.900024  1346.099976  1356.500000  1356.500000   \n",
      "2024-04-10  1359.000000  1359.900024  1348.199951  1352.300049  1352.300049   \n",
      "2024-04-12  1350.000000  1358.400024  1341.000000  1344.199951  1344.199951   \n",
      "\n",
      "              Volume  \n",
      "Date                  \n",
      "2007-11-27  27262365  \n",
      "2007-11-28  21958915  \n",
      "2007-11-29  25616715  \n",
      "2007-11-30  23047035  \n",
      "2007-12-03  14578850  \n",
      "...              ...  \n",
      "2024-04-05   1853120  \n",
      "2024-04-08  14038860  \n",
      "2024-04-09   1935801  \n",
      "2024-04-10   3984001  \n",
      "2024-04-12   2183230  \n",
      "\n",
      "[4035 rows x 6 columns]\n",
      "BAJFINANCE.NS\n"
     ]
    },
    {
     "name": "stderr",
     "output_type": "stream",
     "text": [
      "[*********************100%%**********************]  1 of 1 completed\n"
     ]
    },
    {
     "name": "stdout",
     "output_type": "stream",
     "text": [
      "                   Open         High          Low        Close    Adj Close  \\\n",
      "Date                                                                          \n",
      "2007-11-27   154.000000   207.000000   154.000000   191.800003   175.274445   \n",
      "2007-11-28   194.000000   197.800003   174.929993   177.000000   161.749634   \n",
      "2007-11-29   181.000000   182.800003   168.460007   177.399994   162.115128   \n",
      "2007-11-30   178.000000   191.399994   178.000000   185.800003   169.791397   \n",
      "2007-12-03   187.949997   198.860001   184.399994   196.000000   179.112579   \n",
      "...                 ...          ...          ...          ...          ...   \n",
      "2024-04-05  1367.000000  1381.900024  1357.349976  1375.550049  1375.550049   \n",
      "2024-04-08  1381.949951  1381.949951  1337.000000  1348.650024  1348.650024   \n",
      "2024-04-09  1356.150024  1364.900024  1346.099976  1356.500000  1356.500000   \n",
      "2024-04-10  1359.000000  1359.900024  1348.199951  1352.300049  1352.300049   \n",
      "2024-04-12  1350.000000  1358.400024  1341.000000  1344.199951  1344.199951   \n",
      "\n",
      "              Volume  \n",
      "Date                  \n",
      "2007-11-27  27262365  \n",
      "2007-11-28  21958915  \n",
      "2007-11-29  25616715  \n",
      "2007-11-30  23047035  \n",
      "2007-12-03  14578850  \n",
      "...              ...  \n",
      "2024-04-05   1853120  \n",
      "2024-04-08  14038860  \n",
      "2024-04-09   1935801  \n",
      "2024-04-10   3984001  \n",
      "2024-04-12   2183230  \n",
      "\n",
      "[4035 rows x 6 columns]\n",
      "BAJAJFINSV.NS\n"
     ]
    },
    {
     "name": "stderr",
     "output_type": "stream",
     "text": [
      "[*********************100%%**********************]  1 of 1 completed\n"
     ]
    },
    {
     "name": "stdout",
     "output_type": "stream",
     "text": [
      "                   Open         High          Low        Close    Adj Close  \\\n",
      "Date                                                                          \n",
      "2007-11-27   154.000000   207.000000   154.000000   191.800003   175.274445   \n",
      "2007-11-28   194.000000   197.800003   174.929993   177.000000   161.749634   \n",
      "2007-11-29   181.000000   182.800003   168.460007   177.399994   162.115128   \n",
      "2007-11-30   178.000000   191.399994   178.000000   185.800003   169.791397   \n",
      "2007-12-03   187.949997   198.860001   184.399994   196.000000   179.112579   \n",
      "...                 ...          ...          ...          ...          ...   \n",
      "2024-04-05  1367.000000  1381.900024  1357.349976  1375.550049  1375.550049   \n",
      "2024-04-08  1381.949951  1381.949951  1337.000000  1348.650024  1348.650024   \n",
      "2024-04-09  1356.150024  1364.900024  1346.099976  1356.500000  1356.500000   \n",
      "2024-04-10  1359.000000  1359.900024  1348.199951  1352.300049  1352.300049   \n",
      "2024-04-12  1350.000000  1358.400024  1341.000000  1344.199951  1344.199951   \n",
      "\n",
      "              Volume  \n",
      "Date                  \n",
      "2007-11-27  27262365  \n",
      "2007-11-28  21958915  \n",
      "2007-11-29  25616715  \n",
      "2007-11-30  23047035  \n",
      "2007-12-03  14578850  \n",
      "...              ...  \n",
      "2024-04-05   1853120  \n",
      "2024-04-08  14038860  \n",
      "2024-04-09   1935801  \n",
      "2024-04-10   3984001  \n",
      "2024-04-12   2183230  \n",
      "\n",
      "[4035 rows x 6 columns]\n",
      "BPCL.NS\n"
     ]
    },
    {
     "name": "stderr",
     "output_type": "stream",
     "text": [
      "[*********************100%%**********************]  1 of 1 completed\n"
     ]
    },
    {
     "name": "stdout",
     "output_type": "stream",
     "text": [
      "                   Open         High          Low        Close    Adj Close  \\\n",
      "Date                                                                          \n",
      "2007-11-27   154.000000   207.000000   154.000000   191.800003   175.274445   \n",
      "2007-11-28   194.000000   197.800003   174.929993   177.000000   161.749634   \n",
      "2007-11-29   181.000000   182.800003   168.460007   177.399994   162.115128   \n",
      "2007-11-30   178.000000   191.399994   178.000000   185.800003   169.791397   \n",
      "2007-12-03   187.949997   198.860001   184.399994   196.000000   179.112579   \n",
      "...                 ...          ...          ...          ...          ...   \n",
      "2024-04-05  1367.000000  1381.900024  1357.349976  1375.550049  1375.550049   \n",
      "2024-04-08  1381.949951  1381.949951  1337.000000  1348.650024  1348.650024   \n",
      "2024-04-09  1356.150024  1364.900024  1346.099976  1356.500000  1356.500000   \n",
      "2024-04-10  1359.000000  1359.900024  1348.199951  1352.300049  1352.300049   \n",
      "2024-04-12  1350.000000  1358.400024  1341.000000  1344.199951  1344.199951   \n",
      "\n",
      "              Volume  \n",
      "Date                  \n",
      "2007-11-27  27262365  \n",
      "2007-11-28  21958915  \n",
      "2007-11-29  25616715  \n",
      "2007-11-30  23047035  \n",
      "2007-12-03  14578850  \n",
      "...              ...  \n",
      "2024-04-05   1853120  \n",
      "2024-04-08  14038860  \n",
      "2024-04-09   1935801  \n",
      "2024-04-10   3984001  \n",
      "2024-04-12   2183230  \n",
      "\n",
      "[4035 rows x 6 columns]\n",
      "BHARTIARTL.NS\n"
     ]
    },
    {
     "name": "stderr",
     "output_type": "stream",
     "text": [
      "[*********************100%%**********************]  1 of 1 completed\n"
     ]
    },
    {
     "name": "stdout",
     "output_type": "stream",
     "text": [
      "                   Open         High          Low        Close    Adj Close  \\\n",
      "Date                                                                          \n",
      "2007-11-27   154.000000   207.000000   154.000000   191.800003   175.274445   \n",
      "2007-11-28   194.000000   197.800003   174.929993   177.000000   161.749634   \n",
      "2007-11-29   181.000000   182.800003   168.460007   177.399994   162.115128   \n",
      "2007-11-30   178.000000   191.399994   178.000000   185.800003   169.791397   \n",
      "2007-12-03   187.949997   198.860001   184.399994   196.000000   179.112579   \n",
      "...                 ...          ...          ...          ...          ...   \n",
      "2024-04-05  1367.000000  1381.900024  1357.349976  1375.550049  1375.550049   \n",
      "2024-04-08  1381.949951  1381.949951  1337.000000  1348.650024  1348.650024   \n",
      "2024-04-09  1356.150024  1364.900024  1346.099976  1356.500000  1356.500000   \n",
      "2024-04-10  1359.000000  1359.900024  1348.199951  1352.300049  1352.300049   \n",
      "2024-04-12  1350.000000  1358.400024  1341.000000  1344.199951  1344.199951   \n",
      "\n",
      "              Volume  \n",
      "Date                  \n",
      "2007-11-27  27262365  \n",
      "2007-11-28  21958915  \n",
      "2007-11-29  25616715  \n",
      "2007-11-30  23047035  \n",
      "2007-12-03  14578850  \n",
      "...              ...  \n",
      "2024-04-05   1853120  \n",
      "2024-04-08  14038860  \n",
      "2024-04-09   1935801  \n",
      "2024-04-10   3984001  \n",
      "2024-04-12   2183230  \n",
      "\n",
      "[4035 rows x 6 columns]\n",
      "BRITANNIA.NS\n"
     ]
    },
    {
     "name": "stderr",
     "output_type": "stream",
     "text": [
      "[*********************100%%**********************]  1 of 1 completed\n"
     ]
    },
    {
     "name": "stdout",
     "output_type": "stream",
     "text": [
      "                   Open         High          Low        Close    Adj Close  \\\n",
      "Date                                                                          \n",
      "2007-11-27   154.000000   207.000000   154.000000   191.800003   175.274445   \n",
      "2007-11-28   194.000000   197.800003   174.929993   177.000000   161.749634   \n",
      "2007-11-29   181.000000   182.800003   168.460007   177.399994   162.115128   \n",
      "2007-11-30   178.000000   191.399994   178.000000   185.800003   169.791397   \n",
      "2007-12-03   187.949997   198.860001   184.399994   196.000000   179.112579   \n",
      "...                 ...          ...          ...          ...          ...   \n",
      "2024-04-05  1367.000000  1381.900024  1357.349976  1375.550049  1375.550049   \n",
      "2024-04-08  1381.949951  1381.949951  1337.000000  1348.650024  1348.650024   \n",
      "2024-04-09  1356.150024  1364.900024  1346.099976  1356.500000  1356.500000   \n",
      "2024-04-10  1359.000000  1359.900024  1348.199951  1352.300049  1352.300049   \n",
      "2024-04-12  1350.000000  1358.400024  1341.000000  1344.199951  1344.199951   \n",
      "\n",
      "              Volume  \n",
      "Date                  \n",
      "2007-11-27  27262365  \n",
      "2007-11-28  21958915  \n",
      "2007-11-29  25616715  \n",
      "2007-11-30  23047035  \n",
      "2007-12-03  14578850  \n",
      "...              ...  \n",
      "2024-04-05   1853120  \n",
      "2024-04-08  14038860  \n",
      "2024-04-09   1935801  \n",
      "2024-04-10   3984001  \n",
      "2024-04-12   2183230  \n",
      "\n",
      "[4035 rows x 6 columns]\n",
      "CIPLA.NS\n"
     ]
    },
    {
     "name": "stderr",
     "output_type": "stream",
     "text": [
      "[*********************100%%**********************]  1 of 1 completed\n"
     ]
    },
    {
     "name": "stdout",
     "output_type": "stream",
     "text": [
      "                   Open         High          Low        Close    Adj Close  \\\n",
      "Date                                                                          \n",
      "2007-11-27   154.000000   207.000000   154.000000   191.800003   175.274445   \n",
      "2007-11-28   194.000000   197.800003   174.929993   177.000000   161.749634   \n",
      "2007-11-29   181.000000   182.800003   168.460007   177.399994   162.115128   \n",
      "2007-11-30   178.000000   191.399994   178.000000   185.800003   169.791397   \n",
      "2007-12-03   187.949997   198.860001   184.399994   196.000000   179.112579   \n",
      "...                 ...          ...          ...          ...          ...   \n",
      "2024-04-05  1367.000000  1381.900024  1357.349976  1375.550049  1375.550049   \n",
      "2024-04-08  1381.949951  1381.949951  1337.000000  1348.650024  1348.650024   \n",
      "2024-04-09  1356.150024  1364.900024  1346.099976  1356.500000  1356.500000   \n",
      "2024-04-10  1359.000000  1359.900024  1348.199951  1352.300049  1352.300049   \n",
      "2024-04-12  1350.000000  1358.400024  1341.000000  1344.199951  1344.199951   \n",
      "\n",
      "              Volume  \n",
      "Date                  \n",
      "2007-11-27  27262365  \n",
      "2007-11-28  21958915  \n",
      "2007-11-29  25616715  \n",
      "2007-11-30  23047035  \n",
      "2007-12-03  14578850  \n",
      "...              ...  \n",
      "2024-04-05   1853120  \n",
      "2024-04-08  14038860  \n",
      "2024-04-09   1935801  \n",
      "2024-04-10   3984001  \n",
      "2024-04-12   2183230  \n",
      "\n",
      "[4035 rows x 6 columns]\n",
      "COALINDIA.NS\n"
     ]
    },
    {
     "name": "stderr",
     "output_type": "stream",
     "text": [
      "[*********************100%%**********************]  1 of 1 completed\n"
     ]
    },
    {
     "name": "stdout",
     "output_type": "stream",
     "text": [
      "                   Open         High          Low        Close    Adj Close  \\\n",
      "Date                                                                          \n",
      "2007-11-27   154.000000   207.000000   154.000000   191.800003   175.274445   \n",
      "2007-11-28   194.000000   197.800003   174.929993   177.000000   161.749634   \n",
      "2007-11-29   181.000000   182.800003   168.460007   177.399994   162.115128   \n",
      "2007-11-30   178.000000   191.399994   178.000000   185.800003   169.791397   \n",
      "2007-12-03   187.949997   198.860001   184.399994   196.000000   179.112579   \n",
      "...                 ...          ...          ...          ...          ...   \n",
      "2024-04-05  1367.000000  1381.900024  1357.349976  1375.550049  1375.550049   \n",
      "2024-04-08  1381.949951  1381.949951  1337.000000  1348.650024  1348.650024   \n",
      "2024-04-09  1356.150024  1364.900024  1346.099976  1356.500000  1356.500000   \n",
      "2024-04-10  1359.000000  1359.900024  1348.199951  1352.300049  1352.300049   \n",
      "2024-04-12  1350.000000  1358.400024  1341.000000  1344.199951  1344.199951   \n",
      "\n",
      "              Volume  \n",
      "Date                  \n",
      "2007-11-27  27262365  \n",
      "2007-11-28  21958915  \n",
      "2007-11-29  25616715  \n",
      "2007-11-30  23047035  \n",
      "2007-12-03  14578850  \n",
      "...              ...  \n",
      "2024-04-05   1853120  \n",
      "2024-04-08  14038860  \n",
      "2024-04-09   1935801  \n",
      "2024-04-10   3984001  \n",
      "2024-04-12   2183230  \n",
      "\n",
      "[4035 rows x 6 columns]\n",
      "DIVISLAB.NS\n"
     ]
    },
    {
     "name": "stderr",
     "output_type": "stream",
     "text": [
      "[*********************100%%**********************]  1 of 1 completed\n"
     ]
    },
    {
     "name": "stdout",
     "output_type": "stream",
     "text": [
      "                   Open         High          Low        Close    Adj Close  \\\n",
      "Date                                                                          \n",
      "2007-11-27   154.000000   207.000000   154.000000   191.800003   175.274445   \n",
      "2007-11-28   194.000000   197.800003   174.929993   177.000000   161.749634   \n",
      "2007-11-29   181.000000   182.800003   168.460007   177.399994   162.115128   \n",
      "2007-11-30   178.000000   191.399994   178.000000   185.800003   169.791397   \n",
      "2007-12-03   187.949997   198.860001   184.399994   196.000000   179.112579   \n",
      "...                 ...          ...          ...          ...          ...   \n",
      "2024-04-05  1367.000000  1381.900024  1357.349976  1375.550049  1375.550049   \n",
      "2024-04-08  1381.949951  1381.949951  1337.000000  1348.650024  1348.650024   \n",
      "2024-04-09  1356.150024  1364.900024  1346.099976  1356.500000  1356.500000   \n",
      "2024-04-10  1359.000000  1359.900024  1348.199951  1352.300049  1352.300049   \n",
      "2024-04-12  1350.000000  1358.400024  1341.000000  1344.199951  1344.199951   \n",
      "\n",
      "              Volume  \n",
      "Date                  \n",
      "2007-11-27  27262365  \n",
      "2007-11-28  21958915  \n",
      "2007-11-29  25616715  \n",
      "2007-11-30  23047035  \n",
      "2007-12-03  14578850  \n",
      "...              ...  \n",
      "2024-04-05   1853120  \n",
      "2024-04-08  14038860  \n",
      "2024-04-09   1935801  \n",
      "2024-04-10   3984001  \n",
      "2024-04-12   2183230  \n",
      "\n",
      "[4035 rows x 6 columns]\n",
      "DRREDDY.NS\n"
     ]
    },
    {
     "name": "stderr",
     "output_type": "stream",
     "text": [
      "[*********************100%%**********************]  1 of 1 completed\n"
     ]
    },
    {
     "name": "stdout",
     "output_type": "stream",
     "text": [
      "                   Open         High          Low        Close    Adj Close  \\\n",
      "Date                                                                          \n",
      "2007-11-27   154.000000   207.000000   154.000000   191.800003   175.274445   \n",
      "2007-11-28   194.000000   197.800003   174.929993   177.000000   161.749634   \n",
      "2007-11-29   181.000000   182.800003   168.460007   177.399994   162.115128   \n",
      "2007-11-30   178.000000   191.399994   178.000000   185.800003   169.791397   \n",
      "2007-12-03   187.949997   198.860001   184.399994   196.000000   179.112579   \n",
      "...                 ...          ...          ...          ...          ...   \n",
      "2024-04-05  1367.000000  1381.900024  1357.349976  1375.550049  1375.550049   \n",
      "2024-04-08  1381.949951  1381.949951  1337.000000  1348.650024  1348.650024   \n",
      "2024-04-09  1356.150024  1364.900024  1346.099976  1356.500000  1356.500000   \n",
      "2024-04-10  1359.000000  1359.900024  1348.199951  1352.300049  1352.300049   \n",
      "2024-04-12  1350.000000  1358.400024  1341.000000  1344.199951  1344.199951   \n",
      "\n",
      "              Volume  \n",
      "Date                  \n",
      "2007-11-27  27262365  \n",
      "2007-11-28  21958915  \n",
      "2007-11-29  25616715  \n",
      "2007-11-30  23047035  \n",
      "2007-12-03  14578850  \n",
      "...              ...  \n",
      "2024-04-05   1853120  \n",
      "2024-04-08  14038860  \n",
      "2024-04-09   1935801  \n",
      "2024-04-10   3984001  \n",
      "2024-04-12   2183230  \n",
      "\n",
      "[4035 rows x 6 columns]\n",
      "EICHERMOT.NS\n"
     ]
    },
    {
     "name": "stderr",
     "output_type": "stream",
     "text": [
      "[*********************100%%**********************]  1 of 1 completed\n"
     ]
    },
    {
     "name": "stdout",
     "output_type": "stream",
     "text": [
      "                   Open         High          Low        Close    Adj Close  \\\n",
      "Date                                                                          \n",
      "2007-11-27   154.000000   207.000000   154.000000   191.800003   175.274445   \n",
      "2007-11-28   194.000000   197.800003   174.929993   177.000000   161.749634   \n",
      "2007-11-29   181.000000   182.800003   168.460007   177.399994   162.115128   \n",
      "2007-11-30   178.000000   191.399994   178.000000   185.800003   169.791397   \n",
      "2007-12-03   187.949997   198.860001   184.399994   196.000000   179.112579   \n",
      "...                 ...          ...          ...          ...          ...   \n",
      "2024-04-05  1367.000000  1381.900024  1357.349976  1375.550049  1375.550049   \n",
      "2024-04-08  1381.949951  1381.949951  1337.000000  1348.650024  1348.650024   \n",
      "2024-04-09  1356.150024  1364.900024  1346.099976  1356.500000  1356.500000   \n",
      "2024-04-10  1359.000000  1359.900024  1348.199951  1352.300049  1352.300049   \n",
      "2024-04-12  1350.000000  1358.400024  1341.000000  1344.199951  1344.199951   \n",
      "\n",
      "              Volume  \n",
      "Date                  \n",
      "2007-11-27  27262365  \n",
      "2007-11-28  21958915  \n",
      "2007-11-29  25616715  \n",
      "2007-11-30  23047035  \n",
      "2007-12-03  14578850  \n",
      "...              ...  \n",
      "2024-04-05   1853120  \n",
      "2024-04-08  14038860  \n",
      "2024-04-09   1935801  \n",
      "2024-04-10   3984001  \n",
      "2024-04-12   2183230  \n",
      "\n",
      "[4035 rows x 6 columns]\n",
      "GRASIM.NS\n"
     ]
    },
    {
     "name": "stderr",
     "output_type": "stream",
     "text": [
      "[*********************100%%**********************]  1 of 1 completed\n"
     ]
    },
    {
     "name": "stdout",
     "output_type": "stream",
     "text": [
      "                   Open         High          Low        Close    Adj Close  \\\n",
      "Date                                                                          \n",
      "2007-11-27   154.000000   207.000000   154.000000   191.800003   175.274445   \n",
      "2007-11-28   194.000000   197.800003   174.929993   177.000000   161.749634   \n",
      "2007-11-29   181.000000   182.800003   168.460007   177.399994   162.115128   \n",
      "2007-11-30   178.000000   191.399994   178.000000   185.800003   169.791397   \n",
      "2007-12-03   187.949997   198.860001   184.399994   196.000000   179.112579   \n",
      "...                 ...          ...          ...          ...          ...   \n",
      "2024-04-05  1367.000000  1381.900024  1357.349976  1375.550049  1375.550049   \n",
      "2024-04-08  1381.949951  1381.949951  1337.000000  1348.650024  1348.650024   \n",
      "2024-04-09  1356.150024  1364.900024  1346.099976  1356.500000  1356.500000   \n",
      "2024-04-10  1359.000000  1359.900024  1348.199951  1352.300049  1352.300049   \n",
      "2024-04-12  1350.000000  1358.400024  1341.000000  1344.199951  1344.199951   \n",
      "\n",
      "              Volume  \n",
      "Date                  \n",
      "2007-11-27  27262365  \n",
      "2007-11-28  21958915  \n",
      "2007-11-29  25616715  \n",
      "2007-11-30  23047035  \n",
      "2007-12-03  14578850  \n",
      "...              ...  \n",
      "2024-04-05   1853120  \n",
      "2024-04-08  14038860  \n",
      "2024-04-09   1935801  \n",
      "2024-04-10   3984001  \n",
      "2024-04-12   2183230  \n",
      "\n",
      "[4035 rows x 6 columns]\n",
      "HCLTECH.NS\n"
     ]
    },
    {
     "name": "stderr",
     "output_type": "stream",
     "text": [
      "[*********************100%%**********************]  1 of 1 completed\n"
     ]
    },
    {
     "name": "stdout",
     "output_type": "stream",
     "text": [
      "                   Open         High          Low        Close    Adj Close  \\\n",
      "Date                                                                          \n",
      "2007-11-27   154.000000   207.000000   154.000000   191.800003   175.274445   \n",
      "2007-11-28   194.000000   197.800003   174.929993   177.000000   161.749634   \n",
      "2007-11-29   181.000000   182.800003   168.460007   177.399994   162.115128   \n",
      "2007-11-30   178.000000   191.399994   178.000000   185.800003   169.791397   \n",
      "2007-12-03   187.949997   198.860001   184.399994   196.000000   179.112579   \n",
      "...                 ...          ...          ...          ...          ...   \n",
      "2024-04-05  1367.000000  1381.900024  1357.349976  1375.550049  1375.550049   \n",
      "2024-04-08  1381.949951  1381.949951  1337.000000  1348.650024  1348.650024   \n",
      "2024-04-09  1356.150024  1364.900024  1346.099976  1356.500000  1356.500000   \n",
      "2024-04-10  1359.000000  1359.900024  1348.199951  1352.300049  1352.300049   \n",
      "2024-04-12  1350.000000  1358.400024  1341.000000  1344.199951  1344.199951   \n",
      "\n",
      "              Volume  \n",
      "Date                  \n",
      "2007-11-27  27262365  \n",
      "2007-11-28  21958915  \n",
      "2007-11-29  25616715  \n",
      "2007-11-30  23047035  \n",
      "2007-12-03  14578850  \n",
      "...              ...  \n",
      "2024-04-05   1853120  \n",
      "2024-04-08  14038860  \n",
      "2024-04-09   1935801  \n",
      "2024-04-10   3984001  \n",
      "2024-04-12   2183230  \n",
      "\n",
      "[4035 rows x 6 columns]\n",
      "HDFCBANK.NS\n"
     ]
    },
    {
     "name": "stderr",
     "output_type": "stream",
     "text": [
      "[*********************100%%**********************]  1 of 1 completed\n"
     ]
    },
    {
     "name": "stdout",
     "output_type": "stream",
     "text": [
      "                   Open         High          Low        Close    Adj Close  \\\n",
      "Date                                                                          \n",
      "2007-11-27   154.000000   207.000000   154.000000   191.800003   175.274445   \n",
      "2007-11-28   194.000000   197.800003   174.929993   177.000000   161.749634   \n",
      "2007-11-29   181.000000   182.800003   168.460007   177.399994   162.115128   \n",
      "2007-11-30   178.000000   191.399994   178.000000   185.800003   169.791397   \n",
      "2007-12-03   187.949997   198.860001   184.399994   196.000000   179.112579   \n",
      "...                 ...          ...          ...          ...          ...   \n",
      "2024-04-05  1367.000000  1381.900024  1357.349976  1375.550049  1375.550049   \n",
      "2024-04-08  1381.949951  1381.949951  1337.000000  1348.650024  1348.650024   \n",
      "2024-04-09  1356.150024  1364.900024  1346.099976  1356.500000  1356.500000   \n",
      "2024-04-10  1359.000000  1359.900024  1348.199951  1352.300049  1352.300049   \n",
      "2024-04-12  1350.000000  1358.400024  1341.000000  1344.199951  1344.199951   \n",
      "\n",
      "              Volume  \n",
      "Date                  \n",
      "2007-11-27  27262365  \n",
      "2007-11-28  21958915  \n",
      "2007-11-29  25616715  \n",
      "2007-11-30  23047035  \n",
      "2007-12-03  14578850  \n",
      "...              ...  \n",
      "2024-04-05   1853120  \n",
      "2024-04-08  14038860  \n",
      "2024-04-09   1935801  \n",
      "2024-04-10   3984001  \n",
      "2024-04-12   2183230  \n",
      "\n",
      "[4035 rows x 6 columns]\n",
      "HDFCLIFE.NS\n"
     ]
    },
    {
     "name": "stderr",
     "output_type": "stream",
     "text": [
      "[*********************100%%**********************]  1 of 1 completed\n"
     ]
    },
    {
     "name": "stdout",
     "output_type": "stream",
     "text": [
      "                   Open         High          Low        Close    Adj Close  \\\n",
      "Date                                                                          \n",
      "2007-11-27   154.000000   207.000000   154.000000   191.800003   175.274445   \n",
      "2007-11-28   194.000000   197.800003   174.929993   177.000000   161.749634   \n",
      "2007-11-29   181.000000   182.800003   168.460007   177.399994   162.115128   \n",
      "2007-11-30   178.000000   191.399994   178.000000   185.800003   169.791397   \n",
      "2007-12-03   187.949997   198.860001   184.399994   196.000000   179.112579   \n",
      "...                 ...          ...          ...          ...          ...   \n",
      "2024-04-05  1367.000000  1381.900024  1357.349976  1375.550049  1375.550049   \n",
      "2024-04-08  1381.949951  1381.949951  1337.000000  1348.650024  1348.650024   \n",
      "2024-04-09  1356.150024  1364.900024  1346.099976  1356.500000  1356.500000   \n",
      "2024-04-10  1359.000000  1359.900024  1348.199951  1352.300049  1352.300049   \n",
      "2024-04-12  1350.000000  1358.400024  1341.000000  1344.199951  1344.199951   \n",
      "\n",
      "              Volume  \n",
      "Date                  \n",
      "2007-11-27  27262365  \n",
      "2007-11-28  21958915  \n",
      "2007-11-29  25616715  \n",
      "2007-11-30  23047035  \n",
      "2007-12-03  14578850  \n",
      "...              ...  \n",
      "2024-04-05   1853120  \n",
      "2024-04-08  14038860  \n",
      "2024-04-09   1935801  \n",
      "2024-04-10   3984001  \n",
      "2024-04-12   2183230  \n",
      "\n",
      "[4035 rows x 6 columns]\n",
      "HEROMOTOCO.NS\n"
     ]
    },
    {
     "name": "stderr",
     "output_type": "stream",
     "text": [
      "[*********************100%%**********************]  1 of 1 completed\n"
     ]
    },
    {
     "name": "stdout",
     "output_type": "stream",
     "text": [
      "                   Open         High          Low        Close    Adj Close  \\\n",
      "Date                                                                          \n",
      "2007-11-27   154.000000   207.000000   154.000000   191.800003   175.274445   \n",
      "2007-11-28   194.000000   197.800003   174.929993   177.000000   161.749634   \n",
      "2007-11-29   181.000000   182.800003   168.460007   177.399994   162.115128   \n",
      "2007-11-30   178.000000   191.399994   178.000000   185.800003   169.791397   \n",
      "2007-12-03   187.949997   198.860001   184.399994   196.000000   179.112579   \n",
      "...                 ...          ...          ...          ...          ...   \n",
      "2024-04-05  1367.000000  1381.900024  1357.349976  1375.550049  1375.550049   \n",
      "2024-04-08  1381.949951  1381.949951  1337.000000  1348.650024  1348.650024   \n",
      "2024-04-09  1356.150024  1364.900024  1346.099976  1356.500000  1356.500000   \n",
      "2024-04-10  1359.000000  1359.900024  1348.199951  1352.300049  1352.300049   \n",
      "2024-04-12  1350.000000  1358.400024  1341.000000  1344.199951  1344.199951   \n",
      "\n",
      "              Volume  \n",
      "Date                  \n",
      "2007-11-27  27262365  \n",
      "2007-11-28  21958915  \n",
      "2007-11-29  25616715  \n",
      "2007-11-30  23047035  \n",
      "2007-12-03  14578850  \n",
      "...              ...  \n",
      "2024-04-05   1853120  \n",
      "2024-04-08  14038860  \n",
      "2024-04-09   1935801  \n",
      "2024-04-10   3984001  \n",
      "2024-04-12   2183230  \n",
      "\n",
      "[4035 rows x 6 columns]\n",
      "HINDALCO.NS\n"
     ]
    },
    {
     "name": "stderr",
     "output_type": "stream",
     "text": [
      "[*********************100%%**********************]  1 of 1 completed\n"
     ]
    },
    {
     "name": "stdout",
     "output_type": "stream",
     "text": [
      "                   Open         High          Low        Close    Adj Close  \\\n",
      "Date                                                                          \n",
      "2007-11-27   154.000000   207.000000   154.000000   191.800003   175.274445   \n",
      "2007-11-28   194.000000   197.800003   174.929993   177.000000   161.749634   \n",
      "2007-11-29   181.000000   182.800003   168.460007   177.399994   162.115128   \n",
      "2007-11-30   178.000000   191.399994   178.000000   185.800003   169.791397   \n",
      "2007-12-03   187.949997   198.860001   184.399994   196.000000   179.112579   \n",
      "...                 ...          ...          ...          ...          ...   \n",
      "2024-04-05  1367.000000  1381.900024  1357.349976  1375.550049  1375.550049   \n",
      "2024-04-08  1381.949951  1381.949951  1337.000000  1348.650024  1348.650024   \n",
      "2024-04-09  1356.150024  1364.900024  1346.099976  1356.500000  1356.500000   \n",
      "2024-04-10  1359.000000  1359.900024  1348.199951  1352.300049  1352.300049   \n",
      "2024-04-12  1350.000000  1358.400024  1341.000000  1344.199951  1344.199951   \n",
      "\n",
      "              Volume  \n",
      "Date                  \n",
      "2007-11-27  27262365  \n",
      "2007-11-28  21958915  \n",
      "2007-11-29  25616715  \n",
      "2007-11-30  23047035  \n",
      "2007-12-03  14578850  \n",
      "...              ...  \n",
      "2024-04-05   1853120  \n",
      "2024-04-08  14038860  \n",
      "2024-04-09   1935801  \n",
      "2024-04-10   3984001  \n",
      "2024-04-12   2183230  \n",
      "\n",
      "[4035 rows x 6 columns]\n",
      "HINDUNILVR.NS\n"
     ]
    },
    {
     "name": "stderr",
     "output_type": "stream",
     "text": [
      "[*********************100%%**********************]  1 of 1 completed\n"
     ]
    },
    {
     "name": "stdout",
     "output_type": "stream",
     "text": [
      "                   Open         High          Low        Close    Adj Close  \\\n",
      "Date                                                                          \n",
      "2007-11-27   154.000000   207.000000   154.000000   191.800003   175.274445   \n",
      "2007-11-28   194.000000   197.800003   174.929993   177.000000   161.749634   \n",
      "2007-11-29   181.000000   182.800003   168.460007   177.399994   162.115128   \n",
      "2007-11-30   178.000000   191.399994   178.000000   185.800003   169.791397   \n",
      "2007-12-03   187.949997   198.860001   184.399994   196.000000   179.112579   \n",
      "...                 ...          ...          ...          ...          ...   \n",
      "2024-04-05  1367.000000  1381.900024  1357.349976  1375.550049  1375.550049   \n",
      "2024-04-08  1381.949951  1381.949951  1337.000000  1348.650024  1348.650024   \n",
      "2024-04-09  1356.150024  1364.900024  1346.099976  1356.500000  1356.500000   \n",
      "2024-04-10  1359.000000  1359.900024  1348.199951  1352.300049  1352.300049   \n",
      "2024-04-12  1350.000000  1358.400024  1341.000000  1344.199951  1344.199951   \n",
      "\n",
      "              Volume  \n",
      "Date                  \n",
      "2007-11-27  27262365  \n",
      "2007-11-28  21958915  \n",
      "2007-11-29  25616715  \n",
      "2007-11-30  23047035  \n",
      "2007-12-03  14578850  \n",
      "...              ...  \n",
      "2024-04-05   1853120  \n",
      "2024-04-08  14038860  \n",
      "2024-04-09   1935801  \n",
      "2024-04-10   3984001  \n",
      "2024-04-12   2183230  \n",
      "\n",
      "[4035 rows x 6 columns]\n",
      "ICICIBANK.NS\n"
     ]
    },
    {
     "name": "stderr",
     "output_type": "stream",
     "text": [
      "[*********************100%%**********************]  1 of 1 completed\n"
     ]
    },
    {
     "name": "stdout",
     "output_type": "stream",
     "text": [
      "                   Open         High          Low        Close    Adj Close  \\\n",
      "Date                                                                          \n",
      "2007-11-27   154.000000   207.000000   154.000000   191.800003   175.274445   \n",
      "2007-11-28   194.000000   197.800003   174.929993   177.000000   161.749634   \n",
      "2007-11-29   181.000000   182.800003   168.460007   177.399994   162.115128   \n",
      "2007-11-30   178.000000   191.399994   178.000000   185.800003   169.791397   \n",
      "2007-12-03   187.949997   198.860001   184.399994   196.000000   179.112579   \n",
      "...                 ...          ...          ...          ...          ...   \n",
      "2024-04-05  1367.000000  1381.900024  1357.349976  1375.550049  1375.550049   \n",
      "2024-04-08  1381.949951  1381.949951  1337.000000  1348.650024  1348.650024   \n",
      "2024-04-09  1356.150024  1364.900024  1346.099976  1356.500000  1356.500000   \n",
      "2024-04-10  1359.000000  1359.900024  1348.199951  1352.300049  1352.300049   \n",
      "2024-04-12  1350.000000  1358.400024  1341.000000  1344.199951  1344.199951   \n",
      "\n",
      "              Volume  \n",
      "Date                  \n",
      "2007-11-27  27262365  \n",
      "2007-11-28  21958915  \n",
      "2007-11-29  25616715  \n",
      "2007-11-30  23047035  \n",
      "2007-12-03  14578850  \n",
      "...              ...  \n",
      "2024-04-05   1853120  \n",
      "2024-04-08  14038860  \n",
      "2024-04-09   1935801  \n",
      "2024-04-10   3984001  \n",
      "2024-04-12   2183230  \n",
      "\n",
      "[4035 rows x 6 columns]\n",
      "INDUSINDBK.NS\n"
     ]
    },
    {
     "name": "stderr",
     "output_type": "stream",
     "text": [
      "[*********************100%%**********************]  1 of 1 completed\n"
     ]
    },
    {
     "name": "stdout",
     "output_type": "stream",
     "text": [
      "                   Open         High          Low        Close    Adj Close  \\\n",
      "Date                                                                          \n",
      "2007-11-27   154.000000   207.000000   154.000000   191.800003   175.274445   \n",
      "2007-11-28   194.000000   197.800003   174.929993   177.000000   161.749634   \n",
      "2007-11-29   181.000000   182.800003   168.460007   177.399994   162.115128   \n",
      "2007-11-30   178.000000   191.399994   178.000000   185.800003   169.791397   \n",
      "2007-12-03   187.949997   198.860001   184.399994   196.000000   179.112579   \n",
      "...                 ...          ...          ...          ...          ...   \n",
      "2024-04-05  1367.000000  1381.900024  1357.349976  1375.550049  1375.550049   \n",
      "2024-04-08  1381.949951  1381.949951  1337.000000  1348.650024  1348.650024   \n",
      "2024-04-09  1356.150024  1364.900024  1346.099976  1356.500000  1356.500000   \n",
      "2024-04-10  1359.000000  1359.900024  1348.199951  1352.300049  1352.300049   \n",
      "2024-04-12  1350.000000  1358.400024  1341.000000  1344.199951  1344.199951   \n",
      "\n",
      "              Volume  \n",
      "Date                  \n",
      "2007-11-27  27262365  \n",
      "2007-11-28  21958915  \n",
      "2007-11-29  25616715  \n",
      "2007-11-30  23047035  \n",
      "2007-12-03  14578850  \n",
      "...              ...  \n",
      "2024-04-05   1853120  \n",
      "2024-04-08  14038860  \n",
      "2024-04-09   1935801  \n",
      "2024-04-10   3984001  \n",
      "2024-04-12   2183230  \n",
      "\n",
      "[4035 rows x 6 columns]\n",
      "INFY.NS\n"
     ]
    },
    {
     "name": "stderr",
     "output_type": "stream",
     "text": [
      "[*********************100%%**********************]  1 of 1 completed\n"
     ]
    },
    {
     "name": "stdout",
     "output_type": "stream",
     "text": [
      "                   Open         High          Low        Close    Adj Close  \\\n",
      "Date                                                                          \n",
      "2007-11-27   154.000000   207.000000   154.000000   191.800003   175.274445   \n",
      "2007-11-28   194.000000   197.800003   174.929993   177.000000   161.749634   \n",
      "2007-11-29   181.000000   182.800003   168.460007   177.399994   162.115128   \n",
      "2007-11-30   178.000000   191.399994   178.000000   185.800003   169.791397   \n",
      "2007-12-03   187.949997   198.860001   184.399994   196.000000   179.112579   \n",
      "...                 ...          ...          ...          ...          ...   \n",
      "2024-04-05  1367.000000  1381.900024  1357.349976  1375.550049  1375.550049   \n",
      "2024-04-08  1381.949951  1381.949951  1337.000000  1348.650024  1348.650024   \n",
      "2024-04-09  1356.150024  1364.900024  1346.099976  1356.500000  1356.500000   \n",
      "2024-04-10  1359.000000  1359.900024  1348.199951  1352.300049  1352.300049   \n",
      "2024-04-12  1350.000000  1358.400024  1341.000000  1344.199951  1344.199951   \n",
      "\n",
      "              Volume  \n",
      "Date                  \n",
      "2007-11-27  27262365  \n",
      "2007-11-28  21958915  \n",
      "2007-11-29  25616715  \n",
      "2007-11-30  23047035  \n",
      "2007-12-03  14578850  \n",
      "...              ...  \n",
      "2024-04-05   1853120  \n",
      "2024-04-08  14038860  \n",
      "2024-04-09   1935801  \n",
      "2024-04-10   3984001  \n",
      "2024-04-12   2183230  \n",
      "\n",
      "[4035 rows x 6 columns]\n",
      "ITC.NS\n"
     ]
    },
    {
     "name": "stderr",
     "output_type": "stream",
     "text": [
      "[*********************100%%**********************]  1 of 1 completed\n"
     ]
    },
    {
     "name": "stdout",
     "output_type": "stream",
     "text": [
      "                   Open         High          Low        Close    Adj Close  \\\n",
      "Date                                                                          \n",
      "2007-11-27   154.000000   207.000000   154.000000   191.800003   175.274445   \n",
      "2007-11-28   194.000000   197.800003   174.929993   177.000000   161.749634   \n",
      "2007-11-29   181.000000   182.800003   168.460007   177.399994   162.115128   \n",
      "2007-11-30   178.000000   191.399994   178.000000   185.800003   169.791397   \n",
      "2007-12-03   187.949997   198.860001   184.399994   196.000000   179.112579   \n",
      "...                 ...          ...          ...          ...          ...   \n",
      "2024-04-05  1367.000000  1381.900024  1357.349976  1375.550049  1375.550049   \n",
      "2024-04-08  1381.949951  1381.949951  1337.000000  1348.650024  1348.650024   \n",
      "2024-04-09  1356.150024  1364.900024  1346.099976  1356.500000  1356.500000   \n",
      "2024-04-10  1359.000000  1359.900024  1348.199951  1352.300049  1352.300049   \n",
      "2024-04-12  1350.000000  1358.400024  1341.000000  1344.199951  1344.199951   \n",
      "\n",
      "              Volume  \n",
      "Date                  \n",
      "2007-11-27  27262365  \n",
      "2007-11-28  21958915  \n",
      "2007-11-29  25616715  \n",
      "2007-11-30  23047035  \n",
      "2007-12-03  14578850  \n",
      "...              ...  \n",
      "2024-04-05   1853120  \n",
      "2024-04-08  14038860  \n",
      "2024-04-09   1935801  \n",
      "2024-04-10   3984001  \n",
      "2024-04-12   2183230  \n",
      "\n",
      "[4035 rows x 6 columns]\n",
      "JSWSTEEL.NS\n"
     ]
    },
    {
     "name": "stderr",
     "output_type": "stream",
     "text": [
      "[*********************100%%**********************]  1 of 1 completed\n"
     ]
    },
    {
     "name": "stdout",
     "output_type": "stream",
     "text": [
      "                   Open         High          Low        Close    Adj Close  \\\n",
      "Date                                                                          \n",
      "2007-11-27   154.000000   207.000000   154.000000   191.800003   175.274445   \n",
      "2007-11-28   194.000000   197.800003   174.929993   177.000000   161.749634   \n",
      "2007-11-29   181.000000   182.800003   168.460007   177.399994   162.115128   \n",
      "2007-11-30   178.000000   191.399994   178.000000   185.800003   169.791397   \n",
      "2007-12-03   187.949997   198.860001   184.399994   196.000000   179.112579   \n",
      "...                 ...          ...          ...          ...          ...   \n",
      "2024-04-05  1367.000000  1381.900024  1357.349976  1375.550049  1375.550049   \n",
      "2024-04-08  1381.949951  1381.949951  1337.000000  1348.650024  1348.650024   \n",
      "2024-04-09  1356.150024  1364.900024  1346.099976  1356.500000  1356.500000   \n",
      "2024-04-10  1359.000000  1359.900024  1348.199951  1352.300049  1352.300049   \n",
      "2024-04-12  1350.000000  1358.400024  1341.000000  1344.199951  1344.199951   \n",
      "\n",
      "              Volume  \n",
      "Date                  \n",
      "2007-11-27  27262365  \n",
      "2007-11-28  21958915  \n",
      "2007-11-29  25616715  \n",
      "2007-11-30  23047035  \n",
      "2007-12-03  14578850  \n",
      "...              ...  \n",
      "2024-04-05   1853120  \n",
      "2024-04-08  14038860  \n",
      "2024-04-09   1935801  \n",
      "2024-04-10   3984001  \n",
      "2024-04-12   2183230  \n",
      "\n",
      "[4035 rows x 6 columns]\n",
      "KOTAKBANK.NS\n"
     ]
    },
    {
     "name": "stderr",
     "output_type": "stream",
     "text": [
      "[*********************100%%**********************]  1 of 1 completed\n"
     ]
    },
    {
     "name": "stdout",
     "output_type": "stream",
     "text": [
      "                   Open         High          Low        Close    Adj Close  \\\n",
      "Date                                                                          \n",
      "2007-11-27   154.000000   207.000000   154.000000   191.800003   175.274445   \n",
      "2007-11-28   194.000000   197.800003   174.929993   177.000000   161.749634   \n",
      "2007-11-29   181.000000   182.800003   168.460007   177.399994   162.115128   \n",
      "2007-11-30   178.000000   191.399994   178.000000   185.800003   169.791397   \n",
      "2007-12-03   187.949997   198.860001   184.399994   196.000000   179.112579   \n",
      "...                 ...          ...          ...          ...          ...   \n",
      "2024-04-05  1367.000000  1381.900024  1357.349976  1375.550049  1375.550049   \n",
      "2024-04-08  1381.949951  1381.949951  1337.000000  1348.650024  1348.650024   \n",
      "2024-04-09  1356.150024  1364.900024  1346.099976  1356.500000  1356.500000   \n",
      "2024-04-10  1359.000000  1359.900024  1348.199951  1352.300049  1352.300049   \n",
      "2024-04-12  1350.000000  1358.400024  1341.000000  1344.199951  1344.199951   \n",
      "\n",
      "              Volume  \n",
      "Date                  \n",
      "2007-11-27  27262365  \n",
      "2007-11-28  21958915  \n",
      "2007-11-29  25616715  \n",
      "2007-11-30  23047035  \n",
      "2007-12-03  14578850  \n",
      "...              ...  \n",
      "2024-04-05   1853120  \n",
      "2024-04-08  14038860  \n",
      "2024-04-09   1935801  \n",
      "2024-04-10   3984001  \n",
      "2024-04-12   2183230  \n",
      "\n",
      "[4035 rows x 6 columns]\n",
      "LT.NS\n"
     ]
    },
    {
     "name": "stderr",
     "output_type": "stream",
     "text": [
      "[*********************100%%**********************]  1 of 1 completed\n"
     ]
    },
    {
     "name": "stdout",
     "output_type": "stream",
     "text": [
      "                   Open         High          Low        Close    Adj Close  \\\n",
      "Date                                                                          \n",
      "2007-11-27   154.000000   207.000000   154.000000   191.800003   175.274445   \n",
      "2007-11-28   194.000000   197.800003   174.929993   177.000000   161.749634   \n",
      "2007-11-29   181.000000   182.800003   168.460007   177.399994   162.115128   \n",
      "2007-11-30   178.000000   191.399994   178.000000   185.800003   169.791397   \n",
      "2007-12-03   187.949997   198.860001   184.399994   196.000000   179.112579   \n",
      "...                 ...          ...          ...          ...          ...   \n",
      "2024-04-05  1367.000000  1381.900024  1357.349976  1375.550049  1375.550049   \n",
      "2024-04-08  1381.949951  1381.949951  1337.000000  1348.650024  1348.650024   \n",
      "2024-04-09  1356.150024  1364.900024  1346.099976  1356.500000  1356.500000   \n",
      "2024-04-10  1359.000000  1359.900024  1348.199951  1352.300049  1352.300049   \n",
      "2024-04-12  1350.000000  1358.400024  1341.000000  1344.199951  1344.199951   \n",
      "\n",
      "              Volume  \n",
      "Date                  \n",
      "2007-11-27  27262365  \n",
      "2007-11-28  21958915  \n",
      "2007-11-29  25616715  \n",
      "2007-11-30  23047035  \n",
      "2007-12-03  14578850  \n",
      "...              ...  \n",
      "2024-04-05   1853120  \n",
      "2024-04-08  14038860  \n",
      "2024-04-09   1935801  \n",
      "2024-04-10   3984001  \n",
      "2024-04-12   2183230  \n",
      "\n",
      "[4035 rows x 6 columns]\n",
      "LTIM.NS\n"
     ]
    },
    {
     "name": "stderr",
     "output_type": "stream",
     "text": [
      "[*********************100%%**********************]  1 of 1 completed\n"
     ]
    },
    {
     "name": "stdout",
     "output_type": "stream",
     "text": [
      "                   Open         High          Low        Close    Adj Close  \\\n",
      "Date                                                                          \n",
      "2007-11-27   154.000000   207.000000   154.000000   191.800003   175.274445   \n",
      "2007-11-28   194.000000   197.800003   174.929993   177.000000   161.749634   \n",
      "2007-11-29   181.000000   182.800003   168.460007   177.399994   162.115128   \n",
      "2007-11-30   178.000000   191.399994   178.000000   185.800003   169.791397   \n",
      "2007-12-03   187.949997   198.860001   184.399994   196.000000   179.112579   \n",
      "...                 ...          ...          ...          ...          ...   \n",
      "2024-04-05  1367.000000  1381.900024  1357.349976  1375.550049  1375.550049   \n",
      "2024-04-08  1381.949951  1381.949951  1337.000000  1348.650024  1348.650024   \n",
      "2024-04-09  1356.150024  1364.900024  1346.099976  1356.500000  1356.500000   \n",
      "2024-04-10  1359.000000  1359.900024  1348.199951  1352.300049  1352.300049   \n",
      "2024-04-12  1350.000000  1358.400024  1341.000000  1344.199951  1344.199951   \n",
      "\n",
      "              Volume  \n",
      "Date                  \n",
      "2007-11-27  27262365  \n",
      "2007-11-28  21958915  \n",
      "2007-11-29  25616715  \n",
      "2007-11-30  23047035  \n",
      "2007-12-03  14578850  \n",
      "...              ...  \n",
      "2024-04-05   1853120  \n",
      "2024-04-08  14038860  \n",
      "2024-04-09   1935801  \n",
      "2024-04-10   3984001  \n",
      "2024-04-12   2183230  \n",
      "\n",
      "[4035 rows x 6 columns]\n",
      "M&M.NS\n"
     ]
    },
    {
     "name": "stderr",
     "output_type": "stream",
     "text": [
      "[*********************100%%**********************]  1 of 1 completed\n"
     ]
    },
    {
     "name": "stdout",
     "output_type": "stream",
     "text": [
      "                   Open         High          Low        Close    Adj Close  \\\n",
      "Date                                                                          \n",
      "2007-11-27   154.000000   207.000000   154.000000   191.800003   175.274445   \n",
      "2007-11-28   194.000000   197.800003   174.929993   177.000000   161.749634   \n",
      "2007-11-29   181.000000   182.800003   168.460007   177.399994   162.115128   \n",
      "2007-11-30   178.000000   191.399994   178.000000   185.800003   169.791397   \n",
      "2007-12-03   187.949997   198.860001   184.399994   196.000000   179.112579   \n",
      "...                 ...          ...          ...          ...          ...   \n",
      "2024-04-05  1367.000000  1381.900024  1357.349976  1375.550049  1375.550049   \n",
      "2024-04-08  1381.949951  1381.949951  1337.000000  1348.650024  1348.650024   \n",
      "2024-04-09  1356.150024  1364.900024  1346.099976  1356.500000  1356.500000   \n",
      "2024-04-10  1359.000000  1359.900024  1348.199951  1352.300049  1352.300049   \n",
      "2024-04-12  1350.000000  1358.400024  1341.000000  1344.199951  1344.199951   \n",
      "\n",
      "              Volume  \n",
      "Date                  \n",
      "2007-11-27  27262365  \n",
      "2007-11-28  21958915  \n",
      "2007-11-29  25616715  \n",
      "2007-11-30  23047035  \n",
      "2007-12-03  14578850  \n",
      "...              ...  \n",
      "2024-04-05   1853120  \n",
      "2024-04-08  14038860  \n",
      "2024-04-09   1935801  \n",
      "2024-04-10   3984001  \n",
      "2024-04-12   2183230  \n",
      "\n",
      "[4035 rows x 6 columns]\n",
      "MARUTI.NS\n"
     ]
    },
    {
     "name": "stderr",
     "output_type": "stream",
     "text": [
      "[*********************100%%**********************]  1 of 1 completed\n"
     ]
    },
    {
     "name": "stdout",
     "output_type": "stream",
     "text": [
      "                   Open         High          Low        Close    Adj Close  \\\n",
      "Date                                                                          \n",
      "2007-11-27   154.000000   207.000000   154.000000   191.800003   175.274445   \n",
      "2007-11-28   194.000000   197.800003   174.929993   177.000000   161.749634   \n",
      "2007-11-29   181.000000   182.800003   168.460007   177.399994   162.115128   \n",
      "2007-11-30   178.000000   191.399994   178.000000   185.800003   169.791397   \n",
      "2007-12-03   187.949997   198.860001   184.399994   196.000000   179.112579   \n",
      "...                 ...          ...          ...          ...          ...   \n",
      "2024-04-05  1367.000000  1381.900024  1357.349976  1375.550049  1375.550049   \n",
      "2024-04-08  1381.949951  1381.949951  1337.000000  1348.650024  1348.650024   \n",
      "2024-04-09  1356.150024  1364.900024  1346.099976  1356.500000  1356.500000   \n",
      "2024-04-10  1359.000000  1359.900024  1348.199951  1352.300049  1352.300049   \n",
      "2024-04-12  1350.000000  1358.400024  1341.000000  1344.199951  1344.199951   \n",
      "\n",
      "              Volume  \n",
      "Date                  \n",
      "2007-11-27  27262365  \n",
      "2007-11-28  21958915  \n",
      "2007-11-29  25616715  \n",
      "2007-11-30  23047035  \n",
      "2007-12-03  14578850  \n",
      "...              ...  \n",
      "2024-04-05   1853120  \n",
      "2024-04-08  14038860  \n",
      "2024-04-09   1935801  \n",
      "2024-04-10   3984001  \n",
      "2024-04-12   2183230  \n",
      "\n",
      "[4035 rows x 6 columns]\n",
      "NESTLEIND.NS\n"
     ]
    },
    {
     "name": "stderr",
     "output_type": "stream",
     "text": [
      "[*********************100%%**********************]  1 of 1 completed\n"
     ]
    },
    {
     "name": "stdout",
     "output_type": "stream",
     "text": [
      "                   Open         High          Low        Close    Adj Close  \\\n",
      "Date                                                                          \n",
      "2007-11-27   154.000000   207.000000   154.000000   191.800003   175.274445   \n",
      "2007-11-28   194.000000   197.800003   174.929993   177.000000   161.749634   \n",
      "2007-11-29   181.000000   182.800003   168.460007   177.399994   162.115128   \n",
      "2007-11-30   178.000000   191.399994   178.000000   185.800003   169.791397   \n",
      "2007-12-03   187.949997   198.860001   184.399994   196.000000   179.112579   \n",
      "...                 ...          ...          ...          ...          ...   \n",
      "2024-04-05  1367.000000  1381.900024  1357.349976  1375.550049  1375.550049   \n",
      "2024-04-08  1381.949951  1381.949951  1337.000000  1348.650024  1348.650024   \n",
      "2024-04-09  1356.150024  1364.900024  1346.099976  1356.500000  1356.500000   \n",
      "2024-04-10  1359.000000  1359.900024  1348.199951  1352.300049  1352.300049   \n",
      "2024-04-12  1350.000000  1358.400024  1341.000000  1344.199951  1344.199951   \n",
      "\n",
      "              Volume  \n",
      "Date                  \n",
      "2007-11-27  27262365  \n",
      "2007-11-28  21958915  \n",
      "2007-11-29  25616715  \n",
      "2007-11-30  23047035  \n",
      "2007-12-03  14578850  \n",
      "...              ...  \n",
      "2024-04-05   1853120  \n",
      "2024-04-08  14038860  \n",
      "2024-04-09   1935801  \n",
      "2024-04-10   3984001  \n",
      "2024-04-12   2183230  \n",
      "\n",
      "[4035 rows x 6 columns]\n",
      "NTPC.NS\n"
     ]
    },
    {
     "name": "stderr",
     "output_type": "stream",
     "text": [
      "[*********************100%%**********************]  1 of 1 completed\n"
     ]
    },
    {
     "name": "stdout",
     "output_type": "stream",
     "text": [
      "                   Open         High          Low        Close    Adj Close  \\\n",
      "Date                                                                          \n",
      "2007-11-27   154.000000   207.000000   154.000000   191.800003   175.274445   \n",
      "2007-11-28   194.000000   197.800003   174.929993   177.000000   161.749634   \n",
      "2007-11-29   181.000000   182.800003   168.460007   177.399994   162.115128   \n",
      "2007-11-30   178.000000   191.399994   178.000000   185.800003   169.791397   \n",
      "2007-12-03   187.949997   198.860001   184.399994   196.000000   179.112579   \n",
      "...                 ...          ...          ...          ...          ...   \n",
      "2024-04-05  1367.000000  1381.900024  1357.349976  1375.550049  1375.550049   \n",
      "2024-04-08  1381.949951  1381.949951  1337.000000  1348.650024  1348.650024   \n",
      "2024-04-09  1356.150024  1364.900024  1346.099976  1356.500000  1356.500000   \n",
      "2024-04-10  1359.000000  1359.900024  1348.199951  1352.300049  1352.300049   \n",
      "2024-04-12  1350.000000  1358.400024  1341.000000  1344.199951  1344.199951   \n",
      "\n",
      "              Volume  \n",
      "Date                  \n",
      "2007-11-27  27262365  \n",
      "2007-11-28  21958915  \n",
      "2007-11-29  25616715  \n",
      "2007-11-30  23047035  \n",
      "2007-12-03  14578850  \n",
      "...              ...  \n",
      "2024-04-05   1853120  \n",
      "2024-04-08  14038860  \n",
      "2024-04-09   1935801  \n",
      "2024-04-10   3984001  \n",
      "2024-04-12   2183230  \n",
      "\n",
      "[4035 rows x 6 columns]\n",
      "ONGC.NS\n"
     ]
    },
    {
     "name": "stderr",
     "output_type": "stream",
     "text": [
      "[*********************100%%**********************]  1 of 1 completed\n"
     ]
    },
    {
     "name": "stdout",
     "output_type": "stream",
     "text": [
      "                   Open         High          Low        Close    Adj Close  \\\n",
      "Date                                                                          \n",
      "2007-11-27   154.000000   207.000000   154.000000   191.800003   175.274445   \n",
      "2007-11-28   194.000000   197.800003   174.929993   177.000000   161.749634   \n",
      "2007-11-29   181.000000   182.800003   168.460007   177.399994   162.115128   \n",
      "2007-11-30   178.000000   191.399994   178.000000   185.800003   169.791397   \n",
      "2007-12-03   187.949997   198.860001   184.399994   196.000000   179.112579   \n",
      "...                 ...          ...          ...          ...          ...   \n",
      "2024-04-05  1367.000000  1381.900024  1357.349976  1375.550049  1375.550049   \n",
      "2024-04-08  1381.949951  1381.949951  1337.000000  1348.650024  1348.650024   \n",
      "2024-04-09  1356.150024  1364.900024  1346.099976  1356.500000  1356.500000   \n",
      "2024-04-10  1359.000000  1359.900024  1348.199951  1352.300049  1352.300049   \n",
      "2024-04-12  1350.000000  1358.400024  1341.000000  1344.199951  1344.199951   \n",
      "\n",
      "              Volume  \n",
      "Date                  \n",
      "2007-11-27  27262365  \n",
      "2007-11-28  21958915  \n",
      "2007-11-29  25616715  \n",
      "2007-11-30  23047035  \n",
      "2007-12-03  14578850  \n",
      "...              ...  \n",
      "2024-04-05   1853120  \n",
      "2024-04-08  14038860  \n",
      "2024-04-09   1935801  \n",
      "2024-04-10   3984001  \n",
      "2024-04-12   2183230  \n",
      "\n",
      "[4035 rows x 6 columns]\n",
      "POWERGRID.NS\n"
     ]
    },
    {
     "name": "stderr",
     "output_type": "stream",
     "text": [
      "[*********************100%%**********************]  1 of 1 completed\n"
     ]
    },
    {
     "name": "stdout",
     "output_type": "stream",
     "text": [
      "                   Open         High          Low        Close    Adj Close  \\\n",
      "Date                                                                          \n",
      "2007-11-27   154.000000   207.000000   154.000000   191.800003   175.274445   \n",
      "2007-11-28   194.000000   197.800003   174.929993   177.000000   161.749634   \n",
      "2007-11-29   181.000000   182.800003   168.460007   177.399994   162.115128   \n",
      "2007-11-30   178.000000   191.399994   178.000000   185.800003   169.791397   \n",
      "2007-12-03   187.949997   198.860001   184.399994   196.000000   179.112579   \n",
      "...                 ...          ...          ...          ...          ...   \n",
      "2024-04-05  1367.000000  1381.900024  1357.349976  1375.550049  1375.550049   \n",
      "2024-04-08  1381.949951  1381.949951  1337.000000  1348.650024  1348.650024   \n",
      "2024-04-09  1356.150024  1364.900024  1346.099976  1356.500000  1356.500000   \n",
      "2024-04-10  1359.000000  1359.900024  1348.199951  1352.300049  1352.300049   \n",
      "2024-04-12  1350.000000  1358.400024  1341.000000  1344.199951  1344.199951   \n",
      "\n",
      "              Volume  \n",
      "Date                  \n",
      "2007-11-27  27262365  \n",
      "2007-11-28  21958915  \n",
      "2007-11-29  25616715  \n",
      "2007-11-30  23047035  \n",
      "2007-12-03  14578850  \n",
      "...              ...  \n",
      "2024-04-05   1853120  \n",
      "2024-04-08  14038860  \n",
      "2024-04-09   1935801  \n",
      "2024-04-10   3984001  \n",
      "2024-04-12   2183230  \n",
      "\n",
      "[4035 rows x 6 columns]\n",
      "RELIANCE.NS\n"
     ]
    },
    {
     "name": "stderr",
     "output_type": "stream",
     "text": [
      "[*********************100%%**********************]  1 of 1 completed\n"
     ]
    },
    {
     "name": "stdout",
     "output_type": "stream",
     "text": [
      "                   Open         High          Low        Close    Adj Close  \\\n",
      "Date                                                                          \n",
      "2007-11-27   154.000000   207.000000   154.000000   191.800003   175.274445   \n",
      "2007-11-28   194.000000   197.800003   174.929993   177.000000   161.749634   \n",
      "2007-11-29   181.000000   182.800003   168.460007   177.399994   162.115128   \n",
      "2007-11-30   178.000000   191.399994   178.000000   185.800003   169.791397   \n",
      "2007-12-03   187.949997   198.860001   184.399994   196.000000   179.112579   \n",
      "...                 ...          ...          ...          ...          ...   \n",
      "2024-04-05  1367.000000  1381.900024  1357.349976  1375.550049  1375.550049   \n",
      "2024-04-08  1381.949951  1381.949951  1337.000000  1348.650024  1348.650024   \n",
      "2024-04-09  1356.150024  1364.900024  1346.099976  1356.500000  1356.500000   \n",
      "2024-04-10  1359.000000  1359.900024  1348.199951  1352.300049  1352.300049   \n",
      "2024-04-12  1350.000000  1358.400024  1341.000000  1344.199951  1344.199951   \n",
      "\n",
      "              Volume  \n",
      "Date                  \n",
      "2007-11-27  27262365  \n",
      "2007-11-28  21958915  \n",
      "2007-11-29  25616715  \n",
      "2007-11-30  23047035  \n",
      "2007-12-03  14578850  \n",
      "...              ...  \n",
      "2024-04-05   1853120  \n",
      "2024-04-08  14038860  \n",
      "2024-04-09   1935801  \n",
      "2024-04-10   3984001  \n",
      "2024-04-12   2183230  \n",
      "\n",
      "[4035 rows x 6 columns]\n",
      "SBILIFE.NS\n"
     ]
    },
    {
     "name": "stderr",
     "output_type": "stream",
     "text": [
      "[*********************100%%**********************]  1 of 1 completed\n"
     ]
    },
    {
     "name": "stdout",
     "output_type": "stream",
     "text": [
      "                   Open         High          Low        Close    Adj Close  \\\n",
      "Date                                                                          \n",
      "2007-11-27   154.000000   207.000000   154.000000   191.800003   175.274445   \n",
      "2007-11-28   194.000000   197.800003   174.929993   177.000000   161.749634   \n",
      "2007-11-29   181.000000   182.800003   168.460007   177.399994   162.115128   \n",
      "2007-11-30   178.000000   191.399994   178.000000   185.800003   169.791397   \n",
      "2007-12-03   187.949997   198.860001   184.399994   196.000000   179.112579   \n",
      "...                 ...          ...          ...          ...          ...   \n",
      "2024-04-05  1367.000000  1381.900024  1357.349976  1375.550049  1375.550049   \n",
      "2024-04-08  1381.949951  1381.949951  1337.000000  1348.650024  1348.650024   \n",
      "2024-04-09  1356.150024  1364.900024  1346.099976  1356.500000  1356.500000   \n",
      "2024-04-10  1359.000000  1359.900024  1348.199951  1352.300049  1352.300049   \n",
      "2024-04-12  1350.000000  1358.400024  1341.000000  1344.199951  1344.199951   \n",
      "\n",
      "              Volume  \n",
      "Date                  \n",
      "2007-11-27  27262365  \n",
      "2007-11-28  21958915  \n",
      "2007-11-29  25616715  \n",
      "2007-11-30  23047035  \n",
      "2007-12-03  14578850  \n",
      "...              ...  \n",
      "2024-04-05   1853120  \n",
      "2024-04-08  14038860  \n",
      "2024-04-09   1935801  \n",
      "2024-04-10   3984001  \n",
      "2024-04-12   2183230  \n",
      "\n",
      "[4035 rows x 6 columns]\n",
      "SHRIRAMFIN.NS\n"
     ]
    },
    {
     "name": "stderr",
     "output_type": "stream",
     "text": [
      "[*********************100%%**********************]  1 of 1 completed\n"
     ]
    },
    {
     "name": "stdout",
     "output_type": "stream",
     "text": [
      "                   Open         High          Low        Close    Adj Close  \\\n",
      "Date                                                                          \n",
      "2007-11-27   154.000000   207.000000   154.000000   191.800003   175.274445   \n",
      "2007-11-28   194.000000   197.800003   174.929993   177.000000   161.749634   \n",
      "2007-11-29   181.000000   182.800003   168.460007   177.399994   162.115128   \n",
      "2007-11-30   178.000000   191.399994   178.000000   185.800003   169.791397   \n",
      "2007-12-03   187.949997   198.860001   184.399994   196.000000   179.112579   \n",
      "...                 ...          ...          ...          ...          ...   \n",
      "2024-04-05  1367.000000  1381.900024  1357.349976  1375.550049  1375.550049   \n",
      "2024-04-08  1381.949951  1381.949951  1337.000000  1348.650024  1348.650024   \n",
      "2024-04-09  1356.150024  1364.900024  1346.099976  1356.500000  1356.500000   \n",
      "2024-04-10  1359.000000  1359.900024  1348.199951  1352.300049  1352.300049   \n",
      "2024-04-12  1350.000000  1358.400024  1341.000000  1344.199951  1344.199951   \n",
      "\n",
      "              Volume  \n",
      "Date                  \n",
      "2007-11-27  27262365  \n",
      "2007-11-28  21958915  \n",
      "2007-11-29  25616715  \n",
      "2007-11-30  23047035  \n",
      "2007-12-03  14578850  \n",
      "...              ...  \n",
      "2024-04-05   1853120  \n",
      "2024-04-08  14038860  \n",
      "2024-04-09   1935801  \n",
      "2024-04-10   3984001  \n",
      "2024-04-12   2183230  \n",
      "\n",
      "[4035 rows x 6 columns]\n",
      "SBIN.NS\n"
     ]
    },
    {
     "name": "stderr",
     "output_type": "stream",
     "text": [
      "[*********************100%%**********************]  1 of 1 completed\n"
     ]
    },
    {
     "name": "stdout",
     "output_type": "stream",
     "text": [
      "                   Open         High          Low        Close    Adj Close  \\\n",
      "Date                                                                          \n",
      "2007-11-27   154.000000   207.000000   154.000000   191.800003   175.274445   \n",
      "2007-11-28   194.000000   197.800003   174.929993   177.000000   161.749634   \n",
      "2007-11-29   181.000000   182.800003   168.460007   177.399994   162.115128   \n",
      "2007-11-30   178.000000   191.399994   178.000000   185.800003   169.791397   \n",
      "2007-12-03   187.949997   198.860001   184.399994   196.000000   179.112579   \n",
      "...                 ...          ...          ...          ...          ...   \n",
      "2024-04-05  1367.000000  1381.900024  1357.349976  1375.550049  1375.550049   \n",
      "2024-04-08  1381.949951  1381.949951  1337.000000  1348.650024  1348.650024   \n",
      "2024-04-09  1356.150024  1364.900024  1346.099976  1356.500000  1356.500000   \n",
      "2024-04-10  1359.000000  1359.900024  1348.199951  1352.300049  1352.300049   \n",
      "2024-04-12  1350.000000  1358.400024  1341.000000  1344.199951  1344.199951   \n",
      "\n",
      "              Volume  \n",
      "Date                  \n",
      "2007-11-27  27262365  \n",
      "2007-11-28  21958915  \n",
      "2007-11-29  25616715  \n",
      "2007-11-30  23047035  \n",
      "2007-12-03  14578850  \n",
      "...              ...  \n",
      "2024-04-05   1853120  \n",
      "2024-04-08  14038860  \n",
      "2024-04-09   1935801  \n",
      "2024-04-10   3984001  \n",
      "2024-04-12   2183230  \n",
      "\n",
      "[4035 rows x 6 columns]\n",
      "SUNPHARMA.NS\n"
     ]
    },
    {
     "name": "stderr",
     "output_type": "stream",
     "text": [
      "[*********************100%%**********************]  1 of 1 completed\n"
     ]
    },
    {
     "name": "stdout",
     "output_type": "stream",
     "text": [
      "                   Open         High          Low        Close    Adj Close  \\\n",
      "Date                                                                          \n",
      "2007-11-27   154.000000   207.000000   154.000000   191.800003   175.274445   \n",
      "2007-11-28   194.000000   197.800003   174.929993   177.000000   161.749634   \n",
      "2007-11-29   181.000000   182.800003   168.460007   177.399994   162.115128   \n",
      "2007-11-30   178.000000   191.399994   178.000000   185.800003   169.791397   \n",
      "2007-12-03   187.949997   198.860001   184.399994   196.000000   179.112579   \n",
      "...                 ...          ...          ...          ...          ...   \n",
      "2024-04-05  1367.000000  1381.900024  1357.349976  1375.550049  1375.550049   \n",
      "2024-04-08  1381.949951  1381.949951  1337.000000  1348.650024  1348.650024   \n",
      "2024-04-09  1356.150024  1364.900024  1346.099976  1356.500000  1356.500000   \n",
      "2024-04-10  1359.000000  1359.900024  1348.199951  1352.300049  1352.300049   \n",
      "2024-04-12  1350.000000  1358.400024  1341.000000  1344.199951  1344.199951   \n",
      "\n",
      "              Volume  \n",
      "Date                  \n",
      "2007-11-27  27262365  \n",
      "2007-11-28  21958915  \n",
      "2007-11-29  25616715  \n",
      "2007-11-30  23047035  \n",
      "2007-12-03  14578850  \n",
      "...              ...  \n",
      "2024-04-05   1853120  \n",
      "2024-04-08  14038860  \n",
      "2024-04-09   1935801  \n",
      "2024-04-10   3984001  \n",
      "2024-04-12   2183230  \n",
      "\n",
      "[4035 rows x 6 columns]\n",
      "TATAMOTORS.NS\n"
     ]
    },
    {
     "name": "stderr",
     "output_type": "stream",
     "text": [
      "[*********************100%%**********************]  1 of 1 completed\n"
     ]
    },
    {
     "name": "stdout",
     "output_type": "stream",
     "text": [
      "                   Open         High          Low        Close    Adj Close  \\\n",
      "Date                                                                          \n",
      "2007-11-27   154.000000   207.000000   154.000000   191.800003   175.274445   \n",
      "2007-11-28   194.000000   197.800003   174.929993   177.000000   161.749634   \n",
      "2007-11-29   181.000000   182.800003   168.460007   177.399994   162.115128   \n",
      "2007-11-30   178.000000   191.399994   178.000000   185.800003   169.791397   \n",
      "2007-12-03   187.949997   198.860001   184.399994   196.000000   179.112579   \n",
      "...                 ...          ...          ...          ...          ...   \n",
      "2024-04-05  1367.000000  1381.900024  1357.349976  1375.550049  1375.550049   \n",
      "2024-04-08  1381.949951  1381.949951  1337.000000  1348.650024  1348.650024   \n",
      "2024-04-09  1356.150024  1364.900024  1346.099976  1356.500000  1356.500000   \n",
      "2024-04-10  1359.000000  1359.900024  1348.199951  1352.300049  1352.300049   \n",
      "2024-04-12  1350.000000  1358.400024  1341.000000  1344.199951  1344.199951   \n",
      "\n",
      "              Volume  \n",
      "Date                  \n",
      "2007-11-27  27262365  \n",
      "2007-11-28  21958915  \n",
      "2007-11-29  25616715  \n",
      "2007-11-30  23047035  \n",
      "2007-12-03  14578850  \n",
      "...              ...  \n",
      "2024-04-05   1853120  \n",
      "2024-04-08  14038860  \n",
      "2024-04-09   1935801  \n",
      "2024-04-10   3984001  \n",
      "2024-04-12   2183230  \n",
      "\n",
      "[4035 rows x 6 columns]\n",
      "TATASTEEL.NS\n"
     ]
    },
    {
     "name": "stderr",
     "output_type": "stream",
     "text": [
      "[*********************100%%**********************]  1 of 1 completed\n"
     ]
    },
    {
     "name": "stdout",
     "output_type": "stream",
     "text": [
      "                   Open         High          Low        Close    Adj Close  \\\n",
      "Date                                                                          \n",
      "2007-11-27   154.000000   207.000000   154.000000   191.800003   175.274445   \n",
      "2007-11-28   194.000000   197.800003   174.929993   177.000000   161.749634   \n",
      "2007-11-29   181.000000   182.800003   168.460007   177.399994   162.115128   \n",
      "2007-11-30   178.000000   191.399994   178.000000   185.800003   169.791397   \n",
      "2007-12-03   187.949997   198.860001   184.399994   196.000000   179.112579   \n",
      "...                 ...          ...          ...          ...          ...   \n",
      "2024-04-05  1367.000000  1381.900024  1357.349976  1375.550049  1375.550049   \n",
      "2024-04-08  1381.949951  1381.949951  1337.000000  1348.650024  1348.650024   \n",
      "2024-04-09  1356.150024  1364.900024  1346.099976  1356.500000  1356.500000   \n",
      "2024-04-10  1359.000000  1359.900024  1348.199951  1352.300049  1352.300049   \n",
      "2024-04-12  1350.000000  1358.400024  1341.000000  1344.199951  1344.199951   \n",
      "\n",
      "              Volume  \n",
      "Date                  \n",
      "2007-11-27  27262365  \n",
      "2007-11-28  21958915  \n",
      "2007-11-29  25616715  \n",
      "2007-11-30  23047035  \n",
      "2007-12-03  14578850  \n",
      "...              ...  \n",
      "2024-04-05   1853120  \n",
      "2024-04-08  14038860  \n",
      "2024-04-09   1935801  \n",
      "2024-04-10   3984001  \n",
      "2024-04-12   2183230  \n",
      "\n",
      "[4035 rows x 6 columns]\n",
      "TCS.NS\n"
     ]
    },
    {
     "name": "stderr",
     "output_type": "stream",
     "text": [
      "[*********************100%%**********************]  1 of 1 completed\n"
     ]
    },
    {
     "name": "stdout",
     "output_type": "stream",
     "text": [
      "                   Open         High          Low        Close    Adj Close  \\\n",
      "Date                                                                          \n",
      "2007-11-27   154.000000   207.000000   154.000000   191.800003   175.274445   \n",
      "2007-11-28   194.000000   197.800003   174.929993   177.000000   161.749634   \n",
      "2007-11-29   181.000000   182.800003   168.460007   177.399994   162.115128   \n",
      "2007-11-30   178.000000   191.399994   178.000000   185.800003   169.791397   \n",
      "2007-12-03   187.949997   198.860001   184.399994   196.000000   179.112579   \n",
      "...                 ...          ...          ...          ...          ...   \n",
      "2024-04-05  1367.000000  1381.900024  1357.349976  1375.550049  1375.550049   \n",
      "2024-04-08  1381.949951  1381.949951  1337.000000  1348.650024  1348.650024   \n",
      "2024-04-09  1356.150024  1364.900024  1346.099976  1356.500000  1356.500000   \n",
      "2024-04-10  1359.000000  1359.900024  1348.199951  1352.300049  1352.300049   \n",
      "2024-04-12  1350.000000  1358.400024  1341.000000  1344.199951  1344.199951   \n",
      "\n",
      "              Volume  \n",
      "Date                  \n",
      "2007-11-27  27262365  \n",
      "2007-11-28  21958915  \n",
      "2007-11-29  25616715  \n",
      "2007-11-30  23047035  \n",
      "2007-12-03  14578850  \n",
      "...              ...  \n",
      "2024-04-05   1853120  \n",
      "2024-04-08  14038860  \n",
      "2024-04-09   1935801  \n",
      "2024-04-10   3984001  \n",
      "2024-04-12   2183230  \n",
      "\n",
      "[4035 rows x 6 columns]\n",
      "TATACONSUM.NS\n"
     ]
    },
    {
     "name": "stderr",
     "output_type": "stream",
     "text": [
      "[*********************100%%**********************]  1 of 1 completed\n"
     ]
    },
    {
     "name": "stdout",
     "output_type": "stream",
     "text": [
      "                   Open         High          Low        Close    Adj Close  \\\n",
      "Date                                                                          \n",
      "2007-11-27   154.000000   207.000000   154.000000   191.800003   175.274445   \n",
      "2007-11-28   194.000000   197.800003   174.929993   177.000000   161.749634   \n",
      "2007-11-29   181.000000   182.800003   168.460007   177.399994   162.115128   \n",
      "2007-11-30   178.000000   191.399994   178.000000   185.800003   169.791397   \n",
      "2007-12-03   187.949997   198.860001   184.399994   196.000000   179.112579   \n",
      "...                 ...          ...          ...          ...          ...   \n",
      "2024-04-05  1367.000000  1381.900024  1357.349976  1375.550049  1375.550049   \n",
      "2024-04-08  1381.949951  1381.949951  1337.000000  1348.650024  1348.650024   \n",
      "2024-04-09  1356.150024  1364.900024  1346.099976  1356.500000  1356.500000   \n",
      "2024-04-10  1359.000000  1359.900024  1348.199951  1352.300049  1352.300049   \n",
      "2024-04-12  1350.000000  1358.400024  1341.000000  1344.199951  1344.199951   \n",
      "\n",
      "              Volume  \n",
      "Date                  \n",
      "2007-11-27  27262365  \n",
      "2007-11-28  21958915  \n",
      "2007-11-29  25616715  \n",
      "2007-11-30  23047035  \n",
      "2007-12-03  14578850  \n",
      "...              ...  \n",
      "2024-04-05   1853120  \n",
      "2024-04-08  14038860  \n",
      "2024-04-09   1935801  \n",
      "2024-04-10   3984001  \n",
      "2024-04-12   2183230  \n",
      "\n",
      "[4035 rows x 6 columns]\n",
      "TECHM.NS\n"
     ]
    },
    {
     "name": "stderr",
     "output_type": "stream",
     "text": [
      "[*********************100%%**********************]  1 of 1 completed\n"
     ]
    },
    {
     "name": "stdout",
     "output_type": "stream",
     "text": [
      "                   Open         High          Low        Close    Adj Close  \\\n",
      "Date                                                                          \n",
      "2007-11-27   154.000000   207.000000   154.000000   191.800003   175.274445   \n",
      "2007-11-28   194.000000   197.800003   174.929993   177.000000   161.749634   \n",
      "2007-11-29   181.000000   182.800003   168.460007   177.399994   162.115128   \n",
      "2007-11-30   178.000000   191.399994   178.000000   185.800003   169.791397   \n",
      "2007-12-03   187.949997   198.860001   184.399994   196.000000   179.112579   \n",
      "...                 ...          ...          ...          ...          ...   \n",
      "2024-04-05  1367.000000  1381.900024  1357.349976  1375.550049  1375.550049   \n",
      "2024-04-08  1381.949951  1381.949951  1337.000000  1348.650024  1348.650024   \n",
      "2024-04-09  1356.150024  1364.900024  1346.099976  1356.500000  1356.500000   \n",
      "2024-04-10  1359.000000  1359.900024  1348.199951  1352.300049  1352.300049   \n",
      "2024-04-12  1350.000000  1358.400024  1341.000000  1344.199951  1344.199951   \n",
      "\n",
      "              Volume  \n",
      "Date                  \n",
      "2007-11-27  27262365  \n",
      "2007-11-28  21958915  \n",
      "2007-11-29  25616715  \n",
      "2007-11-30  23047035  \n",
      "2007-12-03  14578850  \n",
      "...              ...  \n",
      "2024-04-05   1853120  \n",
      "2024-04-08  14038860  \n",
      "2024-04-09   1935801  \n",
      "2024-04-10   3984001  \n",
      "2024-04-12   2183230  \n",
      "\n",
      "[4035 rows x 6 columns]\n",
      "TITAN.NS\n"
     ]
    },
    {
     "name": "stderr",
     "output_type": "stream",
     "text": [
      "[*********************100%%**********************]  1 of 1 completed\n"
     ]
    },
    {
     "name": "stdout",
     "output_type": "stream",
     "text": [
      "                   Open         High          Low        Close    Adj Close  \\\n",
      "Date                                                                          \n",
      "2007-11-27   154.000000   207.000000   154.000000   191.800003   175.274445   \n",
      "2007-11-28   194.000000   197.800003   174.929993   177.000000   161.749634   \n",
      "2007-11-29   181.000000   182.800003   168.460007   177.399994   162.115128   \n",
      "2007-11-30   178.000000   191.399994   178.000000   185.800003   169.791397   \n",
      "2007-12-03   187.949997   198.860001   184.399994   196.000000   179.112579   \n",
      "...                 ...          ...          ...          ...          ...   \n",
      "2024-04-05  1367.000000  1381.900024  1357.349976  1375.550049  1375.550049   \n",
      "2024-04-08  1381.949951  1381.949951  1337.000000  1348.650024  1348.650024   \n",
      "2024-04-09  1356.150024  1364.900024  1346.099976  1356.500000  1356.500000   \n",
      "2024-04-10  1359.000000  1359.900024  1348.199951  1352.300049  1352.300049   \n",
      "2024-04-12  1350.000000  1358.400024  1341.000000  1344.199951  1344.199951   \n",
      "\n",
      "              Volume  \n",
      "Date                  \n",
      "2007-11-27  27262365  \n",
      "2007-11-28  21958915  \n",
      "2007-11-29  25616715  \n",
      "2007-11-30  23047035  \n",
      "2007-12-03  14578850  \n",
      "...              ...  \n",
      "2024-04-05   1853120  \n",
      "2024-04-08  14038860  \n",
      "2024-04-09   1935801  \n",
      "2024-04-10   3984001  \n",
      "2024-04-12   2183230  \n",
      "\n",
      "[4035 rows x 6 columns]\n",
      "ULTRACEMCO.NS\n"
     ]
    },
    {
     "name": "stderr",
     "output_type": "stream",
     "text": [
      "[*********************100%%**********************]  1 of 1 completed\n"
     ]
    },
    {
     "name": "stdout",
     "output_type": "stream",
     "text": [
      "                   Open         High          Low        Close    Adj Close  \\\n",
      "Date                                                                          \n",
      "2007-11-27   154.000000   207.000000   154.000000   191.800003   175.274445   \n",
      "2007-11-28   194.000000   197.800003   174.929993   177.000000   161.749634   \n",
      "2007-11-29   181.000000   182.800003   168.460007   177.399994   162.115128   \n",
      "2007-11-30   178.000000   191.399994   178.000000   185.800003   169.791397   \n",
      "2007-12-03   187.949997   198.860001   184.399994   196.000000   179.112579   \n",
      "...                 ...          ...          ...          ...          ...   \n",
      "2024-04-05  1367.000000  1381.900024  1357.349976  1375.550049  1375.550049   \n",
      "2024-04-08  1381.949951  1381.949951  1337.000000  1348.650024  1348.650024   \n",
      "2024-04-09  1356.150024  1364.900024  1346.099976  1356.500000  1356.500000   \n",
      "2024-04-10  1359.000000  1359.900024  1348.199951  1352.300049  1352.300049   \n",
      "2024-04-12  1350.000000  1358.400024  1341.000000  1344.199951  1344.199951   \n",
      "\n",
      "              Volume  \n",
      "Date                  \n",
      "2007-11-27  27262365  \n",
      "2007-11-28  21958915  \n",
      "2007-11-29  25616715  \n",
      "2007-11-30  23047035  \n",
      "2007-12-03  14578850  \n",
      "...              ...  \n",
      "2024-04-05   1853120  \n",
      "2024-04-08  14038860  \n",
      "2024-04-09   1935801  \n",
      "2024-04-10   3984001  \n",
      "2024-04-12   2183230  \n",
      "\n",
      "[4035 rows x 6 columns]\n",
      "WIPRO.NS\n"
     ]
    },
    {
     "name": "stderr",
     "output_type": "stream",
     "text": [
      "[*********************100%%**********************]  1 of 1 completed"
     ]
    },
    {
     "name": "stdout",
     "output_type": "stream",
     "text": [
      "                   Open         High          Low        Close    Adj Close  \\\n",
      "Date                                                                          \n",
      "2007-11-27   154.000000   207.000000   154.000000   191.800003   175.274445   \n",
      "2007-11-28   194.000000   197.800003   174.929993   177.000000   161.749634   \n",
      "2007-11-29   181.000000   182.800003   168.460007   177.399994   162.115128   \n",
      "2007-11-30   178.000000   191.399994   178.000000   185.800003   169.791397   \n",
      "2007-12-03   187.949997   198.860001   184.399994   196.000000   179.112579   \n",
      "...                 ...          ...          ...          ...          ...   \n",
      "2024-04-05  1367.000000  1381.900024  1357.349976  1375.550049  1375.550049   \n",
      "2024-04-08  1381.949951  1381.949951  1337.000000  1348.650024  1348.650024   \n",
      "2024-04-09  1356.150024  1364.900024  1346.099976  1356.500000  1356.500000   \n",
      "2024-04-10  1359.000000  1359.900024  1348.199951  1352.300049  1352.300049   \n",
      "2024-04-12  1350.000000  1358.400024  1341.000000  1344.199951  1344.199951   \n",
      "\n",
      "              Volume  \n",
      "Date                  \n",
      "2007-11-27  27262365  \n",
      "2007-11-28  21958915  \n",
      "2007-11-29  25616715  \n",
      "2007-11-30  23047035  \n",
      "2007-12-03  14578850  \n",
      "...              ...  \n",
      "2024-04-05   1853120  \n",
      "2024-04-08  14038860  \n",
      "2024-04-09   1935801  \n",
      "2024-04-10   3984001  \n",
      "2024-04-12   2183230  \n",
      "\n",
      "[4035 rows x 6 columns]\n"
     ]
    },
    {
     "name": "stderr",
     "output_type": "stream",
     "text": [
      "\n"
     ]
    }
   ],
   "source": [
    "import pickle\n",
    "import yfinance\n",
    "with open(\"nifty50tickers.pickle\",'rb') as f:\n",
    "    tickers=pickle.load(f)\n",
    "tickers_yahoo = [i +'.NS' for i in tickers]\n",
    "print(tickers_yahoo)\n",
    "matrixProfits=[]\n",
    "for ticker in tickers_yahoo:\n",
    "    print(ticker)\n",
    "    df = yfinance.download(ticker,group_by ='Ticker', start=\"2020-01-01\", end=None)  \n",
    "    print(data)\n",
    "    # df = taCalc(df)\n",
    "    # actualTrades = getactualTrades(df)\n",
    "    # relProfits = (df.loc[actualTrades.Selling_Dates].Open.values - df.loc[actualTrades.Buying_Dates].Open.values)/df.loc[actualTrades.Buying_Dates].Open.values\n",
    "    # matrixProfits.append(relProfits)"
   ]
  },
  {
   "cell_type": "code",
   "execution_count": null,
   "metadata": {},
   "outputs": [],
   "source": []
  }
 ],
 "metadata": {
  "kernelspec": {
   "display_name": "venv",
   "language": "python",
   "name": "python3"
  },
  "language_info": {
   "codemirror_mode": {
    "name": "ipython",
    "version": 3
   },
   "file_extension": ".py",
   "mimetype": "text/x-python",
   "name": "python",
   "nbconvert_exporter": "python",
   "pygments_lexer": "ipython3",
   "version": "3.11.2"
  }
 },
 "nbformat": 4,
 "nbformat_minor": 2
}
