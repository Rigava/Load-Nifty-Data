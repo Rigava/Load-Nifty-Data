{
 "cells": [
  {
   "cell_type": "markdown",
   "metadata": {},
   "source": [
    "https://www.youtube.com/watch?v=5bUn-D4eL4k"
   ]
  },
  {
   "cell_type": "markdown",
   "metadata": {},
   "source": [
    "### Create your own Finance DataBase with Python & SQL [perfect for backtesting trading strategies]"
   ]
  },
  {
   "cell_type": "code",
   "execution_count": 38,
   "metadata": {},
   "outputs": [],
   "source": [
    "import sqlite3\n",
    "import sqlalchemy\n",
    "import pandas as pd\n",
    "import yfinance as yf"
   ]
  },
  {
   "cell_type": "markdown",
   "metadata": {},
   "source": [
    "### Create symbols for the India and US market"
   ]
  },
  {
   "cell_type": "code",
   "execution_count": 39,
   "metadata": {},
   "outputs": [],
   "source": [
    "wiki = 'https://en.wikipedia.org/wiki/'\n",
    "tickerSensex = pd.read_html(wiki + 'BSE_SENSEX')[1].Symbol.to_list()\n",
    "tickerDow = pd.read_html(wiki + 'Dow_Jones_Industrial_average')[1].Symbol.to_list()"
   ]
  },
  {
   "cell_type": "markdown",
   "metadata": {},
   "source": [
    "### Create data frame for india and us market"
   ]
  },
  {
   "cell_type": "code",
   "execution_count": null,
   "metadata": {},
   "outputs": [],
   "source": [
    "def getdata(tickers):\n",
    "    data=[]\n",
    "    for ticker in tickers:\n",
    "        data.append(yf.download(ticker).reset_index())\n",
    "    return data"
   ]
  },
  {
   "cell_type": "code",
   "execution_count": 41,
   "metadata": {},
   "outputs": [
    {
     "name": "stderr",
     "output_type": "stream",
     "text": [
      "[*********************100%%**********************]  1 of 1 completed\n",
      "[*********************100%%**********************]  1 of 1 completed\n",
      "[*********************100%%**********************]  1 of 1 completed\n",
      "[*********************100%%**********************]  1 of 1 completed\n",
      "[*********************100%%**********************]  1 of 1 completed\n",
      "[*********************100%%**********************]  1 of 1 completed\n",
      "[*********************100%%**********************]  1 of 1 completed\n",
      "[*********************100%%**********************]  1 of 1 completed\n",
      "[*********************100%%**********************]  1 of 1 completed\n",
      "[*********************100%%**********************]  1 of 1 completed\n",
      "[*********************100%%**********************]  1 of 1 completed\n",
      "[*********************100%%**********************]  1 of 1 completed\n",
      "[*********************100%%**********************]  1 of 1 completed\n",
      "[*********************100%%**********************]  1 of 1 completed\n",
      "[*********************100%%**********************]  1 of 1 completed\n",
      "[*********************100%%**********************]  1 of 1 completed\n",
      "[*********************100%%**********************]  1 of 1 completed\n",
      "[*********************100%%**********************]  1 of 1 completed\n",
      "[*********************100%%**********************]  1 of 1 completed\n",
      "[*********************100%%**********************]  1 of 1 completed\n",
      "[*********************100%%**********************]  1 of 1 completed\n",
      "[*********************100%%**********************]  1 of 1 completed\n",
      "[*********************100%%**********************]  1 of 1 completed\n",
      "[*********************100%%**********************]  1 of 1 completed\n",
      "[*********************100%%**********************]  1 of 1 completed\n",
      "[*********************100%%**********************]  1 of 1 completed\n",
      "[*********************100%%**********************]  1 of 1 completed\n",
      "[*********************100%%**********************]  1 of 1 completed\n",
      "[*********************100%%**********************]  1 of 1 completed\n",
      "[*********************100%%**********************]  1 of 1 completed\n",
      "[*********************100%%**********************]  1 of 1 completed\n",
      "[*********************100%%**********************]  1 of 1 completed\n",
      "[*********************100%%**********************]  1 of 1 completed\n",
      "[*********************100%%**********************]  1 of 1 completed\n",
      "[*********************100%%**********************]  1 of 1 completed\n",
      "[*********************100%%**********************]  1 of 1 completed\n",
      "[*********************100%%**********************]  1 of 1 completed\n",
      "[*********************100%%**********************]  1 of 1 completed\n",
      "[*********************100%%**********************]  1 of 1 completed\n",
      "[*********************100%%**********************]  1 of 1 completed\n",
      "[*********************100%%**********************]  1 of 1 completed\n",
      "[*********************100%%**********************]  1 of 1 completed\n",
      "[*********************100%%**********************]  1 of 1 completed\n",
      "[*********************100%%**********************]  1 of 1 completed\n",
      "[*********************100%%**********************]  1 of 1 completed\n",
      "[*********************100%%**********************]  1 of 1 completed\n",
      "[*********************100%%**********************]  1 of 1 completed\n",
      "[*********************100%%**********************]  1 of 1 completed\n",
      "[*********************100%%**********************]  1 of 1 completed\n",
      "[*********************100%%**********************]  1 of 1 completed\n",
      "[*********************100%%**********************]  1 of 1 completed\n",
      "[*********************100%%**********************]  1 of 1 completed\n",
      "[*********************100%%**********************]  1 of 1 completed\n",
      "[*********************100%%**********************]  1 of 1 completed\n",
      "[*********************100%%**********************]  1 of 1 completed\n",
      "[*********************100%%**********************]  1 of 1 completed\n",
      "[*********************100%%**********************]  1 of 1 completed\n",
      "[*********************100%%**********************]  1 of 1 completed\n",
      "[*********************100%%**********************]  1 of 1 completed\n",
      "[*********************100%%**********************]  1 of 1 completed\n"
     ]
    }
   ],
   "source": [
    "India, US = getdata(tickerSensex),getdata(tickerDow) "
   ]
  },
  {
   "cell_type": "markdown",
   "metadata": {},
   "source": [
    "### Create Engine for India and US market"
   ]
  },
  {
   "cell_type": "code",
   "execution_count": 42,
   "metadata": {},
   "outputs": [],
   "source": [
    "def createengine(name):\n",
    "    engine = sqlalchemy.create_engine('sqlite:///'+name)\n",
    "    return engine"
   ]
  },
  {
   "cell_type": "code",
   "execution_count": 46,
   "metadata": {},
   "outputs": [],
   "source": [
    "Indiaengine, USengine = createengine('India1'),createengine('USA')"
   ]
  },
  {
   "cell_type": "code",
   "execution_count": 47,
   "metadata": {},
   "outputs": [],
   "source": [
    "def TOSQL ( frames, symbols, engine):\n",
    "    for frame, symbol in zip(frames,symbols):\n",
    "        frame.to_sql(symbol,engine,index=False)\n",
    "    print('Successfully imported data')\n",
    "    "
   ]
  },
  {
   "cell_type": "code",
   "execution_count": 48,
   "metadata": {},
   "outputs": [
    {
     "name": "stdout",
     "output_type": "stream",
     "text": [
      "Successfully imported data\n"
     ]
    }
   ],
   "source": [
    "TOSQL(India,tickerSensex,Indiaengine)"
   ]
  },
  {
   "cell_type": "code",
   "execution_count": 49,
   "metadata": {},
   "outputs": [
    {
     "name": "stdout",
     "output_type": "stream",
     "text": [
      "Successfully imported data\n"
     ]
    }
   ],
   "source": [
    "TOSQL(US,tickerDow,USengine)"
   ]
  },
  {
   "cell_type": "code",
   "execution_count": 50,
   "metadata": {},
   "outputs": [
    {
     "data": {
      "text/html": [
       "<div>\n",
       "<style scoped>\n",
       "    .dataframe tbody tr th:only-of-type {\n",
       "        vertical-align: middle;\n",
       "    }\n",
       "\n",
       "    .dataframe tbody tr th {\n",
       "        vertical-align: top;\n",
       "    }\n",
       "\n",
       "    .dataframe thead th {\n",
       "        text-align: right;\n",
       "    }\n",
       "</style>\n",
       "<table border=\"1\" class=\"dataframe\">\n",
       "  <thead>\n",
       "    <tr style=\"text-align: right;\">\n",
       "      <th></th>\n",
       "      <th>Date</th>\n",
       "      <th>Open</th>\n",
       "      <th>High</th>\n",
       "      <th>Low</th>\n",
       "      <th>Close</th>\n",
       "      <th>Adj Close</th>\n",
       "      <th>Volume</th>\n",
       "    </tr>\n",
       "  </thead>\n",
       "  <tbody>\n",
       "    <tr>\n",
       "      <th>0</th>\n",
       "      <td>2000-01-03 00:00:00.000000</td>\n",
       "      <td>27.066631</td>\n",
       "      <td>27.066631</td>\n",
       "      <td>27.066631</td>\n",
       "      <td>27.066631</td>\n",
       "      <td>1.038096</td>\n",
       "      <td>0</td>\n",
       "    </tr>\n",
       "    <tr>\n",
       "      <th>1</th>\n",
       "      <td>2000-01-04 00:00:00.000000</td>\n",
       "      <td>27.066631</td>\n",
       "      <td>27.066631</td>\n",
       "      <td>27.066631</td>\n",
       "      <td>27.066631</td>\n",
       "      <td>1.038096</td>\n",
       "      <td>0</td>\n",
       "    </tr>\n",
       "    <tr>\n",
       "      <th>2</th>\n",
       "      <td>2000-01-05 00:00:00.000000</td>\n",
       "      <td>27.066631</td>\n",
       "      <td>27.066631</td>\n",
       "      <td>27.066631</td>\n",
       "      <td>27.066631</td>\n",
       "      <td>1.038096</td>\n",
       "      <td>0</td>\n",
       "    </tr>\n",
       "    <tr>\n",
       "      <th>3</th>\n",
       "      <td>2000-01-06 00:00:00.000000</td>\n",
       "      <td>27.066631</td>\n",
       "      <td>27.066631</td>\n",
       "      <td>27.066631</td>\n",
       "      <td>27.066631</td>\n",
       "      <td>1.038096</td>\n",
       "      <td>0</td>\n",
       "    </tr>\n",
       "    <tr>\n",
       "      <th>4</th>\n",
       "      <td>2000-01-07 00:00:00.000000</td>\n",
       "      <td>27.066631</td>\n",
       "      <td>27.066631</td>\n",
       "      <td>27.066631</td>\n",
       "      <td>27.066631</td>\n",
       "      <td>1.038096</td>\n",
       "      <td>0</td>\n",
       "    </tr>\n",
       "    <tr>\n",
       "      <th>...</th>\n",
       "      <td>...</td>\n",
       "      <td>...</td>\n",
       "      <td>...</td>\n",
       "      <td>...</td>\n",
       "      <td>...</td>\n",
       "      <td>...</td>\n",
       "      <td>...</td>\n",
       "    </tr>\n",
       "    <tr>\n",
       "      <th>6073</th>\n",
       "      <td>2024-06-14 00:00:00.000000</td>\n",
       "      <td>2910.000000</td>\n",
       "      <td>2931.000000</td>\n",
       "      <td>2905.000000</td>\n",
       "      <td>2920.199951</td>\n",
       "      <td>2920.199951</td>\n",
       "      <td>50240</td>\n",
       "    </tr>\n",
       "    <tr>\n",
       "      <th>6074</th>\n",
       "      <td>2024-06-18 00:00:00.000000</td>\n",
       "      <td>2920.199951</td>\n",
       "      <td>2930.000000</td>\n",
       "      <td>2905.649902</td>\n",
       "      <td>2917.800049</td>\n",
       "      <td>2917.800049</td>\n",
       "      <td>18094</td>\n",
       "    </tr>\n",
       "    <tr>\n",
       "      <th>6075</th>\n",
       "      <td>2024-06-19 00:00:00.000000</td>\n",
       "      <td>2920.000000</td>\n",
       "      <td>2921.449951</td>\n",
       "      <td>2883.250000</td>\n",
       "      <td>2892.649902</td>\n",
       "      <td>2892.649902</td>\n",
       "      <td>107404</td>\n",
       "    </tr>\n",
       "    <tr>\n",
       "      <th>6076</th>\n",
       "      <td>2024-06-20 00:00:00.000000</td>\n",
       "      <td>2892.600098</td>\n",
       "      <td>2923.250000</td>\n",
       "      <td>2875.050049</td>\n",
       "      <td>2915.100098</td>\n",
       "      <td>2915.100098</td>\n",
       "      <td>61142</td>\n",
       "    </tr>\n",
       "    <tr>\n",
       "      <th>6077</th>\n",
       "      <td>2024-06-21 00:00:00.000000</td>\n",
       "      <td>2920.350098</td>\n",
       "      <td>2926.149902</td>\n",
       "      <td>2882.100098</td>\n",
       "      <td>2888.050049</td>\n",
       "      <td>2888.050049</td>\n",
       "      <td>13468</td>\n",
       "    </tr>\n",
       "  </tbody>\n",
       "</table>\n",
       "<p>6078 rows × 7 columns</p>\n",
       "</div>"
      ],
      "text/plain": [
       "                            Date         Open         High          Low  \\\n",
       "0     2000-01-03 00:00:00.000000    27.066631    27.066631    27.066631   \n",
       "1     2000-01-04 00:00:00.000000    27.066631    27.066631    27.066631   \n",
       "2     2000-01-05 00:00:00.000000    27.066631    27.066631    27.066631   \n",
       "3     2000-01-06 00:00:00.000000    27.066631    27.066631    27.066631   \n",
       "4     2000-01-07 00:00:00.000000    27.066631    27.066631    27.066631   \n",
       "...                          ...          ...          ...          ...   \n",
       "6073  2024-06-14 00:00:00.000000  2910.000000  2931.000000  2905.000000   \n",
       "6074  2024-06-18 00:00:00.000000  2920.199951  2930.000000  2905.649902   \n",
       "6075  2024-06-19 00:00:00.000000  2920.000000  2921.449951  2883.250000   \n",
       "6076  2024-06-20 00:00:00.000000  2892.600098  2923.250000  2875.050049   \n",
       "6077  2024-06-21 00:00:00.000000  2920.350098  2926.149902  2882.100098   \n",
       "\n",
       "            Close    Adj Close  Volume  \n",
       "0       27.066631     1.038096       0  \n",
       "1       27.066631     1.038096       0  \n",
       "2       27.066631     1.038096       0  \n",
       "3       27.066631     1.038096       0  \n",
       "4       27.066631     1.038096       0  \n",
       "...           ...          ...     ...  \n",
       "6073  2920.199951  2920.199951   50240  \n",
       "6074  2917.800049  2917.800049   18094  \n",
       "6075  2892.649902  2892.649902  107404  \n",
       "6076  2915.100098  2915.100098   61142  \n",
       "6077  2888.050049  2888.050049   13468  \n",
       "\n",
       "[6078 rows x 7 columns]"
      ]
     },
     "execution_count": 50,
     "metadata": {},
     "output_type": "execute_result"
    }
   ],
   "source": [
    "from sqlalchemy import text\n",
    "with Indiaengine.begin() as conn:\n",
    "    query = text('Select * from \"ASIANPAINT.BO\"')\n",
    "    df= pd.read_sql(query,conn)\n",
    "df"
   ]
  },
  {
   "cell_type": "code",
   "execution_count": 51,
   "metadata": {},
   "outputs": [
    {
     "data": {
      "text/html": [
       "<div>\n",
       "<style scoped>\n",
       "    .dataframe tbody tr th:only-of-type {\n",
       "        vertical-align: middle;\n",
       "    }\n",
       "\n",
       "    .dataframe tbody tr th {\n",
       "        vertical-align: top;\n",
       "    }\n",
       "\n",
       "    .dataframe thead th {\n",
       "        text-align: right;\n",
       "    }\n",
       "</style>\n",
       "<table border=\"1\" class=\"dataframe\">\n",
       "  <thead>\n",
       "    <tr style=\"text-align: right;\">\n",
       "      <th></th>\n",
       "      <th>Date</th>\n",
       "      <th>Open</th>\n",
       "      <th>High</th>\n",
       "      <th>Low</th>\n",
       "      <th>Close</th>\n",
       "      <th>Adj Close</th>\n",
       "      <th>Volume</th>\n",
       "    </tr>\n",
       "  </thead>\n",
       "  <tbody>\n",
       "    <tr>\n",
       "      <th>0</th>\n",
       "      <td>2004-11-22 00:00:00.000000</td>\n",
       "      <td>61.458088</td>\n",
       "      <td>63.958076</td>\n",
       "      <td>59.999760</td>\n",
       "      <td>61.958084</td>\n",
       "      <td>38.775513</td>\n",
       "      <td>14953967</td>\n",
       "    </tr>\n",
       "    <tr>\n",
       "      <th>1</th>\n",
       "      <td>2004-11-23 00:00:00.000000</td>\n",
       "      <td>62.458084</td>\n",
       "      <td>63.708076</td>\n",
       "      <td>62.333084</td>\n",
       "      <td>63.166412</td>\n",
       "      <td>39.531727</td>\n",
       "      <td>11743639</td>\n",
       "    </tr>\n",
       "    <tr>\n",
       "      <th>2</th>\n",
       "      <td>2004-11-24 00:00:00.000000</td>\n",
       "      <td>63.624744</td>\n",
       "      <td>64.958076</td>\n",
       "      <td>63.499744</td>\n",
       "      <td>64.791405</td>\n",
       "      <td>40.548698</td>\n",
       "      <td>11754266</td>\n",
       "    </tr>\n",
       "    <tr>\n",
       "      <th>3</th>\n",
       "      <td>2004-11-30 00:00:00.000000</td>\n",
       "      <td>64.749741</td>\n",
       "      <td>66.416405</td>\n",
       "      <td>64.083076</td>\n",
       "      <td>65.958069</td>\n",
       "      <td>41.278835</td>\n",
       "      <td>18826971</td>\n",
       "    </tr>\n",
       "    <tr>\n",
       "      <th>4</th>\n",
       "      <td>2004-12-02 00:00:00.000000</td>\n",
       "      <td>66.749733</td>\n",
       "      <td>67.833061</td>\n",
       "      <td>66.541397</td>\n",
       "      <td>67.041397</td>\n",
       "      <td>41.956825</td>\n",
       "      <td>8370320</td>\n",
       "    </tr>\n",
       "    <tr>\n",
       "      <th>...</th>\n",
       "      <td>...</td>\n",
       "      <td>...</td>\n",
       "      <td>...</td>\n",
       "      <td>...</td>\n",
       "      <td>...</td>\n",
       "      <td>...</td>\n",
       "      <td>...</td>\n",
       "    </tr>\n",
       "    <tr>\n",
       "      <th>2090</th>\n",
       "      <td>2024-05-29 00:00:00.000000</td>\n",
       "      <td>362.200012</td>\n",
       "      <td>366.350006</td>\n",
       "      <td>360.049988</td>\n",
       "      <td>364.600006</td>\n",
       "      <td>364.600006</td>\n",
       "      <td>269818</td>\n",
       "    </tr>\n",
       "    <tr>\n",
       "      <th>2091</th>\n",
       "      <td>2024-06-03 00:00:00.000000</td>\n",
       "      <td>384.100006</td>\n",
       "      <td>393.750000</td>\n",
       "      <td>374.000000</td>\n",
       "      <td>391.950012</td>\n",
       "      <td>391.950012</td>\n",
       "      <td>1272716</td>\n",
       "    </tr>\n",
       "    <tr>\n",
       "      <th>2092</th>\n",
       "      <td>2024-06-06 00:00:00.000000</td>\n",
       "      <td>348.299988</td>\n",
       "      <td>359.799988</td>\n",
       "      <td>345.100006</td>\n",
       "      <td>350.000000</td>\n",
       "      <td>350.000000</td>\n",
       "      <td>834571</td>\n",
       "    </tr>\n",
       "    <tr>\n",
       "      <th>2093</th>\n",
       "      <td>2024-06-07 00:00:00.000000</td>\n",
       "      <td>352.399994</td>\n",
       "      <td>362.149994</td>\n",
       "      <td>347.649994</td>\n",
       "      <td>360.700012</td>\n",
       "      <td>360.700012</td>\n",
       "      <td>1901927</td>\n",
       "    </tr>\n",
       "    <tr>\n",
       "      <th>2094</th>\n",
       "      <td>2024-06-12 00:00:00.000000</td>\n",
       "      <td>369.950012</td>\n",
       "      <td>373.950012</td>\n",
       "      <td>365.250000</td>\n",
       "      <td>371.350006</td>\n",
       "      <td>371.350006</td>\n",
       "      <td>642791</td>\n",
       "    </tr>\n",
       "  </tbody>\n",
       "</table>\n",
       "<p>2095 rows × 7 columns</p>\n",
       "</div>"
      ],
      "text/plain": [
       "                            Date        Open        High         Low  \\\n",
       "0     2004-11-22 00:00:00.000000   61.458088   63.958076   59.999760   \n",
       "1     2004-11-23 00:00:00.000000   62.458084   63.708076   62.333084   \n",
       "2     2004-11-24 00:00:00.000000   63.624744   64.958076   63.499744   \n",
       "3     2004-11-30 00:00:00.000000   64.749741   66.416405   64.083076   \n",
       "4     2004-12-02 00:00:00.000000   66.749733   67.833061   66.541397   \n",
       "...                          ...         ...         ...         ...   \n",
       "2090  2024-05-29 00:00:00.000000  362.200012  366.350006  360.049988   \n",
       "2091  2024-06-03 00:00:00.000000  384.100006  393.750000  374.000000   \n",
       "2092  2024-06-06 00:00:00.000000  348.299988  359.799988  345.100006   \n",
       "2093  2024-06-07 00:00:00.000000  352.399994  362.149994  347.649994   \n",
       "2094  2024-06-12 00:00:00.000000  369.950012  373.950012  365.250000   \n",
       "\n",
       "           Close   Adj Close    Volume  \n",
       "0      61.958084   38.775513  14953967  \n",
       "1      63.166412   39.531727  11743639  \n",
       "2      64.791405   40.548698  11754266  \n",
       "3      65.958069   41.278835  18826971  \n",
       "4      67.041397   41.956825   8370320  \n",
       "...          ...         ...       ...  \n",
       "2090  364.600006  364.600006    269818  \n",
       "2091  391.950012  391.950012   1272716  \n",
       "2092  350.000000  350.000000    834571  \n",
       "2093  360.700012  360.700012   1901927  \n",
       "2094  371.350006  371.350006    642791  \n",
       "\n",
       "[2095 rows x 7 columns]"
      ]
     },
     "execution_count": 51,
     "metadata": {},
     "output_type": "execute_result"
    }
   ],
   "source": [
    "from sqlalchemy import text\n",
    "with Indiaengine.begin() as conn:\n",
    "    query = text('Select * from \"NTPC.BO\" WHERE Close>Open')\n",
    "    df= pd.read_sql(query,conn)\n",
    "df"
   ]
  },
  {
   "cell_type": "markdown",
   "metadata": {},
   "source": [
    "### Simple Stock Recommendation System based on Technical Trading Indicators (ta) using Python & SQL"
   ]
  },
  {
   "cell_type": "code",
   "execution_count": 52,
   "metadata": {},
   "outputs": [
    {
     "data": {
      "text/plain": [
       "['ASIANPAINT.BO',\n",
       " 'AXISBANK.BO',\n",
       " 'BAJFINANCE.BO',\n",
       " 'BAJAJFINSV.BO',\n",
       " 'BHARTIARTL.BO',\n",
       " 'HCLTECH.BO',\n",
       " 'HDFCBANK.BO',\n",
       " 'HINDUNILVR.BO',\n",
       " 'ICICIBANK.BO',\n",
       " 'INDUSINDBK.BO',\n",
       " 'INFY.BO',\n",
       " 'ITC.BO',\n",
       " 'JSWSTEEL.BO',\n",
       " 'KOTAKBANK.BO',\n",
       " 'LT.BO',\n",
       " 'M&M.BO',\n",
       " 'MARUTI.BO',\n",
       " 'NESTLEIND.BO',\n",
       " 'NTPC.BO',\n",
       " 'POWERGRID.BO',\n",
       " 'RELIANCE.BO',\n",
       " 'SBIN.BO',\n",
       " 'SUNPHARMA.BO',\n",
       " 'TCS.BO',\n",
       " 'TATAMOTORS.BO',\n",
       " 'TATASTEEL.BO',\n",
       " 'TECHM.BO',\n",
       " 'TITAN.BO',\n",
       " 'ULTRACEMCO.BO',\n",
       " 'WIPRO.BO']"
      ]
     },
     "execution_count": 52,
     "metadata": {},
     "output_type": "execute_result"
    }
   ],
   "source": [
    "with Indiaengine.begin() as conn:\n",
    "    query = text('Select name from sqlite_master where type=\"table\"')\n",
    "    names= pd.read_sql(query,conn)\n",
    "names=names.name.to_list()\n",
    "names"
   ]
  },
  {
   "cell_type": "code",
   "execution_count": 53,
   "metadata": {},
   "outputs": [
    {
     "data": {
      "text/html": [
       "<div>\n",
       "<style scoped>\n",
       "    .dataframe tbody tr th:only-of-type {\n",
       "        vertical-align: middle;\n",
       "    }\n",
       "\n",
       "    .dataframe tbody tr th {\n",
       "        vertical-align: top;\n",
       "    }\n",
       "\n",
       "    .dataframe thead th {\n",
       "        text-align: right;\n",
       "    }\n",
       "</style>\n",
       "<table border=\"1\" class=\"dataframe\">\n",
       "  <thead>\n",
       "    <tr style=\"text-align: right;\">\n",
       "      <th></th>\n",
       "      <th>Date</th>\n",
       "      <th>Close</th>\n",
       "    </tr>\n",
       "  </thead>\n",
       "  <tbody>\n",
       "    <tr>\n",
       "      <th>0</th>\n",
       "      <td>2000-01-03 00:00:00.000000</td>\n",
       "      <td>27.066631</td>\n",
       "    </tr>\n",
       "    <tr>\n",
       "      <th>1</th>\n",
       "      <td>2000-01-04 00:00:00.000000</td>\n",
       "      <td>27.066631</td>\n",
       "    </tr>\n",
       "    <tr>\n",
       "      <th>2</th>\n",
       "      <td>2000-01-05 00:00:00.000000</td>\n",
       "      <td>27.066631</td>\n",
       "    </tr>\n",
       "    <tr>\n",
       "      <th>3</th>\n",
       "      <td>2000-01-06 00:00:00.000000</td>\n",
       "      <td>27.066631</td>\n",
       "    </tr>\n",
       "    <tr>\n",
       "      <th>4</th>\n",
       "      <td>2000-01-07 00:00:00.000000</td>\n",
       "      <td>27.066631</td>\n",
       "    </tr>\n",
       "    <tr>\n",
       "      <th>...</th>\n",
       "      <td>...</td>\n",
       "      <td>...</td>\n",
       "    </tr>\n",
       "    <tr>\n",
       "      <th>6073</th>\n",
       "      <td>2024-06-14 00:00:00.000000</td>\n",
       "      <td>2920.199951</td>\n",
       "    </tr>\n",
       "    <tr>\n",
       "      <th>6074</th>\n",
       "      <td>2024-06-18 00:00:00.000000</td>\n",
       "      <td>2917.800049</td>\n",
       "    </tr>\n",
       "    <tr>\n",
       "      <th>6075</th>\n",
       "      <td>2024-06-19 00:00:00.000000</td>\n",
       "      <td>2892.649902</td>\n",
       "    </tr>\n",
       "    <tr>\n",
       "      <th>6076</th>\n",
       "      <td>2024-06-20 00:00:00.000000</td>\n",
       "      <td>2915.100098</td>\n",
       "    </tr>\n",
       "    <tr>\n",
       "      <th>6077</th>\n",
       "      <td>2024-06-21 00:00:00.000000</td>\n",
       "      <td>2888.050049</td>\n",
       "    </tr>\n",
       "  </tbody>\n",
       "</table>\n",
       "<p>6078 rows × 2 columns</p>\n",
       "</div>"
      ],
      "text/plain": [
       "                            Date        Close\n",
       "0     2000-01-03 00:00:00.000000    27.066631\n",
       "1     2000-01-04 00:00:00.000000    27.066631\n",
       "2     2000-01-05 00:00:00.000000    27.066631\n",
       "3     2000-01-06 00:00:00.000000    27.066631\n",
       "4     2000-01-07 00:00:00.000000    27.066631\n",
       "...                          ...          ...\n",
       "6073  2024-06-14 00:00:00.000000  2920.199951\n",
       "6074  2024-06-18 00:00:00.000000  2917.800049\n",
       "6075  2024-06-19 00:00:00.000000  2892.649902\n",
       "6076  2024-06-20 00:00:00.000000  2915.100098\n",
       "6077  2024-06-21 00:00:00.000000  2888.050049\n",
       "\n",
       "[6078 rows x 2 columns]"
      ]
     },
     "execution_count": 53,
     "metadata": {},
     "output_type": "execute_result"
    }
   ],
   "source": [
    "framelist=[]\n",
    "for name in names:\n",
    "    with Indiaengine.begin() as conn:\n",
    "        query = text(f'select Date,Close From \"{name}\"')\n",
    "        dfs=pd.read_sql(query,conn)\n",
    "        framelist.append(dfs)\n",
    "framelist[0]"
   ]
  },
  {
   "cell_type": "markdown",
   "metadata": {},
   "source": [
    "### Make function to determine decission"
   ]
  },
  {
   "cell_type": "markdown",
   "metadata": {},
   "source": [
    "#### MACD decision"
   ]
  },
  {
   "cell_type": "code",
   "execution_count": 63,
   "metadata": {},
   "outputs": [],
   "source": [
    "def MACDSignal(df):\n",
    "    df['EMA12']= df.Close.ewm(span=12).mean()\n",
    "    df['EMA26']= df.Close.ewm(span=26).mean()\n",
    "    df['MACD'] = df.EMA12 - df.EMA26\n",
    "    df['Signal'] = df.MACD.ewm(span=9).mean()\n",
    "    df['MACD_diff']=df.MACD - df.Signal\n",
    "    print('indicators added')\n",
    "    #If the difference is Above zero then MACD is above signal line and also if the previous day the difference was below zero then its a Buy\n",
    "    df.loc[(df['MACD_diff']>0) & (df.MACD_diff.shift(1)<0),'Decision MACD']='Buy'\n",
    "    df.loc[(df['MACD_diff']<0) & (df.MACD_diff.shift(1)>0),'Decision MACD']='Sell'"
   ]
  },
  {
   "cell_type": "markdown",
   "metadata": {},
   "source": [
    "#### RSI decision"
   ]
  },
  {
   "cell_type": "code",
   "execution_count": 64,
   "metadata": {},
   "outputs": [],
   "source": [
    "import pandas_ta as ta\n",
    "def RSI_SMASignal(df):\n",
    "    df['RSI']=ta.rsi(df['Close'],length=10).round(1)\n",
    "    df['SMA200'] = ta.sma(df.Close,lenght=200)\n",
    "    df.loc[(df.Close>df.SMA200) & (df.RSI<30),'Decision RSI/SMA']='Buy'\n",
    "    df.loc[(df.Close>df.SMA200) & (df.RSI>70),'Decision RSI/SMA']='Sell'\n"
   ]
  },
  {
   "cell_type": "markdown",
   "metadata": {},
   "source": [
    "#### Golden crossover decision"
   ]
  },
  {
   "cell_type": "code",
   "execution_count": 75,
   "metadata": {},
   "outputs": [],
   "source": [
    "import numpy as np\n",
    "def GCSignal(df):\n",
    "    df['SMA50']=ta.sma(df.Close,length=50)\n",
    "    df['SMA200'] = ta.sma(df.Close,length=200)\n",
    "    df['buySignal']=np.where(df.SMA50>df.SMA200,1,0)\n",
    "    df['sellSignal']=np.where(df.SMA50<df.SMA200,1,0)\n",
    "    df['Decision Buy GC']= df.buySignal.diff()\n",
    "    df['Decision Sell GC']= df.sellSignal.diff()"
   ]
  },
  {
   "cell_type": "markdown",
   "metadata": {},
   "source": [
    "### Loop over the stock universe of Sensex to determine the signals"
   ]
  },
  {
   "cell_type": "code",
   "execution_count": 73,
   "metadata": {},
   "outputs": [
    {
     "name": "stdout",
     "output_type": "stream",
     "text": [
      "indicators added\n",
      "indicators added\n",
      "indicators added\n",
      "indicators added\n",
      "indicators added\n",
      "indicators added\n",
      "indicators added\n",
      "indicators added\n",
      "indicators added\n",
      "indicators added\n",
      "indicators added\n",
      "indicators added\n",
      "indicators added\n",
      "indicators added\n",
      "indicators added\n",
      "indicators added\n",
      "indicators added\n",
      "indicators added\n",
      "indicators added\n",
      "indicators added\n",
      "indicators added\n",
      "indicators added\n",
      "indicators added\n",
      "indicators added\n",
      "indicators added\n",
      "indicators added\n",
      "indicators added\n",
      "indicators added\n",
      "indicators added\n",
      "indicators added\n"
     ]
    }
   ],
   "source": [
    "for frame in framelist:\n",
    "    MACDSignal(frame)\n",
    "    RSI_SMASignal(frame)\n",
    "    GCSignal(frame)"
   ]
  },
  {
   "cell_type": "code",
   "execution_count": 67,
   "metadata": {},
   "outputs": [
    {
     "name": "stdout",
     "output_type": "stream",
     "text": [
      "Buy Signal with MACD for LT.BO\n",
      "Buy Signal with MACD for M&M.BO\n"
     ]
    }
   ],
   "source": [
    "for name, frame in zip(names, framelist):\n",
    "    if frame['Decision MACD'].iloc[-1]=='Sell':\n",
    "        print(\"Buy Signal with MACD for \"+name)\n",
    "        "
   ]
  },
  {
   "cell_type": "code",
   "execution_count": 68,
   "metadata": {},
   "outputs": [],
   "source": [
    "for name, frame in zip(names, framelist):\n",
    "    if frame['Decision RSI/SMA'].iloc[-1]=='Sell':\n",
    "        print(\"Buy Signal with RSI for \"+name)"
   ]
  },
  {
   "cell_type": "code",
   "execution_count": 74,
   "metadata": {},
   "outputs": [
    {
     "name": "stdout",
     "output_type": "stream",
     "text": [
      "Sell Signal with Golden crossover for TATAMOTORS.BO\n",
      "Sell Signal with Golden crossover for TITAN.BO\n"
     ]
    }
   ],
   "source": [
    "for name, frame in zip(names, framelist):\n",
    "    if frame['Decision Sell GC'].iloc[-1]==1:\n",
    "        print(\"Sell Signal with Golden crossover for \"+name)"
   ]
  },
  {
   "cell_type": "markdown",
   "metadata": {},
   "source": [
    "### To update the database on Daily basis"
   ]
  },
  {
   "cell_type": "code",
   "execution_count": 34,
   "metadata": {},
   "outputs": [
    {
     "name": "stderr",
     "output_type": "stream",
     "text": [
      "[*********************100%%**********************]  1 of 1 completed\n",
      "[*********************100%%**********************]  1 of 1 completed\n",
      "[*********************100%%**********************]  1 of 1 completed\n",
      "[*********************100%%**********************]  1 of 1 completed\n",
      "[*********************100%%**********************]  1 of 1 completed\n",
      "[*********************100%%**********************]  1 of 1 completed\n",
      "[*********************100%%**********************]  1 of 1 completed\n",
      "[*********************100%%**********************]  1 of 1 completed\n",
      "[*********************100%%**********************]  1 of 1 completed\n",
      "[*********************100%%**********************]  1 of 1 completed\n",
      "[*********************100%%**********************]  1 of 1 completed\n",
      "[*********************100%%**********************]  1 of 1 completed\n",
      "[*********************100%%**********************]  1 of 1 completed\n",
      "[*********************100%%**********************]  1 of 1 completed\n",
      "[*********************100%%**********************]  1 of 1 completed\n",
      "[*********************100%%**********************]  1 of 1 completed\n",
      "[*********************100%%**********************]  1 of 1 completed\n",
      "[*********************100%%**********************]  1 of 1 completed\n",
      "[*********************100%%**********************]  1 of 1 completed\n",
      "[*********************100%%**********************]  1 of 1 completed\n",
      "[*********************100%%**********************]  1 of 1 completed\n",
      "[*********************100%%**********************]  1 of 1 completed\n",
      "[*********************100%%**********************]  1 of 1 completed\n",
      "[*********************100%%**********************]  1 of 1 completed\n",
      "[*********************100%%**********************]  1 of 1 completed\n",
      "[*********************100%%**********************]  1 of 1 completed\n",
      "[*********************100%%**********************]  1 of 1 completed\n",
      "[*********************100%%**********************]  1 of 1 completed\n",
      "[*********************100%%**********************]  1 of 1 completed\n",
      "[*********************100%%**********************]  1 of 1 completed\n"
     ]
    }
   ],
   "source": [
    "import datetime as dt\n",
    "for name in names:\n",
    "    df_new = yf.download(name,start=dt.datetime.now()).reset_index()\n",
    "    df_new.to_sql(name,Indiaengine,if_exists='append',index=False)"
   ]
  },
  {
   "cell_type": "code",
   "execution_count": null,
   "metadata": {},
   "outputs": [],
   "source": []
  }
 ],
 "metadata": {
  "kernelspec": {
   "display_name": ".venv",
   "language": "python",
   "name": "python3"
  },
  "language_info": {
   "codemirror_mode": {
    "name": "ipython",
    "version": 3
   },
   "file_extension": ".py",
   "mimetype": "text/x-python",
   "name": "python",
   "nbconvert_exporter": "python",
   "pygments_lexer": "ipython3",
   "version": "3.11.2"
  }
 },
 "nbformat": 4,
 "nbformat_minor": 2
}
